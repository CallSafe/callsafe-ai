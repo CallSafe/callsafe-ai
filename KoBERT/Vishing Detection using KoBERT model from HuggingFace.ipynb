{
 "cells": [
  {
   "cell_type": "markdown",
   "id": "66b5a5e71c5d516",
   "metadata": {
    "collapsed": false,
    "jupyter": {
     "outputs_hidden": false
    }
   },
   "source": [
    "# Korean vishing Detection using KoBERT model from HuggingFace on TensorFlow"
   ]
  },
  {
   "cell_type": "markdown",
   "id": "5903846fa4717d84",
   "metadata": {
    "collapsed": false,
    "jupyter": {
     "outputs_hidden": false
    }
   },
   "source": [
    "## Install dependencies"
   ]
  },
  {
   "cell_type": "markdown",
   "id": "e9d99971e944e87d",
   "metadata": {
    "collapsed": false,
    "jupyter": {
     "outputs_hidden": false
    }
   },
   "source": [
    "Install the tensorFlow to work on GPU for WSL2 Ubuntu 20.04 LTS (Focal Fossa) on Windows 11 Pro as follows described in the [TensorFlow documentation](https://www.tensorflow.org/install/pip#windows-wsl2).\n",
    "1. Install WSL2\n",
    "2. Install the NVIDIA drive\n",
    "3. NVIDIA’s setup docs for CUDA in WSL2\n",
    "4. Install TensorFlow\n",
    "5. Verify the installation\n",
    "6. Install the transformers library\n",
    "7. Install the pandas library\n",
    "8. Install the numpy library\n",
    "9. Install the scikit-learn library\n",
    "10. Install the matplotlib library\n",
    "11. Install the seaborn library\n",
    "(optional)\n",
    "12. Install the tqdm library\n",
    "13. Install the sentencepiece library\n",
    "14. Install the pydot library\n",
    "15. Install the graphviz library"
   ]
  },
  {
   "cell_type": "code",
   "execution_count": 5,
   "id": "34cbe67316b21296",
   "metadata": {
    "ExecuteTime": {
     "end_time": "2023-12-08T05:59:56.382277300Z",
     "start_time": "2023-12-08T05:59:51.364015200Z"
    },
    "collapsed": false,
    "jupyter": {
     "outputs_hidden": false
    }
   },
   "outputs": [
    {
     "name": "stdout",
     "output_type": "stream",
     "text": [
      "Num GPUs Available:  0\n",
      "Num GPUs Available:  0\n",
      "Please install GPU version of TF\n"
     ]
    }
   ],
   "source": [
    "# Verify the installation:\n",
    "import tensorflow as tf\n",
    "print(\"Num GPUs Available: \", len(tf.config.list_physical_devices('GPU')))\n",
    "print(\"Num GPUs Available: \", len(tf.config.experimental.list_physical_devices('GPU')))\n",
    "\n",
    "# Check if TensorFlow is using GPU\n",
    "if tf.test.gpu_device_name():\n",
    "    print('Default GPU Device: {}'.format(tf.test.gpu_device_name()))\n",
    "else:\n",
    "    print(\"Please install GPU version of TF\")"
   ]
  },
  {
   "cell_type": "code",
   "execution_count": 10,
   "id": "initial_id",
   "metadata": {
    "ExecuteTime": {
     "end_time": "2023-12-08T05:59:56.383281500Z",
     "start_time": "2023-12-08T05:59:56.364278100Z"
    },
    "collapsed": false,
    "jupyter": {
     "outputs_hidden": false
    }
   },
   "outputs": [
    {
     "name": "stdout",
     "output_type": "stream",
     "text": [
      "Requirement already satisfied: transformers in c:\\users\\hye42\\korean_voice_phishing_detection\\venv\\lib\\site-packages (4.51.3)\n",
      "Requirement already satisfied: pandas in c:\\users\\hye42\\korean_voice_phishing_detection\\venv\\lib\\site-packages (2.2.3)\n",
      "Requirement already satisfied: numpy in c:\\users\\hye42\\korean_voice_phishing_detection\\venv\\lib\\site-packages (2.1.3)\n",
      "Requirement already satisfied: filelock in c:\\users\\hye42\\korean_voice_phishing_detection\\venv\\lib\\site-packages (from transformers) (3.18.0)\n",
      "Requirement already satisfied: huggingface-hub<1.0,>=0.30.0 in c:\\users\\hye42\\korean_voice_phishing_detection\\venv\\lib\\site-packages (from transformers) (0.34.3)\n",
      "Requirement already satisfied: packaging>=20.0 in c:\\users\\hye42\\korean_voice_phishing_detection\\venv\\lib\\site-packages (from transformers) (25.0)\n",
      "Requirement already satisfied: pyyaml>=5.1 in c:\\users\\hye42\\korean_voice_phishing_detection\\venv\\lib\\site-packages (from transformers) (6.0.2)\n",
      "Requirement already satisfied: regex!=2019.12.17 in c:\\users\\hye42\\korean_voice_phishing_detection\\venv\\lib\\site-packages (from transformers) (2024.11.6)\n",
      "Requirement already satisfied: requests in c:\\users\\hye42\\korean_voice_phishing_detection\\venv\\lib\\site-packages (from transformers) (2.32.4)\n",
      "Requirement already satisfied: tokenizers<0.22,>=0.21 in c:\\users\\hye42\\korean_voice_phishing_detection\\venv\\lib\\site-packages (from transformers) (0.21.4)\n",
      "Requirement already satisfied: safetensors>=0.4.3 in c:\\users\\hye42\\korean_voice_phishing_detection\\venv\\lib\\site-packages (from transformers) (0.6.1)\n",
      "Requirement already satisfied: tqdm>=4.27 in c:\\users\\hye42\\korean_voice_phishing_detection\\venv\\lib\\site-packages (from transformers) (4.67.1)\n",
      "Requirement already satisfied: python-dateutil>=2.8.2 in c:\\users\\hye42\\korean_voice_phishing_detection\\venv\\lib\\site-packages (from pandas) (2.9.0.post0)\n",
      "Requirement already satisfied: pytz>=2020.1 in c:\\users\\hye42\\korean_voice_phishing_detection\\venv\\lib\\site-packages (from pandas) (2025.2)\n",
      "Requirement already satisfied: tzdata>=2022.7 in c:\\users\\hye42\\korean_voice_phishing_detection\\venv\\lib\\site-packages (from pandas) (2025.2)\n",
      "Requirement already satisfied: fsspec>=2023.5.0 in c:\\users\\hye42\\korean_voice_phishing_detection\\venv\\lib\\site-packages (from huggingface-hub<1.0,>=0.30.0->transformers) (2025.7.0)\n",
      "Requirement already satisfied: typing-extensions>=3.7.4.3 in c:\\users\\hye42\\korean_voice_phishing_detection\\venv\\lib\\site-packages (from huggingface-hub<1.0,>=0.30.0->transformers) (4.14.1)\n",
      "Requirement already satisfied: six>=1.5 in c:\\users\\hye42\\korean_voice_phishing_detection\\venv\\lib\\site-packages (from python-dateutil>=2.8.2->pandas) (1.17.0)\n",
      "Requirement already satisfied: colorama in c:\\users\\hye42\\korean_voice_phishing_detection\\venv\\lib\\site-packages (from tqdm>=4.27->transformers) (0.4.6)\n",
      "Requirement already satisfied: charset_normalizer<4,>=2 in c:\\users\\hye42\\korean_voice_phishing_detection\\venv\\lib\\site-packages (from requests->transformers) (3.4.2)\n",
      "Requirement already satisfied: idna<4,>=2.5 in c:\\users\\hye42\\korean_voice_phishing_detection\\venv\\lib\\site-packages (from requests->transformers) (3.10)\n",
      "Requirement already satisfied: urllib3<3,>=1.21.1 in c:\\users\\hye42\\korean_voice_phishing_detection\\venv\\lib\\site-packages (from requests->transformers) (2.5.0)\n",
      "Requirement already satisfied: certifi>=2017.4.17 in c:\\users\\hye42\\korean_voice_phishing_detection\\venv\\lib\\site-packages (from requests->transformers) (2025.8.3)\n"
     ]
    },
    {
     "name": "stderr",
     "output_type": "stream",
     "text": [
      "\n",
      "[notice] A new release of pip is available: 23.2.1 -> 25.2\n",
      "[notice] To update, run: python.exe -m pip install --upgrade pip\n"
     ]
    }
   ],
   "source": [
    "!pip install transformers pandas numpy"
   ]
  },
  {
   "cell_type": "code",
   "execution_count": 11,
   "id": "8057bd8275a75175",
   "metadata": {
    "ExecuteTime": {
     "end_time": "2023-12-08T05:59:56.383281500Z",
     "start_time": "2023-12-08T05:59:56.368280Z"
    },
    "collapsed": false,
    "jupyter": {
     "outputs_hidden": false
    }
   },
   "outputs": [
    {
     "name": "stdout",
     "output_type": "stream",
     "text": [
      "Requirement already satisfied: pip in c:\\users\\hye42\\korean_voice_phishing_detection\\venv\\lib\\site-packages (23.2.1)\n",
      "Collecting pip\n",
      "  Obtaining dependency information for pip from https://files.pythonhosted.org/packages/b7/3f/945ef7ab14dc4f9d7f40288d2df998d1837ee0888ec3659c813487572faa/pip-25.2-py3-none-any.whl.metadata\n",
      "  Downloading pip-25.2-py3-none-any.whl.metadata (4.7 kB)\n",
      "Downloading pip-25.2-py3-none-any.whl (1.8 MB)\n",
      "   ---------------------------------------- 0.0/1.8 MB ? eta -:--:--\n",
      "    --------------------------------------- 0.0/1.8 MB 1.4 MB/s eta 0:00:02\n",
      "   ----- ---------------------------------- 0.2/1.8 MB 4.6 MB/s eta 0:00:01\n",
      "   -------------------------- ------------- 1.2/1.8 MB 10.7 MB/s eta 0:00:01\n",
      "   ---------------------------------------- 1.8/1.8 MB 12.4 MB/s eta 0:00:00\n"
     ]
    },
    {
     "name": "stderr",
     "output_type": "stream",
     "text": [
      "ERROR: To modify pip, please run the following command:\n",
      "C:\\Users\\hye42\\Korean_Voice_Phishing_Detection\\venv\\Scripts\\python.exe -m pip install --upgrade pip\n",
      "\n",
      "[notice] A new release of pip is available: 23.2.1 -> 25.2\n",
      "[notice] To update, run: python.exe -m pip install --upgrade pip\n"
     ]
    }
   ],
   "source": [
    "!pip install --upgrade pip"
   ]
  },
  {
   "cell_type": "code",
   "execution_count": 13,
   "id": "a31387707392daff",
   "metadata": {
    "ExecuteTime": {
     "end_time": "2023-12-08T05:59:56.393279300Z",
     "start_time": "2023-12-08T05:59:56.380278600Z"
    },
    "collapsed": false,
    "jupyter": {
     "outputs_hidden": false
    }
   },
   "outputs": [
    {
     "name": "stdout",
     "output_type": "stream",
     "text": [
      "Requirement already satisfied: tensorflow in c:\\users\\hye42\\korean_voice_phishing_detection\\venv\\lib\\site-packages (2.19.0)\n",
      "Requirement already satisfied: absl-py>=1.0.0 in c:\\users\\hye42\\korean_voice_phishing_detection\\venv\\lib\\site-packages (from tensorflow) (2.3.1)\n",
      "Requirement already satisfied: astunparse>=1.6.0 in c:\\users\\hye42\\korean_voice_phishing_detection\\venv\\lib\\site-packages (from tensorflow) (1.6.3)\n",
      "Requirement already satisfied: flatbuffers>=24.3.25 in c:\\users\\hye42\\korean_voice_phishing_detection\\venv\\lib\\site-packages (from tensorflow) (25.2.10)\n",
      "Requirement already satisfied: gast!=0.5.0,!=0.5.1,!=0.5.2,>=0.2.1 in c:\\users\\hye42\\korean_voice_phishing_detection\\venv\\lib\\site-packages (from tensorflow) (0.6.0)\n",
      "Requirement already satisfied: google-pasta>=0.1.1 in c:\\users\\hye42\\korean_voice_phishing_detection\\venv\\lib\\site-packages (from tensorflow) (0.2.0)\n",
      "Requirement already satisfied: libclang>=13.0.0 in c:\\users\\hye42\\korean_voice_phishing_detection\\venv\\lib\\site-packages (from tensorflow) (18.1.1)\n",
      "Requirement already satisfied: opt-einsum>=2.3.2 in c:\\users\\hye42\\korean_voice_phishing_detection\\venv\\lib\\site-packages (from tensorflow) (3.4.0)\n",
      "Requirement already satisfied: packaging in c:\\users\\hye42\\korean_voice_phishing_detection\\venv\\lib\\site-packages (from tensorflow) (25.0)\n",
      "Requirement already satisfied: protobuf!=4.21.0,!=4.21.1,!=4.21.2,!=4.21.3,!=4.21.4,!=4.21.5,<6.0.0dev,>=3.20.3 in c:\\users\\hye42\\korean_voice_phishing_detection\\venv\\lib\\site-packages (from tensorflow) (5.29.5)\n",
      "Requirement already satisfied: requests<3,>=2.21.0 in c:\\users\\hye42\\korean_voice_phishing_detection\\venv\\lib\\site-packages (from tensorflow) (2.32.4)\n",
      "Requirement already satisfied: setuptools in c:\\users\\hye42\\korean_voice_phishing_detection\\venv\\lib\\site-packages (from tensorflow) (72.1.0)\n",
      "Requirement already satisfied: six>=1.12.0 in c:\\users\\hye42\\korean_voice_phishing_detection\\venv\\lib\\site-packages (from tensorflow) (1.17.0)\n",
      "Requirement already satisfied: termcolor>=1.1.0 in c:\\users\\hye42\\korean_voice_phishing_detection\\venv\\lib\\site-packages (from tensorflow) (3.1.0)\n",
      "Requirement already satisfied: typing-extensions>=3.6.6 in c:\\users\\hye42\\korean_voice_phishing_detection\\venv\\lib\\site-packages (from tensorflow) (4.14.1)\n",
      "Requirement already satisfied: wrapt>=1.11.0 in c:\\users\\hye42\\korean_voice_phishing_detection\\venv\\lib\\site-packages (from tensorflow) (1.17.2)\n",
      "Requirement already satisfied: grpcio<2.0,>=1.24.3 in c:\\users\\hye42\\korean_voice_phishing_detection\\venv\\lib\\site-packages (from tensorflow) (1.74.0)\n",
      "Requirement already satisfied: tensorboard~=2.19.0 in c:\\users\\hye42\\korean_voice_phishing_detection\\venv\\lib\\site-packages (from tensorflow) (2.19.0)\n",
      "Requirement already satisfied: keras>=3.5.0 in c:\\users\\hye42\\korean_voice_phishing_detection\\venv\\lib\\site-packages (from tensorflow) (3.11.1)\n",
      "Requirement already satisfied: numpy<2.2.0,>=1.26.0 in c:\\users\\hye42\\korean_voice_phishing_detection\\venv\\lib\\site-packages (from tensorflow) (2.1.3)\n",
      "Requirement already satisfied: h5py>=3.11.0 in c:\\users\\hye42\\korean_voice_phishing_detection\\venv\\lib\\site-packages (from tensorflow) (3.14.0)\n",
      "Requirement already satisfied: ml-dtypes<1.0.0,>=0.5.1 in c:\\users\\hye42\\korean_voice_phishing_detection\\venv\\lib\\site-packages (from tensorflow) (0.5.3)\n",
      "Requirement already satisfied: tensorflow-io-gcs-filesystem>=0.23.1 in c:\\users\\hye42\\korean_voice_phishing_detection\\venv\\lib\\site-packages (from tensorflow) (0.31.0)\n",
      "Requirement already satisfied: wheel<1.0,>=0.23.0 in c:\\users\\hye42\\korean_voice_phishing_detection\\venv\\lib\\site-packages (from astunparse>=1.6.0->tensorflow) (0.45.1)\n",
      "Requirement already satisfied: rich in c:\\users\\hye42\\korean_voice_phishing_detection\\venv\\lib\\site-packages (from keras>=3.5.0->tensorflow) (14.1.0)\n",
      "Requirement already satisfied: namex in c:\\users\\hye42\\korean_voice_phishing_detection\\venv\\lib\\site-packages (from keras>=3.5.0->tensorflow) (0.1.0)\n",
      "Requirement already satisfied: optree in c:\\users\\hye42\\korean_voice_phishing_detection\\venv\\lib\\site-packages (from keras>=3.5.0->tensorflow) (0.17.0)\n",
      "Requirement already satisfied: charset_normalizer<4,>=2 in c:\\users\\hye42\\korean_voice_phishing_detection\\venv\\lib\\site-packages (from requests<3,>=2.21.0->tensorflow) (3.4.2)\n",
      "Requirement already satisfied: idna<4,>=2.5 in c:\\users\\hye42\\korean_voice_phishing_detection\\venv\\lib\\site-packages (from requests<3,>=2.21.0->tensorflow) (3.10)\n",
      "Requirement already satisfied: urllib3<3,>=1.21.1 in c:\\users\\hye42\\korean_voice_phishing_detection\\venv\\lib\\site-packages (from requests<3,>=2.21.0->tensorflow) (2.5.0)\n",
      "Requirement already satisfied: certifi>=2017.4.17 in c:\\users\\hye42\\korean_voice_phishing_detection\\venv\\lib\\site-packages (from requests<3,>=2.21.0->tensorflow) (2025.8.3)\n",
      "Requirement already satisfied: markdown>=2.6.8 in c:\\users\\hye42\\korean_voice_phishing_detection\\venv\\lib\\site-packages (from tensorboard~=2.19.0->tensorflow) (3.8.2)\n",
      "Requirement already satisfied: tensorboard-data-server<0.8.0,>=0.7.0 in c:\\users\\hye42\\korean_voice_phishing_detection\\venv\\lib\\site-packages (from tensorboard~=2.19.0->tensorflow) (0.7.2)\n",
      "Requirement already satisfied: werkzeug>=1.0.1 in c:\\users\\hye42\\korean_voice_phishing_detection\\venv\\lib\\site-packages (from tensorboard~=2.19.0->tensorflow) (3.1.3)\n",
      "Requirement already satisfied: MarkupSafe>=2.1.1 in c:\\users\\hye42\\korean_voice_phishing_detection\\venv\\lib\\site-packages (from werkzeug>=1.0.1->tensorboard~=2.19.0->tensorflow) (3.0.2)\n",
      "Requirement already satisfied: markdown-it-py>=2.2.0 in c:\\users\\hye42\\korean_voice_phishing_detection\\venv\\lib\\site-packages (from rich->keras>=3.5.0->tensorflow) (3.0.0)\n",
      "Requirement already satisfied: pygments<3.0.0,>=2.13.0 in c:\\users\\hye42\\korean_voice_phishing_detection\\venv\\lib\\site-packages (from rich->keras>=3.5.0->tensorflow) (2.19.2)\n",
      "Requirement already satisfied: mdurl~=0.1 in c:\\users\\hye42\\korean_voice_phishing_detection\\venv\\lib\\site-packages (from markdown-it-py>=2.2.0->rich->keras>=3.5.0->tensorflow) (0.1.2)\n"
     ]
    },
    {
     "name": "stderr",
     "output_type": "stream",
     "text": [
      "\n",
      "[notice] A new release of pip is available: 23.2.1 -> 25.2\n",
      "[notice] To update, run: python.exe -m pip install --upgrade pip\n"
     ]
    },
    {
     "name": "stdout",
     "output_type": "stream",
     "text": [
      "Requirement already satisfied: tensorflow[and-cuda] in c:\\users\\hye42\\korean_voice_phishing_detection\\venv\\lib\\site-packages (2.19.0)\n",
      "Requirement already satisfied: absl-py>=1.0.0 in c:\\users\\hye42\\korean_voice_phishing_detection\\venv\\lib\\site-packages (from tensorflow[and-cuda]) (2.3.1)\n",
      "Requirement already satisfied: astunparse>=1.6.0 in c:\\users\\hye42\\korean_voice_phishing_detection\\venv\\lib\\site-packages (from tensorflow[and-cuda]) (1.6.3)\n",
      "Requirement already satisfied: flatbuffers>=24.3.25 in c:\\users\\hye42\\korean_voice_phishing_detection\\venv\\lib\\site-packages (from tensorflow[and-cuda]) (25.2.10)\n",
      "Requirement already satisfied: gast!=0.5.0,!=0.5.1,!=0.5.2,>=0.2.1 in c:\\users\\hye42\\korean_voice_phishing_detection\\venv\\lib\\site-packages (from tensorflow[and-cuda]) (0.6.0)\n",
      "Requirement already satisfied: google-pasta>=0.1.1 in c:\\users\\hye42\\korean_voice_phishing_detection\\venv\\lib\\site-packages (from tensorflow[and-cuda]) (0.2.0)\n",
      "Requirement already satisfied: libclang>=13.0.0 in c:\\users\\hye42\\korean_voice_phishing_detection\\venv\\lib\\site-packages (from tensorflow[and-cuda]) (18.1.1)\n",
      "Requirement already satisfied: opt-einsum>=2.3.2 in c:\\users\\hye42\\korean_voice_phishing_detection\\venv\\lib\\site-packages (from tensorflow[and-cuda]) (3.4.0)\n",
      "Requirement already satisfied: packaging in c:\\users\\hye42\\korean_voice_phishing_detection\\venv\\lib\\site-packages (from tensorflow[and-cuda]) (25.0)\n",
      "Requirement already satisfied: protobuf!=4.21.0,!=4.21.1,!=4.21.2,!=4.21.3,!=4.21.4,!=4.21.5,<6.0.0dev,>=3.20.3 in c:\\users\\hye42\\korean_voice_phishing_detection\\venv\\lib\\site-packages (from tensorflow[and-cuda]) (5.29.5)\n",
      "Requirement already satisfied: requests<3,>=2.21.0 in c:\\users\\hye42\\korean_voice_phishing_detection\\venv\\lib\\site-packages (from tensorflow[and-cuda]) (2.32.4)\n",
      "Requirement already satisfied: setuptools in c:\\users\\hye42\\korean_voice_phishing_detection\\venv\\lib\\site-packages (from tensorflow[and-cuda]) (72.1.0)\n",
      "Requirement already satisfied: six>=1.12.0 in c:\\users\\hye42\\korean_voice_phishing_detection\\venv\\lib\\site-packages (from tensorflow[and-cuda]) (1.17.0)\n",
      "Requirement already satisfied: termcolor>=1.1.0 in c:\\users\\hye42\\korean_voice_phishing_detection\\venv\\lib\\site-packages (from tensorflow[and-cuda]) (3.1.0)\n",
      "Requirement already satisfied: typing-extensions>=3.6.6 in c:\\users\\hye42\\korean_voice_phishing_detection\\venv\\lib\\site-packages (from tensorflow[and-cuda]) (4.14.1)\n",
      "Requirement already satisfied: wrapt>=1.11.0 in c:\\users\\hye42\\korean_voice_phishing_detection\\venv\\lib\\site-packages (from tensorflow[and-cuda]) (1.17.2)\n",
      "Requirement already satisfied: grpcio<2.0,>=1.24.3 in c:\\users\\hye42\\korean_voice_phishing_detection\\venv\\lib\\site-packages (from tensorflow[and-cuda]) (1.74.0)\n",
      "Requirement already satisfied: tensorboard~=2.19.0 in c:\\users\\hye42\\korean_voice_phishing_detection\\venv\\lib\\site-packages (from tensorflow[and-cuda]) (2.19.0)\n",
      "Requirement already satisfied: keras>=3.5.0 in c:\\users\\hye42\\korean_voice_phishing_detection\\venv\\lib\\site-packages (from tensorflow[and-cuda]) (3.11.1)\n",
      "Requirement already satisfied: numpy<2.2.0,>=1.26.0 in c:\\users\\hye42\\korean_voice_phishing_detection\\venv\\lib\\site-packages (from tensorflow[and-cuda]) (2.1.3)\n",
      "Requirement already satisfied: h5py>=3.11.0 in c:\\users\\hye42\\korean_voice_phishing_detection\\venv\\lib\\site-packages (from tensorflow[and-cuda]) (3.14.0)\n",
      "Requirement already satisfied: ml-dtypes<1.0.0,>=0.5.1 in c:\\users\\hye42\\korean_voice_phishing_detection\\venv\\lib\\site-packages (from tensorflow[and-cuda]) (0.5.3)\n",
      "Requirement already satisfied: tensorflow-io-gcs-filesystem>=0.23.1 in c:\\users\\hye42\\korean_voice_phishing_detection\\venv\\lib\\site-packages (from tensorflow[and-cuda]) (0.31.0)\n",
      "Collecting nvidia-cublas-cu12==12.5.3.2 (from tensorflow[and-cuda])\n",
      "  Obtaining dependency information for nvidia-cublas-cu12==12.5.3.2 from https://files.pythonhosted.org/packages/50/18/d32d9ea61a6df42b3887b4a8acb6edcf81bd2cf787c8dbf759f1e63f1414/nvidia_cublas_cu12-12.5.3.2-py3-none-win_amd64.whl.metadata\n",
      "  Downloading nvidia_cublas_cu12-12.5.3.2-py3-none-win_amd64.whl.metadata (1.5 kB)\n",
      "Collecting nvidia-cuda-cupti-cu12==12.5.82 (from tensorflow[and-cuda])\n",
      "  Obtaining dependency information for nvidia-cuda-cupti-cu12==12.5.82 from https://files.pythonhosted.org/packages/7a/11/56bd2b1e7c12f03bf60f6ac37be3a8c8f020803bee46888d768d94ca7c2f/nvidia_cuda_cupti_cu12-12.5.82-py3-none-win_amd64.whl.metadata\n",
      "  Downloading nvidia_cuda_cupti_cu12-12.5.82-py3-none-win_amd64.whl.metadata (1.6 kB)\n",
      "Collecting nvidia-cuda-nvcc-cu12==12.5.82 (from tensorflow[and-cuda])\n",
      "  Obtaining dependency information for nvidia-cuda-nvcc-cu12==12.5.82 from https://files.pythonhosted.org/packages/91/c2/8c80e81aa1bb59bf7b1260cc62c1c58759a540331a006d84b96f428c7437/nvidia_cuda_nvcc_cu12-12.5.82-py3-none-win_amd64.whl.metadata\n",
      "  Downloading nvidia_cuda_nvcc_cu12-12.5.82-py3-none-win_amd64.whl.metadata (1.5 kB)\n",
      "Collecting nvidia-cuda-nvrtc-cu12==12.5.82 (from tensorflow[and-cuda])\n",
      "  Obtaining dependency information for nvidia-cuda-nvrtc-cu12==12.5.82 from https://files.pythonhosted.org/packages/46/3f/a45978aeef7d08432c678cd0ca40f56e14e856fd3023d6e5e94bf84ffc8d/nvidia_cuda_nvrtc_cu12-12.5.82-py3-none-win_amd64.whl.metadata\n",
      "  Downloading nvidia_cuda_nvrtc_cu12-12.5.82-py3-none-win_amd64.whl.metadata (1.5 kB)\n",
      "Collecting nvidia-cuda-runtime-cu12==12.5.82 (from tensorflow[and-cuda])\n",
      "  Obtaining dependency information for nvidia-cuda-runtime-cu12==12.5.82 from https://files.pythonhosted.org/packages/e0/86/f1d75289fddaffafe6ff80e620807319b856859d83cbceda05827c0723e3/nvidia_cuda_runtime_cu12-12.5.82-py3-none-win_amd64.whl.metadata\n",
      "  Downloading nvidia_cuda_runtime_cu12-12.5.82-py3-none-win_amd64.whl.metadata (1.5 kB)\n",
      "Collecting nvidia-cudnn-cu12==9.3.0.75 (from tensorflow[and-cuda])\n",
      "  Obtaining dependency information for nvidia-cudnn-cu12==9.3.0.75 from https://files.pythonhosted.org/packages/ba/bf/230b3b911345ba339f8b2e5ca18f860690e7327ad2d311826f41f1ead388/nvidia_cudnn_cu12-9.3.0.75-py3-none-win_amd64.whl.metadata\n",
      "  Downloading nvidia_cudnn_cu12-9.3.0.75-py3-none-win_amd64.whl.metadata (1.6 kB)\n",
      "Collecting nvidia-cufft-cu12==11.2.3.61 (from tensorflow[and-cuda])\n",
      "  Obtaining dependency information for nvidia-cufft-cu12==11.2.3.61 from https://files.pythonhosted.org/packages/97/d7/045307b0c4fb19e1200c73620191e466d23723ed94e95c9417c699ced5ff/nvidia_cufft_cu12-11.2.3.61-py3-none-win_amd64.whl.metadata\n",
      "  Downloading nvidia_cufft_cu12-11.2.3.61-py3-none-win_amd64.whl.metadata (1.5 kB)\n",
      "Collecting nvidia-curand-cu12==10.3.6.82 (from tensorflow[and-cuda])\n",
      "  Obtaining dependency information for nvidia-curand-cu12==10.3.6.82 from https://files.pythonhosted.org/packages/6f/cd/435f4864b95cff087b9b1d249d09835a77bd7268fe151bc5d085ff68ea82/nvidia_curand_cu12-10.3.6.82-py3-none-win_amd64.whl.metadata\n",
      "  Downloading nvidia_curand_cu12-10.3.6.82-py3-none-win_amd64.whl.metadata (1.5 kB)\n",
      "Collecting nvidia-cusolver-cu12==11.6.3.83 (from tensorflow[and-cuda])\n",
      "  Obtaining dependency information for nvidia-cusolver-cu12==11.6.3.83 from https://files.pythonhosted.org/packages/9e/4b/67c7a35811f6e1720bbfd391fc86c83f82b1b19345ff14dfc85e2e1a45a9/nvidia_cusolver_cu12-11.6.3.83-py3-none-win_amd64.whl.metadata\n",
      "  Downloading nvidia_cusolver_cu12-11.6.3.83-py3-none-win_amd64.whl.metadata (1.6 kB)\n",
      "Collecting nvidia-cusparse-cu12==12.5.1.3 (from tensorflow[and-cuda])\n",
      "  Obtaining dependency information for nvidia-cusparse-cu12==12.5.1.3 from https://files.pythonhosted.org/packages/4d/69/26ca389e84fbe5fab7dc72638c570a259efe5fb2872dbc62855dda2becbf/nvidia_cusparse_cu12-12.5.1.3-py3-none-win_amd64.whl.metadata\n",
      "  Downloading nvidia_cusparse_cu12-12.5.1.3-py3-none-win_amd64.whl.metadata (1.6 kB)\n",
      "INFO: pip is looking at multiple versions of tensorflow[and-cuda] to determine which version is compatible with other requirements. This could take a while.\n",
      "Collecting tensorflow[and-cuda]\n",
      "  Obtaining dependency information for tensorflow[and-cuda] from https://files.pythonhosted.org/packages/28/2a/5f5ade4be81e521a16e143234747570ffd0d1a90e001ecc2688aa54bb419/tensorflow-2.18.1-cp311-cp311-win_amd64.whl.metadata\n",
      "  Downloading tensorflow-2.18.1-cp311-cp311-win_amd64.whl.metadata (4.1 kB)\n",
      "Collecting tensorboard<2.19,>=2.18 (from tensorflow[and-cuda])\n",
      "  Obtaining dependency information for tensorboard<2.19,>=2.18 from https://files.pythonhosted.org/packages/b1/de/021c1d407befb505791764ad2cbd56ceaaa53a746baed01d2e2143f05f18/tensorboard-2.18.0-py3-none-any.whl.metadata\n",
      "  Downloading tensorboard-2.18.0-py3-none-any.whl.metadata (1.6 kB)\n",
      "Collecting numpy<2.1.0,>=1.26.0 (from tensorflow[and-cuda])\n",
      "  Obtaining dependency information for numpy<2.1.0,>=1.26.0 from https://files.pythonhosted.org/packages/eb/57/3a3f14d3a759dcf9bf6e9eda905794726b758819df4663f217d658a58695/numpy-2.0.2-cp311-cp311-win_amd64.whl.metadata\n",
      "  Downloading numpy-2.0.2-cp311-cp311-win_amd64.whl.metadata (59 kB)\n",
      "     ---------------------------------------- 0.0/59.7 kB ? eta -:--:--\n",
      "     ---------------------------------------- 59.7/59.7 kB 1.6 MB/s eta 0:00:00\n",
      "Collecting tensorflow[and-cuda]\n",
      "  Obtaining dependency information for tensorflow[and-cuda] from https://files.pythonhosted.org/packages/cf/24/271e77c22724f370c24c705f394b8035b4d27e4c2c6339f3f45ab9b8258e/tensorflow-2.18.0-cp311-cp311-win_amd64.whl.metadata\n",
      "  Downloading tensorflow-2.18.0-cp311-cp311-win_amd64.whl.metadata (3.3 kB)\n",
      "Collecting tensorflow-intel==2.18.0 (from tensorflow[and-cuda])\n",
      "  Obtaining dependency information for tensorflow-intel==2.18.0 from https://files.pythonhosted.org/packages/76/ad/fa6c508a15ff79cb5409294c293388e0999b7d480f84b65e4287277434fe/tensorflow_intel-2.18.0-cp311-cp311-win_amd64.whl.metadata\n",
      "  Downloading tensorflow_intel-2.18.0-cp311-cp311-win_amd64.whl.metadata (4.9 kB)\n",
      "Collecting tensorflow[and-cuda]\n",
      "  Obtaining dependency information for tensorflow[and-cuda] from https://files.pythonhosted.org/packages/c0/e6/8dbd20c4942b578aa18ef61e8d7858ddbd3650bbea731539c1fdadbaa466/tensorflow-2.17.1-cp311-cp311-win_amd64.whl.metadata\n",
      "  Downloading tensorflow-2.17.1-cp311-cp311-win_amd64.whl.metadata (3.3 kB)\n",
      "Collecting tensorflow-intel==2.17.1 (from tensorflow[and-cuda])\n",
      "  Obtaining dependency information for tensorflow-intel==2.17.1 from https://files.pythonhosted.org/packages/00/ae/60aa6a9120cfe5d26cf8f4dff7248b2fe25798d036d58afecf1da4ff0528/tensorflow_intel-2.17.1-cp311-cp311-win_amd64.whl.metadata\n",
      "  Downloading tensorflow_intel-2.17.1-cp311-cp311-win_amd64.whl.metadata (5.0 kB)\n",
      "Collecting nvidia-cublas-cu12==12.3.4.1 (from tensorflow[and-cuda])\n",
      "  Obtaining dependency information for nvidia-cublas-cu12==12.3.4.1 from https://files.pythonhosted.org/packages/45/c8/ce94cc3875f0b2f9fe051527e42d09f79c173f8cf94f9a1863d3c586442a/nvidia_cublas_cu12-12.3.4.1-py3-none-win_amd64.whl.metadata\n",
      "  Downloading nvidia_cublas_cu12-12.3.4.1-py3-none-win_amd64.whl.metadata (1.5 kB)\n",
      "Collecting nvidia-cuda-cupti-cu12==12.3.101 (from tensorflow[and-cuda])\n",
      "  Obtaining dependency information for nvidia-cuda-cupti-cu12==12.3.101 from https://files.pythonhosted.org/packages/92/a7/9d8a4b6dba9788fd7667cb2fc8f282e5ee9b23d3a521ec5e52658aa22291/nvidia_cuda_cupti_cu12-12.3.101-py3-none-win_amd64.whl.metadata\n",
      "  Downloading nvidia_cuda_cupti_cu12-12.3.101-py3-none-win_amd64.whl.metadata (1.6 kB)\n",
      "Collecting nvidia-cuda-nvcc-cu12==12.3.107 (from tensorflow[and-cuda])\n",
      "  Obtaining dependency information for nvidia-cuda-nvcc-cu12==12.3.107 from https://files.pythonhosted.org/packages/af/49/8f40bfa0bef5da26549dbae6df2112c7dbc69a395d784f320711ff024823/nvidia_cuda_nvcc_cu12-12.3.107-py3-none-win_amd64.whl.metadata\n",
      "  Downloading nvidia_cuda_nvcc_cu12-12.3.107-py3-none-win_amd64.whl.metadata (1.5 kB)\n",
      "Collecting nvidia-cuda-nvrtc-cu12==12.3.107 (from tensorflow[and-cuda])\n",
      "  Obtaining dependency information for nvidia-cuda-nvrtc-cu12==12.3.107 from https://files.pythonhosted.org/packages/2e/e9/d7105d983df9164c59a16907900f5af891d95e087d3d830dcdd696ea374e/nvidia_cuda_nvrtc_cu12-12.3.107-py3-none-win_amd64.whl.metadata\n",
      "  Downloading nvidia_cuda_nvrtc_cu12-12.3.107-py3-none-win_amd64.whl.metadata (1.5 kB)\n",
      "Collecting nvidia-cuda-runtime-cu12==12.3.101 (from tensorflow[and-cuda])\n",
      "  Obtaining dependency information for nvidia-cuda-runtime-cu12==12.3.101 from https://files.pythonhosted.org/packages/69/d5/3aef823a40247ecbd6a9b97a4419f6c71c89a9a0effe7c3cd8217d77eed4/nvidia_cuda_runtime_cu12-12.3.101-py3-none-win_amd64.whl.metadata\n",
      "  Downloading nvidia_cuda_runtime_cu12-12.3.101-py3-none-win_amd64.whl.metadata (1.5 kB)\n",
      "Collecting nvidia-cudnn-cu12==8.9.7.29 (from tensorflow[and-cuda])\n",
      "  Obtaining dependency information for nvidia-cudnn-cu12==8.9.7.29 from https://files.pythonhosted.org/packages/25/87/b378ca9ac1f91ff68dadf517f9f804a5992315dfa5001efc46fc5966fa4d/nvidia_cudnn_cu12-8.9.7.29-py3-none-win_amd64.whl.metadata\n",
      "  Downloading nvidia_cudnn_cu12-8.9.7.29-py3-none-win_amd64.whl.metadata (1.6 kB)\n",
      "Collecting nvidia-cufft-cu12==11.0.12.1 (from tensorflow[and-cuda])\n",
      "  Obtaining dependency information for nvidia-cufft-cu12==11.0.12.1 from https://files.pythonhosted.org/packages/f7/5e/8fad8d070090dcacf63d89b268851c2e1568c0bcbe50bf48e5a6bf2c2fed/nvidia_cufft_cu12-11.0.12.1-py3-none-win_amd64.whl.metadata\n",
      "  Downloading nvidia_cufft_cu12-11.0.12.1-py3-none-win_amd64.whl.metadata (1.5 kB)\n",
      "Collecting nvidia-curand-cu12==10.3.4.107 (from tensorflow[and-cuda])\n",
      "  Obtaining dependency information for nvidia-curand-cu12==10.3.4.107 from https://files.pythonhosted.org/packages/be/50/40f2496714f8d10bdaae79da49858cf1d4c46393bb06c96d0c9b81f6e838/nvidia_curand_cu12-10.3.4.107-py3-none-win_amd64.whl.metadata\n",
      "  Downloading nvidia_curand_cu12-10.3.4.107-py3-none-win_amd64.whl.metadata (1.5 kB)\n",
      "Collecting nvidia-cusolver-cu12==11.5.4.101 (from tensorflow[and-cuda])\n",
      "  Obtaining dependency information for nvidia-cusolver-cu12==11.5.4.101 from https://files.pythonhosted.org/packages/47/11/9150b340533b1602355397ff34e7216716b69070af52079dd274b53ccd20/nvidia_cusolver_cu12-11.5.4.101-py3-none-win_amd64.whl.metadata\n",
      "  Downloading nvidia_cusolver_cu12-11.5.4.101-py3-none-win_amd64.whl.metadata (1.6 kB)\n",
      "Collecting nvidia-cusparse-cu12==12.2.0.103 (from tensorflow[and-cuda])\n",
      "  Obtaining dependency information for nvidia-cusparse-cu12==12.2.0.103 from https://files.pythonhosted.org/packages/d1/1e/ffb225a4ec36bfb8f5537ed1461dab2256efada19218a2a34dcd7dfc21e6/nvidia_cusparse_cu12-12.2.0.103-py3-none-win_amd64.whl.metadata\n",
      "  Downloading nvidia_cusparse_cu12-12.2.0.103-py3-none-win_amd64.whl.metadata (1.6 kB)\n",
      "Collecting tensorflow[and-cuda]\n",
      "  Obtaining dependency information for tensorflow[and-cuda] from https://files.pythonhosted.org/packages/ed/b6/62345568cd07de5d9254fcf64d7e44aacbb6abde11ea953b3cb320e58d19/tensorflow-2.17.0-cp311-cp311-win_amd64.whl.metadata\n",
      "  Downloading tensorflow-2.17.0-cp311-cp311-win_amd64.whl.metadata (3.2 kB)\n",
      "Collecting tensorflow-intel==2.17.0 (from tensorflow[and-cuda])\n",
      "  Obtaining dependency information for tensorflow-intel==2.17.0 from https://files.pythonhosted.org/packages/66/03/5c447feceb72f5a38ac2aa79d306fa5b5772f982c2b480c1329c7e382900/tensorflow_intel-2.17.0-cp311-cp311-win_amd64.whl.metadata\n",
      "  Downloading tensorflow_intel-2.17.0-cp311-cp311-win_amd64.whl.metadata (5.0 kB)\n",
      "Collecting tensorflow[and-cuda]\n",
      "  Obtaining dependency information for tensorflow[and-cuda] from https://files.pythonhosted.org/packages/1f/97/dec9dfa95cfbee631adffbeb0b7eda51ddc93a5f7e8aa8f4d95dde59e69e/tensorflow-2.16.2-cp311-cp311-win_amd64.whl.metadata\n",
      "  Downloading tensorflow-2.16.2-cp311-cp311-win_amd64.whl.metadata (3.3 kB)\n",
      "Collecting tensorflow-intel==2.16.2 (from tensorflow[and-cuda])\n",
      "  Obtaining dependency information for tensorflow-intel==2.16.2 from https://files.pythonhosted.org/packages/46/87/c3e4e9fe7c630f38a6984afdd1d4ed531ef9c74dc66b86f46f6bdd89d608/tensorflow_intel-2.16.2-cp311-cp311-win_amd64.whl.metadata\n",
      "  Downloading tensorflow_intel-2.16.2-cp311-cp311-win_amd64.whl.metadata (5.0 kB)\n",
      "Collecting tensorflow[and-cuda]\n",
      "  Obtaining dependency information for tensorflow[and-cuda] from https://files.pythonhosted.org/packages/e4/14/d795bb156f8cc10eb1dcfe1332b7dbb8405b634688980aa9be8f885cc888/tensorflow-2.16.1-cp311-cp311-win_amd64.whl.metadata\n",
      "  Downloading tensorflow-2.16.1-cp311-cp311-win_amd64.whl.metadata (3.5 kB)\n",
      "Collecting tensorflow-intel==2.16.1 (from tensorflow[and-cuda])\n",
      "  Obtaining dependency information for tensorflow-intel==2.16.1 from https://files.pythonhosted.org/packages/e0/36/6278e4e7e69a90c00e0f82944d8f2713dd85a69d1add455d9e50446837ab/tensorflow_intel-2.16.1-cp311-cp311-win_amd64.whl.metadata\n",
      "  Downloading tensorflow_intel-2.16.1-cp311-cp311-win_amd64.whl.metadata (5.0 kB)\n",
      "Collecting tensorflow[and-cuda]\n",
      "  Obtaining dependency information for tensorflow[and-cuda] from https://files.pythonhosted.org/packages/cb/c5/f5b31ee348459d6f6c54d762488aa0a8e42ff11a7395f4d158915ad43000/tensorflow-2.15.1-cp311-cp311-win_amd64.whl.metadata\n",
      "  Downloading tensorflow-2.15.1-cp311-cp311-win_amd64.whl.metadata (3.4 kB)\n",
      "Collecting tensorflow-intel==2.15.1 (from tensorflow[and-cuda])\n",
      "  Obtaining dependency information for tensorflow-intel==2.15.1 from https://files.pythonhosted.org/packages/90/32/d0ec8fe173e8e1c38cd13d23d640c46232d211fbd6f3485d17a1950f3c38/tensorflow_intel-2.15.1-cp311-cp311-win_amd64.whl.metadata\n",
      "  Downloading tensorflow_intel-2.15.1-cp311-cp311-win_amd64.whl.metadata (4.9 kB)\n",
      "Collecting nvidia-cublas-cu12==12.2.5.6 (from tensorflow[and-cuda])\n",
      "  Obtaining dependency information for nvidia-cublas-cu12==12.2.5.6 from https://files.pythonhosted.org/packages/fd/79/02e883f2ec80c831292ec02862212b6131d4688f17376352fceb23bf9a60/nvidia_cublas_cu12-12.2.5.6-py3-none-win_amd64.whl.metadata\n",
      "  Downloading nvidia_cublas_cu12-12.2.5.6-py3-none-win_amd64.whl.metadata (1.5 kB)\n",
      "Collecting nvidia-cuda-cupti-cu12==12.2.142 (from tensorflow[and-cuda])\n",
      "  Obtaining dependency information for nvidia-cuda-cupti-cu12==12.2.142 from https://files.pythonhosted.org/packages/b5/15/1cdeec07d76aaf0c1a740e9c42d334f2f7d48279fa38c998c36e395c3b09/nvidia_cuda_cupti_cu12-12.2.142-py3-none-win_amd64.whl.metadata\n",
      "  Downloading nvidia_cuda_cupti_cu12-12.2.142-py3-none-win_amd64.whl.metadata (1.6 kB)\n",
      "Collecting nvidia-cuda-nvcc-cu12==12.2.140 (from tensorflow[and-cuda])\n",
      "  Obtaining dependency information for nvidia-cuda-nvcc-cu12==12.2.140 from https://files.pythonhosted.org/packages/61/e0/2eccdb53a9f14dc8f54f672bbb4d6ead9e477984af334c9fb220598163d2/nvidia_cuda_nvcc_cu12-12.2.140-py3-none-win_amd64.whl.metadata\n",
      "  Downloading nvidia_cuda_nvcc_cu12-12.2.140-py3-none-win_amd64.whl.metadata (1.5 kB)\n",
      "Collecting nvidia-cuda-nvrtc-cu12==12.2.140 (from tensorflow[and-cuda])\n",
      "  Obtaining dependency information for nvidia-cuda-nvrtc-cu12==12.2.140 from https://files.pythonhosted.org/packages/84/21/e3044b869d442a72a1670d83ce88e62fc69455588fb3cfdec0d559c9da49/nvidia_cuda_nvrtc_cu12-12.2.140-py3-none-win_amd64.whl.metadata\n",
      "  Downloading nvidia_cuda_nvrtc_cu12-12.2.140-py3-none-win_amd64.whl.metadata (1.5 kB)\n",
      "Collecting nvidia-cuda-runtime-cu12==12.2.140 (from tensorflow[and-cuda])\n",
      "  Obtaining dependency information for nvidia-cuda-runtime-cu12==12.2.140 from https://files.pythonhosted.org/packages/72/c0/2b5269b27d82ba2e6a8303be415f7fa2b4fffdbc495effb381f104b76608/nvidia_cuda_runtime_cu12-12.2.140-py3-none-win_amd64.whl.metadata\n",
      "  Downloading nvidia_cuda_runtime_cu12-12.2.140-py3-none-win_amd64.whl.metadata (1.5 kB)\n",
      "Collecting nvidia-cudnn-cu12==8.9.4.25 (from tensorflow[and-cuda])\n",
      "  Obtaining dependency information for nvidia-cudnn-cu12==8.9.4.25 from https://files.pythonhosted.org/packages/ac/18/1ee840b0505136358d1f031abaaab627d5fe135aeca6c4db81df94b486ef/nvidia_cudnn_cu12-8.9.4.25-py3-none-win_amd64.whl.metadata\n",
      "  Downloading nvidia_cudnn_cu12-8.9.4.25-py3-none-win_amd64.whl.metadata (1.6 kB)\n",
      "Collecting nvidia-cufft-cu12==11.0.8.103 (from tensorflow[and-cuda])\n",
      "  Obtaining dependency information for nvidia-cufft-cu12==11.0.8.103 from https://files.pythonhosted.org/packages/cd/ce/9a38f59f996356744e86e700958786cfde04abc7f389cfcf804d3daa0c49/nvidia_cufft_cu12-11.0.8.103-py3-none-win_amd64.whl.metadata\n",
      "  Downloading nvidia_cufft_cu12-11.0.8.103-py3-none-win_amd64.whl.metadata (1.5 kB)\n",
      "Collecting nvidia-curand-cu12==10.3.3.141 (from tensorflow[and-cuda])\n",
      "  Obtaining dependency information for nvidia-curand-cu12==10.3.3.141 from https://files.pythonhosted.org/packages/18/eb/89c73645c137139f07a68d53453cb9fce477dc28aa92f08a758d9dd1d592/nvidia_curand_cu12-10.3.3.141-py3-none-win_amd64.whl.metadata\n",
      "  Downloading nvidia_curand_cu12-10.3.3.141-py3-none-win_amd64.whl.metadata (1.5 kB)\n",
      "Collecting nvidia-cusolver-cu12==11.5.2.141 (from tensorflow[and-cuda])\n",
      "  Obtaining dependency information for nvidia-cusolver-cu12==11.5.2.141 from https://files.pythonhosted.org/packages/ee/94/8b81b86a24e7e51181eab6d903f0613f2a940b3f7a03edefae04864ffaaa/nvidia_cusolver_cu12-11.5.2.141-py3-none-win_amd64.whl.metadata\n",
      "  Downloading nvidia_cusolver_cu12-11.5.2.141-py3-none-win_amd64.whl.metadata (1.6 kB)\n",
      "Collecting nvidia-cusparse-cu12==12.1.2.141 (from tensorflow[and-cuda])\n",
      "  Obtaining dependency information for nvidia-cusparse-cu12==12.1.2.141 from https://files.pythonhosted.org/packages/37/ef/2604a641043733b2870c51fe98f63409d958da88bd1cb80b7fe060998d30/nvidia_cusparse_cu12-12.1.2.141-py3-none-win_amd64.whl.metadata\n",
      "  Downloading nvidia_cusparse_cu12-12.1.2.141-py3-none-win_amd64.whl.metadata (1.6 kB)\n",
      "INFO: pip is still looking at multiple versions of tensorflow[and-cuda] to determine which version is compatible with other requirements. This could take a while.\n",
      "Collecting tensorflow[and-cuda]\n",
      "  Obtaining dependency information for tensorflow[and-cuda] from https://files.pythonhosted.org/packages/93/21/9b035a4f823d6aee2917c75415be9a95861ff3d73a0a65e48edbf210cec1/tensorflow-2.15.0-cp311-cp311-win_amd64.whl.metadata\n",
      "  Downloading tensorflow-2.15.0-cp311-cp311-win_amd64.whl.metadata (3.6 kB)\n",
      "Collecting tensorflow-intel==2.15.0 (from tensorflow[and-cuda])\n",
      "  Obtaining dependency information for tensorflow-intel==2.15.0 from https://files.pythonhosted.org/packages/4c/48/1a5a15517f18eaa4ff8d598b1c000300b20c1bb0e624539d702117a0c369/tensorflow_intel-2.15.0-cp311-cp311-win_amd64.whl.metadata\n",
      "  Downloading tensorflow_intel-2.15.0-cp311-cp311-win_amd64.whl.metadata (5.1 kB)\n",
      "Collecting tensorflow[and-cuda]\n",
      "  Obtaining dependency information for tensorflow[and-cuda] from https://files.pythonhosted.org/packages/8b/30/b23b9dc5ff80012afacaabe3984bf4dac888843cde1e5e2ddfac40c1e1ea/tensorflow-2.14.1-cp311-cp311-win_amd64.whl.metadata\n",
      "  Downloading tensorflow-2.14.1-cp311-cp311-win_amd64.whl.metadata (3.3 kB)\n",
      "Collecting tensorflow-intel==2.14.1 (from tensorflow[and-cuda])\n",
      "  Obtaining dependency information for tensorflow-intel==2.14.1 from https://files.pythonhosted.org/packages/40/84/86346cbf492b68423deec89eca782a7ff408877f79e5370da9173d5dc7b0/tensorflow_intel-2.14.1-cp311-cp311-win_amd64.whl.metadata\n",
      "  Downloading tensorflow_intel-2.14.1-cp311-cp311-win_amd64.whl.metadata (4.8 kB)\n",
      "Collecting nvidia-cublas-cu11==11.11.3.6 (from tensorflow[and-cuda])\n",
      "  Obtaining dependency information for nvidia-cublas-cu11==11.11.3.6 from https://files.pythonhosted.org/packages/0b/1d/7a78cd36fd5e3da4021b3ac2c2c8b2651dd72345b7c3ecc0d3e051884f50/nvidia_cublas_cu11-11.11.3.6-py3-none-win_amd64.whl.metadata\n",
      "  Downloading nvidia_cublas_cu11-11.11.3.6-py3-none-win_amd64.whl.metadata (1.5 kB)\n",
      "Collecting nvidia-cuda-cupti-cu11==11.8.87 (from tensorflow[and-cuda])\n",
      "  Obtaining dependency information for nvidia-cuda-cupti-cu11==11.8.87 from https://files.pythonhosted.org/packages/9c/b9/371cff81be29e008a69f1681f468a2b428fa4ea03842196c178cb4cf1991/nvidia_cuda_cupti_cu11-11.8.87-py3-none-win_amd64.whl.metadata\n",
      "  Downloading nvidia_cuda_cupti_cu11-11.8.87-py3-none-win_amd64.whl.metadata (1.6 kB)\n",
      "Collecting nvidia-cuda-nvcc-cu11==11.8.89 (from tensorflow[and-cuda])\n",
      "  Obtaining dependency information for nvidia-cuda-nvcc-cu11==11.8.89 from https://files.pythonhosted.org/packages/e9/a5/6b10bd346c742a0fb464698aa5af1f23077db7fce349d966393fdcf7eac5/nvidia_cuda_nvcc_cu11-11.8.89-py3-none-win_amd64.whl.metadata\n",
      "  Downloading nvidia_cuda_nvcc_cu11-11.8.89-py3-none-win_amd64.whl.metadata (1.5 kB)\n",
      "Collecting nvidia-cuda-runtime-cu11==11.8.89 (from tensorflow[and-cuda])\n",
      "  Obtaining dependency information for nvidia-cuda-runtime-cu11==11.8.89 from https://files.pythonhosted.org/packages/48/ae/09f335dfbca630ae213e53d2a9294540620453fe2b37e7489ff05817a525/nvidia_cuda_runtime_cu11-11.8.89-py3-none-win_amd64.whl.metadata\n",
      "  Downloading nvidia_cuda_runtime_cu11-11.8.89-py3-none-win_amd64.whl.metadata (1.5 kB)\n",
      "Collecting tensorflow[and-cuda]\n",
      "  Obtaining dependency information for tensorflow[and-cuda] from https://files.pythonhosted.org/packages/80/6f/57d36f6507e432d7fc1956b2e9e8530c5c2d2bfcd8821bcbfae271cd6688/tensorflow-2.14.0-cp311-cp311-win_amd64.whl.metadata\n",
      "  Downloading tensorflow-2.14.0-cp311-cp311-win_amd64.whl.metadata (3.3 kB)\n",
      "Collecting tensorflow-intel==2.14.0 (from tensorflow[and-cuda])\n",
      "  Obtaining dependency information for tensorflow-intel==2.14.0 from https://files.pythonhosted.org/packages/ad/6e/1bfe367855dd87467564f7bf9fa14f3b17889988e79598bc37bf18f5ffb6/tensorflow_intel-2.14.0-cp311-cp311-win_amd64.whl.metadata\n",
      "  Downloading tensorflow_intel-2.14.0-cp311-cp311-win_amd64.whl.metadata (4.8 kB)\n",
      "Collecting tensorflow[and-cuda]\n",
      "  Obtaining dependency information for tensorflow[and-cuda] from https://files.pythonhosted.org/packages/0f/7c/f3cd340c872e351fdfd6264c435cdd779c96e9a4c5661a0154370d50069d/tensorflow-2.13.1-cp311-cp311-win_amd64.whl.metadata\n",
      "  Downloading tensorflow-2.13.1-cp311-cp311-win_amd64.whl.metadata (2.6 kB)\n",
      "Collecting tensorflow-intel==2.13.1 (from tensorflow[and-cuda])\n",
      "  Obtaining dependency information for tensorflow-intel==2.13.1 from https://files.pythonhosted.org/packages/6b/f8/3dc773923f4afa73b894ba25f83f8a0f1a549783ab99b496e0f5d0b86099/tensorflow_intel-2.13.1-cp311-cp311-win_amd64.whl.metadata\n",
      "  Downloading tensorflow_intel-2.13.1-cp311-cp311-win_amd64.whl.metadata (4.1 kB)\n",
      "Collecting gast<=0.4.0,>=0.2.1 (from tensorflow-intel==2.13.1->tensorflow[and-cuda])\n",
      "  Obtaining dependency information for gast<=0.4.0,>=0.2.1 from https://files.pythonhosted.org/packages/b6/48/583c032b79ae5b3daa02225a675aeb673e58d2cb698e78510feceb11958c/gast-0.4.0-py3-none-any.whl.metadata\n",
      "  Downloading gast-0.4.0-py3-none-any.whl.metadata (1.1 kB)\n",
      "Collecting numpy<=1.24.3,>=1.22 (from tensorflow-intel==2.13.1->tensorflow[and-cuda])\n",
      "  Obtaining dependency information for numpy<=1.24.3,>=1.22 from https://files.pythonhosted.org/packages/f0/e8/1ea9adebdccaadfc208c7517e09f5145ed5a73069779ff436393085d47a2/numpy-1.24.3-cp311-cp311-win_amd64.whl.metadata\n",
      "  Downloading numpy-1.24.3-cp311-cp311-win_amd64.whl.metadata (5.6 kB)\n",
      "Collecting protobuf!=4.21.0,!=4.21.1,!=4.21.2,!=4.21.3,!=4.21.4,!=4.21.5,<5.0.0dev,>=3.20.3 (from tensorflow-intel==2.13.1->tensorflow[and-cuda])\n",
      "  Obtaining dependency information for protobuf!=4.21.0,!=4.21.1,!=4.21.2,!=4.21.3,!=4.21.4,!=4.21.5,<5.0.0dev,>=3.20.3 from https://files.pythonhosted.org/packages/08/35/8b8a8405c564caf4ba835b1fdf554da869954712b26d8f2a98c0e434469b/protobuf-4.25.8-cp310-abi3-win_amd64.whl.metadata\n",
      "  Downloading protobuf-4.25.8-cp310-abi3-win_amd64.whl.metadata (541 bytes)\n",
      "Collecting typing-extensions<4.6.0,>=3.6.6 (from tensorflow-intel==2.13.1->tensorflow[and-cuda])\n",
      "  Obtaining dependency information for typing-extensions<4.6.0,>=3.6.6 from https://files.pythonhosted.org/packages/31/25/5abcd82372d3d4a3932e1fa8c3dbf9efac10cc7c0d16e78467460571b404/typing_extensions-4.5.0-py3-none-any.whl.metadata\n",
      "  Downloading typing_extensions-4.5.0-py3-none-any.whl.metadata (8.5 kB)\n",
      "Collecting tensorboard<2.14,>=2.13 (from tensorflow-intel==2.13.1->tensorflow[and-cuda])\n",
      "  Obtaining dependency information for tensorboard<2.14,>=2.13 from https://files.pythonhosted.org/packages/67/f2/e8be5599634ff063fa2c59b7b51636815909d5140a26df9f02ce5d99b81a/tensorboard-2.13.0-py3-none-any.whl.metadata\n",
      "  Downloading tensorboard-2.13.0-py3-none-any.whl.metadata (1.8 kB)\n",
      "Collecting tensorflow-estimator<2.14,>=2.13.0 (from tensorflow-intel==2.13.1->tensorflow[and-cuda])\n",
      "  Obtaining dependency information for tensorflow-estimator<2.14,>=2.13.0 from https://files.pythonhosted.org/packages/72/5c/c318268d96791c6222ad7df1651bbd1b2409139afeb6f468c0f327177016/tensorflow_estimator-2.13.0-py2.py3-none-any.whl.metadata\n",
      "  Downloading tensorflow_estimator-2.13.0-py2.py3-none-any.whl.metadata (1.3 kB)\n",
      "Collecting keras<2.14,>=2.13.1 (from tensorflow-intel==2.13.1->tensorflow[and-cuda])\n",
      "  Obtaining dependency information for keras<2.14,>=2.13.1 from https://files.pythonhosted.org/packages/2e/f3/19da7511b45e80216cbbd9467137b2d28919c58ba1ccb971435cb631e470/keras-2.13.1-py3-none-any.whl.metadata\n",
      "  Downloading keras-2.13.1-py3-none-any.whl.metadata (2.4 kB)\n",
      "Requirement already satisfied: wheel<1.0,>=0.23.0 in c:\\users\\hye42\\korean_voice_phishing_detection\\venv\\lib\\site-packages (from astunparse>=1.6.0->tensorflow[and-cuda]) (0.45.1)\n",
      "Requirement already satisfied: google-auth<3,>=1.6.3 in c:\\users\\hye42\\korean_voice_phishing_detection\\venv\\lib\\site-packages (from tensorboard<2.14,>=2.13->tensorflow-intel==2.13.1->tensorflow[and-cuda]) (2.40.3)\n",
      "Collecting google-auth-oauthlib<1.1,>=0.5 (from tensorboard<2.14,>=2.13->tensorflow-intel==2.13.1->tensorflow[and-cuda])\n",
      "  Obtaining dependency information for google-auth-oauthlib<1.1,>=0.5 from https://files.pythonhosted.org/packages/4a/07/8d9a8186e6768b55dfffeb57c719bc03770cf8a970a074616ae6f9e26a57/google_auth_oauthlib-1.0.0-py2.py3-none-any.whl.metadata\n",
      "  Downloading google_auth_oauthlib-1.0.0-py2.py3-none-any.whl.metadata (2.7 kB)\n",
      "Requirement already satisfied: markdown>=2.6.8 in c:\\users\\hye42\\korean_voice_phishing_detection\\venv\\lib\\site-packages (from tensorboard<2.14,>=2.13->tensorflow-intel==2.13.1->tensorflow[and-cuda]) (3.8.2)\n",
      "Requirement already satisfied: tensorboard-data-server<0.8.0,>=0.7.0 in c:\\users\\hye42\\korean_voice_phishing_detection\\venv\\lib\\site-packages (from tensorboard<2.14,>=2.13->tensorflow-intel==2.13.1->tensorflow[and-cuda]) (0.7.2)\n",
      "Requirement already satisfied: werkzeug>=1.0.1 in c:\\users\\hye42\\korean_voice_phishing_detection\\venv\\lib\\site-packages (from tensorboard<2.14,>=2.13->tensorflow-intel==2.13.1->tensorflow[and-cuda]) (3.1.3)\n",
      "Requirement already satisfied: cachetools<6.0,>=2.0.0 in c:\\users\\hye42\\korean_voice_phishing_detection\\venv\\lib\\site-packages (from google-auth<3,>=1.6.3->tensorboard<2.14,>=2.13->tensorflow-intel==2.13.1->tensorflow[and-cuda]) (5.5.2)\n",
      "Requirement already satisfied: pyasn1-modules>=0.2.1 in c:\\users\\hye42\\korean_voice_phishing_detection\\venv\\lib\\site-packages (from google-auth<3,>=1.6.3->tensorboard<2.14,>=2.13->tensorflow-intel==2.13.1->tensorflow[and-cuda]) (0.4.2)\n",
      "Requirement already satisfied: rsa<5,>=3.1.4 in c:\\users\\hye42\\korean_voice_phishing_detection\\venv\\lib\\site-packages (from google-auth<3,>=1.6.3->tensorboard<2.14,>=2.13->tensorflow-intel==2.13.1->tensorflow[and-cuda]) (4.9.1)\n",
      "Collecting requests-oauthlib>=0.7.0 (from google-auth-oauthlib<1.1,>=0.5->tensorboard<2.14,>=2.13->tensorflow-intel==2.13.1->tensorflow[and-cuda])\n",
      "  Obtaining dependency information for requests-oauthlib>=0.7.0 from https://files.pythonhosted.org/packages/3b/5d/63d4ae3b9daea098d5d6f5da83984853c1bbacd5dc826764b249fe119d24/requests_oauthlib-2.0.0-py2.py3-none-any.whl.metadata\n",
      "  Downloading requests_oauthlib-2.0.0-py2.py3-none-any.whl.metadata (11 kB)\n",
      "Requirement already satisfied: charset_normalizer<4,>=2 in c:\\users\\hye42\\korean_voice_phishing_detection\\venv\\lib\\site-packages (from requests<3,>=2.21.0->tensorflow[and-cuda]) (3.4.2)\n",
      "Requirement already satisfied: idna<4,>=2.5 in c:\\users\\hye42\\korean_voice_phishing_detection\\venv\\lib\\site-packages (from requests<3,>=2.21.0->tensorflow[and-cuda]) (3.10)\n",
      "Requirement already satisfied: urllib3<3,>=1.21.1 in c:\\users\\hye42\\korean_voice_phishing_detection\\venv\\lib\\site-packages (from requests<3,>=2.21.0->tensorflow[and-cuda]) (2.5.0)\n",
      "Requirement already satisfied: certifi>=2017.4.17 in c:\\users\\hye42\\korean_voice_phishing_detection\\venv\\lib\\site-packages (from requests<3,>=2.21.0->tensorflow[and-cuda]) (2025.8.3)\n",
      "Requirement already satisfied: MarkupSafe>=2.1.1 in c:\\users\\hye42\\korean_voice_phishing_detection\\venv\\lib\\site-packages (from werkzeug>=1.0.1->tensorboard<2.14,>=2.13->tensorflow-intel==2.13.1->tensorflow[and-cuda]) (3.0.2)\n",
      "Requirement already satisfied: pyasn1<0.7.0,>=0.6.1 in c:\\users\\hye42\\korean_voice_phishing_detection\\venv\\lib\\site-packages (from pyasn1-modules>=0.2.1->google-auth<3,>=1.6.3->tensorboard<2.14,>=2.13->tensorflow-intel==2.13.1->tensorflow[and-cuda]) (0.6.1)\n",
      "Collecting oauthlib>=3.0.0 (from requests-oauthlib>=0.7.0->google-auth-oauthlib<1.1,>=0.5->tensorboard<2.14,>=2.13->tensorflow-intel==2.13.1->tensorflow[and-cuda])\n",
      "  Obtaining dependency information for oauthlib>=3.0.0 from https://files.pythonhosted.org/packages/be/9c/92789c596b8df838baa98fa71844d84283302f7604ed565dafe5a6b5041a/oauthlib-3.3.1-py3-none-any.whl.metadata\n",
      "  Downloading oauthlib-3.3.1-py3-none-any.whl.metadata (7.9 kB)\n",
      "Downloading tensorflow_intel-2.13.1-cp311-cp311-win_amd64.whl (276.6 MB)\n",
      "   ---------------------------------------- 0.0/276.6 MB ? eta -:--:--\n",
      "   ---------------------------------------- 0.3/276.6 MB 10.6 MB/s eta 0:00:27\n",
      "   ---------------------------------------- 0.8/276.6 MB 8.5 MB/s eta 0:00:33\n",
      "   ---------------------------------------- 1.3/276.6 MB 9.5 MB/s eta 0:00:29\n",
      "   ---------------------------------------- 1.9/276.6 MB 10.3 MB/s eta 0:00:27\n",
      "   ---------------------------------------- 2.8/276.6 MB 11.9 MB/s eta 0:00:23\n",
      "    --------------------------------------- 3.6/276.6 MB 12.9 MB/s eta 0:00:22\n",
      "    --------------------------------------- 4.1/276.6 MB 13.1 MB/s eta 0:00:21\n",
      "    --------------------------------------- 4.9/276.6 MB 13.1 MB/s eta 0:00:21\n",
      "    --------------------------------------- 6.0/276.6 MB 14.2 MB/s eta 0:00:20\n",
      "   - -------------------------------------- 7.1/276.6 MB 15.2 MB/s eta 0:00:18\n",
      "   - -------------------------------------- 8.2/276.6 MB 15.8 MB/s eta 0:00:17\n",
      "   - -------------------------------------- 9.6/276.6 MB 17.1 MB/s eta 0:00:16\n",
      "   - -------------------------------------- 10.8/276.6 MB 18.7 MB/s eta 0:00:15\n",
      "   - -------------------------------------- 12.2/276.6 MB 22.6 MB/s eta 0:00:12\n",
      "   -- ------------------------------------- 14.2/276.6 MB 26.2 MB/s eta 0:00:11\n",
      "   -- ------------------------------------- 15.4/276.6 MB 28.5 MB/s eta 0:00:10\n",
      "   -- ------------------------------------- 16.6/276.6 MB 29.7 MB/s eta 0:00:09\n",
      "   -- ------------------------------------- 18.4/276.6 MB 31.1 MB/s eta 0:00:09\n",
      "   -- ------------------------------------- 19.9/276.6 MB 32.8 MB/s eta 0:00:08\n",
      "   --- ------------------------------------ 22.3/276.6 MB 34.4 MB/s eta 0:00:08\n",
      "   --- ------------------------------------ 24.2/276.6 MB 34.4 MB/s eta 0:00:08\n",
      "   --- ------------------------------------ 24.4/276.6 MB 31.2 MB/s eta 0:00:09\n",
      "   --- ------------------------------------ 24.7/276.6 MB 27.3 MB/s eta 0:00:10\n",
      "   --- ------------------------------------ 26.1/276.6 MB 27.3 MB/s eta 0:00:10\n",
      "   --- ------------------------------------ 26.9/276.6 MB 27.3 MB/s eta 0:00:10\n",
      "   ---- ----------------------------------- 28.4/276.6 MB 26.2 MB/s eta 0:00:10\n",
      "   ---- ----------------------------------- 29.4/276.6 MB 26.2 MB/s eta 0:00:10\n",
      "   ---- ----------------------------------- 29.4/276.6 MB 26.2 MB/s eta 0:00:10\n",
      "   ---- ----------------------------------- 30.1/276.6 MB 21.1 MB/s eta 0:00:12\n",
      "   ---- ----------------------------------- 32.2/276.6 MB 20.5 MB/s eta 0:00:12\n",
      "   ---- ----------------------------------- 33.9/276.6 MB 20.5 MB/s eta 0:00:12\n",
      "   ----- ---------------------------------- 35.7/276.6 MB 26.2 MB/s eta 0:00:10\n",
      "   ----- ---------------------------------- 37.7/276.6 MB 27.3 MB/s eta 0:00:09\n",
      "   ----- ---------------------------------- 39.9/276.6 MB 38.5 MB/s eta 0:00:07\n",
      "   ------ --------------------------------- 42.1/276.6 MB 38.5 MB/s eta 0:00:07\n",
      "   ------ --------------------------------- 44.1/276.6 MB 40.9 MB/s eta 0:00:06\n",
      "   ------ --------------------------------- 45.9/276.6 MB 40.9 MB/s eta 0:00:06\n",
      "   ------ --------------------------------- 47.8/276.6 MB 40.9 MB/s eta 0:00:06\n",
      "   ------- -------------------------------- 49.6/276.6 MB 40.9 MB/s eta 0:00:06\n",
      "   ------- -------------------------------- 51.2/276.6 MB 36.3 MB/s eta 0:00:07\n",
      "   ------- -------------------------------- 53.5/276.6 MB 38.5 MB/s eta 0:00:06\n",
      "   ------- -------------------------------- 54.2/276.6 MB 36.4 MB/s eta 0:00:07\n",
      "   -------- ------------------------------- 55.6/276.6 MB 36.3 MB/s eta 0:00:07\n",
      "   -------- ------------------------------- 56.3/276.6 MB 32.7 MB/s eta 0:00:07\n",
      "   -------- ------------------------------- 58.2/276.6 MB 31.2 MB/s eta 0:00:08\n",
      "   -------- ------------------------------- 60.1/276.6 MB 31.2 MB/s eta 0:00:07\n",
      "   -------- ------------------------------- 62.2/276.6 MB 32.7 MB/s eta 0:00:07\n",
      "   --------- ------------------------------ 63.9/276.6 MB 34.4 MB/s eta 0:00:07\n",
      "   --------- ------------------------------ 66.3/276.6 MB 38.5 MB/s eta 0:00:06\n",
      "   --------- ------------------------------ 67.7/276.6 MB 38.5 MB/s eta 0:00:06\n",
      "   ---------- ----------------------------- 69.4/276.6 MB 36.4 MB/s eta 0:00:06\n",
      "   ---------- ----------------------------- 71.3/276.6 MB 38.5 MB/s eta 0:00:06\n",
      "   ---------- ----------------------------- 71.3/276.6 MB 38.5 MB/s eta 0:00:06\n",
      "   ---------- ----------------------------- 71.3/276.6 MB 38.5 MB/s eta 0:00:06\n",
      "   ---------- ----------------------------- 71.5/276.6 MB 24.2 MB/s eta 0:00:09\n",
      "   ---------- ----------------------------- 73.7/276.6 MB 25.2 MB/s eta 0:00:09\n",
      "   ---------- ----------------------------- 74.5/276.6 MB 24.2 MB/s eta 0:00:09\n",
      "   ---------- ----------------------------- 75.5/276.6 MB 21.1 MB/s eta 0:00:10\n",
      "   ----------- ---------------------------- 76.7/276.6 MB 20.5 MB/s eta 0:00:10\n",
      "   ----------- ---------------------------- 77.9/276.6 MB 20.5 MB/s eta 0:00:10\n",
      "   ----------- ---------------------------- 78.2/276.6 MB 19.3 MB/s eta 0:00:11\n",
      "   ----------- ---------------------------- 79.2/276.6 MB 18.7 MB/s eta 0:00:11\n",
      "   ----------- ---------------------------- 80.2/276.6 MB 17.7 MB/s eta 0:00:12\n",
      "   ----------- ---------------------------- 80.7/276.6 MB 17.7 MB/s eta 0:00:12\n",
      "   ----------- ---------------------------- 80.7/276.6 MB 17.7 MB/s eta 0:00:12\n",
      "   ----------- ---------------------------- 81.3/276.6 MB 14.9 MB/s eta 0:00:14\n",
      "   ----------- ---------------------------- 83.0/276.6 MB 18.2 MB/s eta 0:00:11\n",
      "   ------------ --------------------------- 84.6/276.6 MB 18.2 MB/s eta 0:00:11\n",
      "   ------------ --------------------------- 86.4/276.6 MB 20.5 MB/s eta 0:00:10\n",
      "   ------------ --------------------------- 87.4/276.6 MB 19.8 MB/s eta 0:00:10\n",
      "   ------------ --------------------------- 89.2/276.6 MB 24.2 MB/s eta 0:00:08\n",
      "   ------------- -------------------------- 91.3/276.6 MB 36.3 MB/s eta 0:00:06\n",
      "   ------------- -------------------------- 92.4/276.6 MB 32.8 MB/s eta 0:00:06\n",
      "   ------------- -------------------------- 93.8/276.6 MB 32.8 MB/s eta 0:00:06\n",
      "   ------------- -------------------------- 95.2/276.6 MB 32.8 MB/s eta 0:00:06\n",
      "   ------------- -------------------------- 95.7/276.6 MB 31.2 MB/s eta 0:00:06\n",
      "   ------------- -------------------------- 95.9/276.6 MB 27.3 MB/s eta 0:00:07\n",
      "   ------------- -------------------------- 96.4/276.6 MB 24.2 MB/s eta 0:00:08\n",
      "   ------------- -------------------------- 96.6/276.6 MB 22.6 MB/s eta 0:00:08\n",
      "   ------------- -------------------------- 96.7/276.6 MB 20.5 MB/s eta 0:00:09\n",
      "   -------------- ------------------------- 97.0/276.6 MB 18.7 MB/s eta 0:00:10\n",
      "   -------------- ------------------------- 97.5/276.6 MB 17.2 MB/s eta 0:00:11\n",
      "   -------------- ------------------------- 98.9/276.6 MB 17.2 MB/s eta 0:00:11\n",
      "   -------------- ------------------------- 99.1/276.6 MB 16.4 MB/s eta 0:00:11\n",
      "   -------------- ------------------------ 100.8/276.6 MB 16.4 MB/s eta 0:00:11\n",
      "   -------------- ------------------------ 100.9/276.6 MB 14.9 MB/s eta 0:00:12\n",
      "   -------------- ------------------------ 101.0/276.6 MB 14.2 MB/s eta 0:00:13\n",
      "   -------------- ------------------------ 101.1/276.6 MB 13.1 MB/s eta 0:00:14\n",
      "   -------------- ------------------------ 101.3/276.6 MB 12.4 MB/s eta 0:00:15\n",
      "   -------------- ------------------------ 101.7/276.6 MB 12.1 MB/s eta 0:00:15\n",
      "   -------------- ------------------------ 103.6/276.6 MB 12.4 MB/s eta 0:00:15\n",
      "   -------------- ------------------------ 105.4/276.6 MB 12.4 MB/s eta 0:00:14\n",
      "   --------------- ----------------------- 107.0/276.6 MB 16.4 MB/s eta 0:00:11\n",
      "   --------------- ----------------------- 108.6/276.6 MB 18.2 MB/s eta 0:00:10\n",
      "   --------------- ----------------------- 109.5/276.6 MB 19.3 MB/s eta 0:00:09\n",
      "   --------------- ----------------------- 109.8/276.6 MB 18.2 MB/s eta 0:00:10\n",
      "   --------------- ----------------------- 110.1/276.6 MB 17.7 MB/s eta 0:00:10\n",
      "   --------------- ----------------------- 110.1/276.6 MB 17.7 MB/s eta 0:00:10\n",
      "   --------------- ----------------------- 110.1/276.6 MB 17.7 MB/s eta 0:00:10\n",
      "   --------------- ----------------------- 110.1/276.6 MB 17.7 MB/s eta 0:00:10\n",
      "   --------------- ----------------------- 111.8/276.6 MB 17.7 MB/s eta 0:00:10\n",
      "   ---------------- ---------------------- 113.5/276.6 MB 18.2 MB/s eta 0:00:09\n",
      "   ---------------- ---------------------- 115.7/276.6 MB 18.7 MB/s eta 0:00:09\n",
      "   ---------------- ---------------------- 117.4/276.6 MB 18.7 MB/s eta 0:00:09\n",
      "   ---------------- ---------------------- 117.4/276.6 MB 18.7 MB/s eta 0:00:09\n",
      "   ---------------- ---------------------- 117.4/276.6 MB 18.7 MB/s eta 0:00:09\n",
      "   ---------------- ---------------------- 118.3/276.6 MB 15.2 MB/s eta 0:00:11\n",
      "   ---------------- ---------------------- 120.4/276.6 MB 26.2 MB/s eta 0:00:06\n",
      "   ----------------- --------------------- 121.8/276.6 MB 26.2 MB/s eta 0:00:06\n",
      "   ----------------- --------------------- 123.4/276.6 MB 26.2 MB/s eta 0:00:06\n",
      "   ----------------- --------------------- 125.3/276.6 MB 25.2 MB/s eta 0:00:07\n",
      "   ----------------- --------------------- 127.1/276.6 MB 25.1 MB/s eta 0:00:06\n",
      "   ------------------ -------------------- 129.0/276.6 MB 36.3 MB/s eta 0:00:05\n",
      "   ------------------ -------------------- 129.0/276.6 MB 36.3 MB/s eta 0:00:05\n",
      "   ------------------ -------------------- 129.0/276.6 MB 36.3 MB/s eta 0:00:05\n",
      "   ------------------ -------------------- 130.1/276.6 MB 26.2 MB/s eta 0:00:06\n",
      "   ------------------ -------------------- 131.6/276.6 MB 25.2 MB/s eta 0:00:06\n",
      "   ------------------ -------------------- 133.3/276.6 MB 26.2 MB/s eta 0:00:06\n",
      "   ------------------- ------------------- 135.4/276.6 MB 26.2 MB/s eta 0:00:06\n",
      "   ------------------- ------------------- 137.0/276.6 MB 26.2 MB/s eta 0:00:06\n",
      "   ------------------- ------------------- 137.4/276.6 MB 26.2 MB/s eta 0:00:06\n",
      "   ------------------- ------------------- 137.4/276.6 MB 26.2 MB/s eta 0:00:06\n",
      "   ------------------- ------------------- 138.2/276.6 MB 19.8 MB/s eta 0:00:07\n",
      "   ------------------- ------------------- 139.3/276.6 MB 25.2 MB/s eta 0:00:06\n",
      "   ------------------- ------------------- 140.8/276.6 MB 26.2 MB/s eta 0:00:06\n",
      "   -------------------- ------------------ 142.9/276.6 MB 25.1 MB/s eta 0:00:06\n",
      "   -------------------- ------------------ 144.7/276.6 MB 24.3 MB/s eta 0:00:06\n",
      "   -------------------- ------------------ 146.2/276.6 MB 25.1 MB/s eta 0:00:06\n",
      "   -------------------- ------------------ 147.7/276.6 MB 36.3 MB/s eta 0:00:04\n",
      "   --------------------- ----------------- 149.6/276.6 MB 38.6 MB/s eta 0:00:04\n",
      "   --------------------- ----------------- 151.9/276.6 MB 40.9 MB/s eta 0:00:04\n",
      "   --------------------- ----------------- 153.6/276.6 MB 40.9 MB/s eta 0:00:04\n",
      "   --------------------- ----------------- 154.4/276.6 MB 38.6 MB/s eta 0:00:04\n",
      "   --------------------- ----------------- 154.7/276.6 MB 32.8 MB/s eta 0:00:04\n",
      "   --------------------- ----------------- 155.9/276.6 MB 31.2 MB/s eta 0:00:04\n",
      "   ---------------------- ---------------- 157.9/276.6 MB 32.8 MB/s eta 0:00:04\n",
      "   ---------------------- ---------------- 159.9/276.6 MB 32.7 MB/s eta 0:00:04\n",
      "   ---------------------- ---------------- 160.6/276.6 MB 29.7 MB/s eta 0:00:04\n",
      "   ---------------------- ---------------- 160.7/276.6 MB 27.3 MB/s eta 0:00:05\n",
      "   ---------------------- ---------------- 160.8/276.6 MB 23.4 MB/s eta 0:00:05\n",
      "   ---------------------- ---------------- 161.0/276.6 MB 21.1 MB/s eta 0:00:06\n",
      "   ---------------------- ---------------- 161.4/276.6 MB 19.8 MB/s eta 0:00:06\n",
      "   ---------------------- ---------------- 163.1/276.6 MB 18.7 MB/s eta 0:00:07\n",
      "   ----------------------- --------------- 165.2/276.6 MB 21.1 MB/s eta 0:00:06\n",
      "   ----------------------- --------------- 167.0/276.6 MB 21.8 MB/s eta 0:00:06\n",
      "   ----------------------- --------------- 168.7/276.6 MB 21.9 MB/s eta 0:00:05\n",
      "   ------------------------ -------------- 170.5/276.6 MB 21.9 MB/s eta 0:00:05\n",
      "   ------------------------ -------------- 172.3/276.6 MB 40.9 MB/s eta 0:00:03\n",
      "   ------------------------ -------------- 174.1/276.6 MB 43.7 MB/s eta 0:00:03\n",
      "   ------------------------ -------------- 175.0/276.6 MB 40.9 MB/s eta 0:00:03\n",
      "   ------------------------ -------------- 177.2/276.6 MB 38.5 MB/s eta 0:00:03\n",
      "   ------------------------- ------------- 178.9/276.6 MB 34.4 MB/s eta 0:00:03\n",
      "   ------------------------- ------------- 180.6/276.6 MB 34.4 MB/s eta 0:00:03\n",
      "   ------------------------- ------------- 182.2/276.6 MB 32.8 MB/s eta 0:00:03\n",
      "   ------------------------- ------------- 184.0/276.6 MB 34.4 MB/s eta 0:00:03\n",
      "   -------------------------- ------------ 185.6/276.6 MB 38.6 MB/s eta 0:00:03\n",
      "   -------------------------- ------------ 185.6/276.6 MB 38.6 MB/s eta 0:00:03\n",
      "   -------------------------- ------------ 185.6/276.6 MB 38.6 MB/s eta 0:00:03\n",
      "   -------------------------- ------------ 185.6/276.6 MB 38.6 MB/s eta 0:00:03\n",
      "   -------------------------- ------------ 187.4/276.6 MB 25.2 MB/s eta 0:00:04\n",
      "   -------------------------- ------------ 188.9/276.6 MB 25.2 MB/s eta 0:00:04\n",
      "   -------------------------- ------------ 189.0/276.6 MB 22.6 MB/s eta 0:00:04\n",
      "   -------------------------- ------------ 189.2/276.6 MB 21.1 MB/s eta 0:00:05\n",
      "   -------------------------- ------------ 189.4/276.6 MB 18.7 MB/s eta 0:00:05\n",
      "   -------------------------- ------------ 190.4/276.6 MB 18.7 MB/s eta 0:00:05\n",
      "   --------------------------- ----------- 191.9/276.6 MB 18.7 MB/s eta 0:00:05\n",
      "   --------------------------- ----------- 193.0/276.6 MB 18.2 MB/s eta 0:00:05\n",
      "   --------------------------- ----------- 194.8/276.6 MB 17.2 MB/s eta 0:00:05\n",
      "   --------------------------- ----------- 197.4/276.6 MB 23.4 MB/s eta 0:00:04\n",
      "   ---------------------------- ---------- 199.0/276.6 MB 21.8 MB/s eta 0:00:04\n",
      "   ---------------------------- ---------- 200.9/276.6 MB 36.4 MB/s eta 0:00:03\n",
      "   ---------------------------- ---------- 202.7/276.6 MB 36.4 MB/s eta 0:00:03\n",
      "   ---------------------------- ---------- 204.8/276.6 MB 43.7 MB/s eta 0:00:02\n",
      "   ----------------------------- --------- 205.8/276.6 MB 38.5 MB/s eta 0:00:02\n",
      "   ----------------------------- --------- 207.7/276.6 MB 38.6 MB/s eta 0:00:02\n",
      "   ----------------------------- --------- 209.3/276.6 MB 40.9 MB/s eta 0:00:02\n",
      "   ----------------------------- --------- 210.2/276.6 MB 32.8 MB/s eta 0:00:03\n",
      "   ------------------------------ -------- 212.8/276.6 MB 38.6 MB/s eta 0:00:02\n",
      "   ------------------------------ -------- 212.9/276.6 MB 36.4 MB/s eta 0:00:02\n",
      "   ------------------------------ -------- 212.9/276.6 MB 36.4 MB/s eta 0:00:02\n",
      "   ------------------------------ -------- 213.0/276.6 MB 26.2 MB/s eta 0:00:03\n",
      "   ------------------------------ -------- 214.5/276.6 MB 25.2 MB/s eta 0:00:03\n",
      "   ------------------------------ -------- 215.6/276.6 MB 25.2 MB/s eta 0:00:03\n",
      "   ------------------------------ -------- 216.9/276.6 MB 24.2 MB/s eta 0:00:03\n",
      "   ------------------------------ -------- 218.4/276.6 MB 23.4 MB/s eta 0:00:03\n",
      "   ------------------------------- ------- 220.4/276.6 MB 24.3 MB/s eta 0:00:03\n",
      "   ------------------------------- ------- 222.0/276.6 MB 23.4 MB/s eta 0:00:03\n",
      "   ------------------------------- ------- 224.7/276.6 MB 34.4 MB/s eta 0:00:02\n",
      "   ------------------------------- ------- 225.4/276.6 MB 38.5 MB/s eta 0:00:02\n",
      "   ------------------------------- ------- 225.4/276.6 MB 38.5 MB/s eta 0:00:02\n",
      "   ------------------------------- ------- 225.6/276.6 MB 26.2 MB/s eta 0:00:02\n",
      "   -------------------------------- ------ 227.6/276.6 MB 27.3 MB/s eta 0:00:02\n",
      "   -------------------------------- ------ 229.7/276.6 MB 28.4 MB/s eta 0:00:02\n",
      "   -------------------------------- ------ 231.5/276.6 MB 27.3 MB/s eta 0:00:02\n",
      "   -------------------------------- ------ 233.6/276.6 MB 27.3 MB/s eta 0:00:02\n",
      "   --------------------------------- ----- 235.2/276.6 MB 27.3 MB/s eta 0:00:02\n",
      "   --------------------------------- ----- 237.0/276.6 MB 43.7 MB/s eta 0:00:01\n",
      "   --------------------------------- ----- 238.9/276.6 MB 40.9 MB/s eta 0:00:01\n",
      "   --------------------------------- ----- 240.9/276.6 MB 40.9 MB/s eta 0:00:01\n",
      "   ---------------------------------- ---- 242.1/276.6 MB 38.5 MB/s eta 0:00:01\n",
      "   ---------------------------------- ---- 244.2/276.6 MB 43.7 MB/s eta 0:00:01\n",
      "   ---------------------------------- ---- 245.7/276.6 MB 38.6 MB/s eta 0:00:01\n",
      "   ---------------------------------- ---- 247.3/276.6 MB 36.4 MB/s eta 0:00:01\n",
      "   ----------------------------------- --- 249.3/276.6 MB 40.9 MB/s eta 0:00:01\n",
      "   ----------------------------------- --- 251.2/276.6 MB 38.6 MB/s eta 0:00:01\n",
      "   ----------------------------------- --- 253.0/276.6 MB 40.9 MB/s eta 0:00:01\n",
      "   ----------------------------------- --- 255.1/276.6 MB 40.9 MB/s eta 0:00:01\n",
      "   ------------------------------------ -- 257.4/276.6 MB 43.7 MB/s eta 0:00:01\n",
      "   ------------------------------------ -- 258.2/276.6 MB 40.9 MB/s eta 0:00:01\n",
      "   ------------------------------------ -- 259.3/276.6 MB 36.4 MB/s eta 0:00:01\n",
      "   ------------------------------------ -- 260.9/276.6 MB 36.3 MB/s eta 0:00:01\n",
      "   ------------------------------------- - 262.7/276.6 MB 36.3 MB/s eta 0:00:01\n",
      "   ------------------------------------- - 264.2/276.6 MB 34.6 MB/s eta 0:00:01\n",
      "   ------------------------------------- - 264.2/276.6 MB 34.6 MB/s eta 0:00:01\n",
      "   ------------------------------------- - 264.2/276.6 MB 34.6 MB/s eta 0:00:01\n",
      "   ------------------------------------- - 264.2/276.6 MB 34.6 MB/s eta 0:00:01\n",
      "   ------------------------------------- - 264.2/276.6 MB 34.6 MB/s eta 0:00:01\n",
      "   ------------------------------------- - 264.2/276.6 MB 34.6 MB/s eta 0:00:01\n",
      "   ------------------------------------- - 264.2/276.6 MB 34.6 MB/s eta 0:00:01\n",
      "   ------------------------------------- - 264.2/276.6 MB 34.6 MB/s eta 0:00:01\n",
      "   ------------------------------------- - 264.2/276.6 MB 34.6 MB/s eta 0:00:01\n",
      "   ------------------------------------- - 265.7/276.6 MB 15.2 MB/s eta 0:00:01\n",
      "   ------------------------------------- - 267.6/276.6 MB 14.9 MB/s eta 0:00:01\n",
      "   ------------------------------------- - 267.9/276.6 MB 14.6 MB/s eta 0:00:01\n",
      "   ------------------------------------- - 268.2/276.6 MB 13.9 MB/s eta 0:00:01\n",
      "   --------------------------------------  269.7/276.6 MB 14.2 MB/s eta 0:00:01\n",
      "   --------------------------------------  272.1/276.6 MB 14.6 MB/s eta 0:00:01\n",
      "   --------------------------------------  273.4/276.6 MB 13.9 MB/s eta 0:00:01\n",
      "   --------------------------------------  275.3/276.6 MB 28.5 MB/s eta 0:00:01\n",
      "   --------------------------------------  276.6/276.6 MB 28.4 MB/s eta 0:00:01\n",
      "   --------------------------------------  276.6/276.6 MB 28.4 MB/s eta 0:00:01\n",
      "   --------------------------------------  276.6/276.6 MB 28.4 MB/s eta 0:00:01\n",
      "   --------------------------------------  276.6/276.6 MB 28.4 MB/s eta 0:00:01\n",
      "   --------------------------------------  276.6/276.6 MB 28.4 MB/s eta 0:00:01\n",
      "   --------------------------------------  276.6/276.6 MB 28.4 MB/s eta 0:00:01\n",
      "   --------------------------------------  276.6/276.6 MB 28.4 MB/s eta 0:00:01\n",
      "   --------------------------------------  276.6/276.6 MB 28.4 MB/s eta 0:00:01\n",
      "   --------------------------------------  276.6/276.6 MB 28.4 MB/s eta 0:00:01\n",
      "   --------------------------------------  276.6/276.6 MB 28.4 MB/s eta 0:00:01\n",
      "   --------------------------------------  276.6/276.6 MB 28.4 MB/s eta 0:00:01\n",
      "   --------------------------------------  276.6/276.6 MB 28.4 MB/s eta 0:00:01\n",
      "   --------------------------------------  276.6/276.6 MB 28.4 MB/s eta 0:00:01\n",
      "   --------------------------------------  276.6/276.6 MB 28.4 MB/s eta 0:00:01\n",
      "   --------------------------------------  276.6/276.6 MB 28.4 MB/s eta 0:00:01\n",
      "   --------------------------------------  276.6/276.6 MB 28.4 MB/s eta 0:00:01\n",
      "   --------------------------------------  276.6/276.6 MB 28.4 MB/s eta 0:00:01\n",
      "   ---------------------------------------- 276.6/276.6 MB 5.6 MB/s eta 0:00:00\n",
      "Downloading tensorflow-2.13.1-cp311-cp311-win_amd64.whl (1.9 kB)\n",
      "Downloading gast-0.4.0-py3-none-any.whl (9.8 kB)\n",
      "Downloading keras-2.13.1-py3-none-any.whl (1.7 MB)\n",
      "   ---------------------------------------- 0.0/1.7 MB ? eta -:--:--\n",
      "   -------------------- ------------------- 0.9/1.7 MB 18.5 MB/s eta 0:00:01\n",
      "   ---------------------------------------- 1.7/1.7 MB 18.2 MB/s eta 0:00:00\n",
      "Downloading numpy-1.24.3-cp311-cp311-win_amd64.whl (14.8 MB)\n",
      "   ---------------------------------------- 0.0/14.8 MB ? eta -:--:--\n",
      "   --- ------------------------------------ 1.3/14.8 MB 41.6 MB/s eta 0:00:01\n",
      "   ------- -------------------------------- 2.8/14.8 MB 36.0 MB/s eta 0:00:01\n",
      "   --------- ------------------------------ 3.5/14.8 MB 28.0 MB/s eta 0:00:01\n",
      "   ------------- -------------------------- 5.0/14.8 MB 26.7 MB/s eta 0:00:01\n",
      "   ----------------- ---------------------- 6.7/14.8 MB 30.4 MB/s eta 0:00:01\n",
      "   ---------------------- ----------------- 8.4/14.8 MB 29.8 MB/s eta 0:00:01\n",
      "   -------------------------- ------------- 9.7/14.8 MB 30.9 MB/s eta 0:00:01\n",
      "   ---------------------------- ----------- 10.7/14.8 MB 27.3 MB/s eta 0:00:01\n",
      "   --------------------------------- ------ 12.2/14.8 MB 28.5 MB/s eta 0:00:01\n",
      "   ------------------------------------ --- 13.6/14.8 MB 29.7 MB/s eta 0:00:01\n",
      "   ---------------------------------------  14.5/14.8 MB 28.4 MB/s eta 0:00:01\n",
      "   ---------------------------------------  14.8/14.8 MB 29.7 MB/s eta 0:00:01\n",
      "   ---------------------------------------- 14.8/14.8 MB 25.2 MB/s eta 0:00:00\n",
      "Downloading protobuf-4.25.8-cp310-abi3-win_amd64.whl (413 kB)\n",
      "   ---------------------------------------- 0.0/413.7 kB ? eta -:--:--\n",
      "   --------------------------------------- 413.7/413.7 kB 26.9 MB/s eta 0:00:00\n",
      "Downloading tensorboard-2.13.0-py3-none-any.whl (5.6 MB)\n",
      "   ---------------------------------------- 0.0/5.6 MB ? eta -:--:--\n",
      "   ------------- -------------------------- 1.9/5.6 MB 39.2 MB/s eta 0:00:01\n",
      "   ------------------------ --------------- 3.5/5.6 MB 44.1 MB/s eta 0:00:01\n",
      "   ----------------------------- ---------- 4.1/5.6 MB 29.2 MB/s eta 0:00:01\n",
      "   ----------------------------------- ---- 5.0/5.6 MB 28.9 MB/s eta 0:00:01\n",
      "   ---------------------------------------- 5.6/5.6 MB 23.8 MB/s eta 0:00:00\n",
      "Downloading tensorflow_estimator-2.13.0-py2.py3-none-any.whl (440 kB)\n",
      "   ---------------------------------------- 0.0/440.8 kB ? eta -:--:--\n",
      "   --------------------------------------- 440.8/440.8 kB 26.9 MB/s eta 0:00:00\n",
      "Downloading typing_extensions-4.5.0-py3-none-any.whl (27 kB)\n",
      "Downloading google_auth_oauthlib-1.0.0-py2.py3-none-any.whl (18 kB)\n",
      "Downloading requests_oauthlib-2.0.0-py2.py3-none-any.whl (24 kB)\n",
      "Downloading oauthlib-3.3.1-py3-none-any.whl (160 kB)\n",
      "   ---------------------------------------- 0.0/160.1 kB ? eta -:--:--\n",
      "   --------------------------------------- 160.1/160.1 kB 10.0 MB/s eta 0:00:00\n",
      "Installing collected packages: typing-extensions, tensorflow-estimator, protobuf, oauthlib, numpy, keras, gast, requests-oauthlib, google-auth-oauthlib, tensorboard, tensorflow-intel, tensorflow\n",
      "  Attempting uninstall: typing-extensions\n",
      "    Found existing installation: typing_extensions 4.14.1\n",
      "    Uninstalling typing_extensions-4.14.1:\n",
      "      Successfully uninstalled typing_extensions-4.14.1\n",
      "  Attempting uninstall: protobuf\n",
      "    Found existing installation: protobuf 5.29.5\n",
      "    Uninstalling protobuf-5.29.5:\n",
      "      Successfully uninstalled protobuf-5.29.5\n"
     ]
    },
    {
     "name": "stderr",
     "output_type": "stream",
     "text": [
      "WARNING: tensorflow 2.13.1 does not provide the extra 'and-cuda'\n",
      "ERROR: Could not install packages due to an OSError: [WinError 5] 액세스가 거부되었습니다: 'C:\\\\Users\\\\hye42\\\\Korean_Voice_Phishing_Detection\\\\venv\\\\Lib\\\\site-packages\\\\google\\\\~upb\\\\_message.pyd'\n",
      "Check the permissions.\n",
      "\n",
      "\n",
      "[notice] A new release of pip is available: 23.2.1 -> 25.2\n",
      "[notice] To update, run: python.exe -m pip install --upgrade pip\n"
     ]
    }
   ],
   "source": [
    "!pip install tensorflow\n",
    "!pip3 install tensorflow[and-cuda]"
   ]
  },
  {
   "cell_type": "code",
   "execution_count": 15,
   "id": "11cfd9dc6f073076",
   "metadata": {
    "ExecuteTime": {
     "end_time": "2023-12-08T05:59:59.428822400Z",
     "start_time": "2023-12-08T05:59:56.383281500Z"
    },
    "collapsed": false,
    "jupyter": {
     "outputs_hidden": false
    }
   },
   "outputs": [
    {
     "name": "stdout",
     "output_type": "stream",
     "text": [
      "WARNING:tensorflow:From C:\\Users\\hye42\\Korean_Voice_Phishing_Detection\\venv\\Lib\\site-packages\\tf_keras\\src\\losses.py:2976: The name tf.losses.sparse_softmax_cross_entropy is deprecated. Please use tf.compat.v1.losses.sparse_softmax_cross_entropy instead.\n",
      "\n"
     ]
    },
    {
     "ename": "ImportError",
     "evalue": "cannot import name 'AdamW' from 'transformers' (C:\\Users\\hye42\\Korean_Voice_Phishing_Detection\\venv\\Lib\\site-packages\\transformers\\__init__.py)",
     "output_type": "error",
     "traceback": [
      "\u001b[31m---------------------------------------------------------------------------\u001b[39m",
      "\u001b[31mImportError\u001b[39m                               Traceback (most recent call last)",
      "\u001b[36mCell\u001b[39m\u001b[36m \u001b[39m\u001b[32mIn[15]\u001b[39m\u001b[32m, line 13\u001b[39m\n\u001b[32m     11\u001b[39m \u001b[38;5;28;01mfrom\u001b[39;00m\u001b[38;5;250m \u001b[39m\u001b[34;01msklearn\u001b[39;00m\u001b[34;01m.\u001b[39;00m\u001b[34;01mmetrics\u001b[39;00m\u001b[38;5;250m \u001b[39m\u001b[38;5;28;01mimport\u001b[39;00m accuracy_score, classification_report\n\u001b[32m     12\u001b[39m \u001b[38;5;28;01mfrom\u001b[39;00m\u001b[38;5;250m \u001b[39m\u001b[34;01mkeras\u001b[39;00m\u001b[34;01m.\u001b[39;00m\u001b[34;01mutils\u001b[39;00m\u001b[38;5;250m \u001b[39m\u001b[38;5;28;01mimport\u001b[39;00m to_categorical\n\u001b[32m---> \u001b[39m\u001b[32m13\u001b[39m \u001b[38;5;28;01mfrom\u001b[39;00m\u001b[38;5;250m \u001b[39m\u001b[34;01mtransformers\u001b[39;00m\u001b[38;5;250m \u001b[39m\u001b[38;5;28;01mimport\u001b[39;00m AdamW\n\u001b[32m     14\u001b[39m \u001b[38;5;28;01mfrom\u001b[39;00m\u001b[38;5;250m \u001b[39m\u001b[34;01mtensorflow\u001b[39;00m\u001b[34;01m.\u001b[39;00m\u001b[34;01mkeras\u001b[39;00m\u001b[34;01m.\u001b[39;00m\u001b[34;01moptimizers\u001b[39;00m\u001b[38;5;250m \u001b[39m\u001b[38;5;28;01mimport\u001b[39;00m Adam\n\u001b[32m     15\u001b[39m \u001b[38;5;28;01mfrom\u001b[39;00m\u001b[38;5;250m \u001b[39m\u001b[34;01mtensorflow\u001b[39;00m\u001b[34;01m.\u001b[39;00m\u001b[34;01mpython\u001b[39;00m\u001b[34;01m.\u001b[39;00m\u001b[34;01mkeras\u001b[39;00m\u001b[34;01m.\u001b[39;00m\u001b[34;01mlosses\u001b[39;00m\u001b[38;5;250m \u001b[39m\u001b[38;5;28;01mimport\u001b[39;00m SparseCategoricalCrossentropy\n",
      "\u001b[31mImportError\u001b[39m: cannot import name 'AdamW' from 'transformers' (C:\\Users\\hye42\\Korean_Voice_Phishing_Detection\\venv\\Lib\\site-packages\\transformers\\__init__.py)"
     ]
    }
   ],
   "source": [
    "# load the libraries\n",
    "import tensorflow as tf\n",
    "from transformers import BertTokenizer, TFBertForSequenceClassification ,TFBertModel, AutoTokenizer, AutoModelForSequenceClassification, TFAutoModelForSequenceClassification\n",
    "from transformers import AdamWeightDecay\n",
    "import pandas as pd\n",
    "import numpy as np\n",
    "import re, os, time, gc, psutil\n",
    "import matplotlib.pyplot as plt\n",
    "import seaborn as sns\n",
    "from sklearn.model_selection import train_test_split\n",
    "from sklearn.metrics import accuracy_score, classification_report\n",
    "from keras.utils import to_categorical\n",
    "from transformers import AdamW\n",
    "from tensorflow.keras.optimizers import Adam\n",
    "from tensorflow.python.keras.losses import SparseCategoricalCrossentropy\n",
    "# from tensorflow.keras.optimizers import AdamW,\n",
    "# from tensorflow.keras.losses import SparseCategoricalCrossentropy\n",
    "# from tensorflow.keras.callbacks import EarlyStopping, ModelCheckpoint\n",
    "# from tensorflow.keras.utils import to_categorical"
   ]
  },
  {
   "cell_type": "markdown",
   "id": "8622d771bda0aaac",
   "metadata": {
    "collapsed": false,
    "jupyter": {
     "outputs_hidden": false
    }
   },
   "source": [
    "## Load the dataset and cleaning"
   ]
  },
  {
   "cell_type": "code",
   "execution_count": 16,
   "id": "d6ec82b6777b9336",
   "metadata": {
    "ExecuteTime": {
     "end_time": "2023-12-08T05:59:59.864382400Z",
     "start_time": "2023-12-08T05:59:59.428822400Z"
    },
    "collapsed": false,
    "jupyter": {
     "outputs_hidden": false
    }
   },
   "outputs": [
    {
     "data": {
      "text/html": [
       "<div>\n",
       "<style scoped>\n",
       "    .dataframe tbody tr th:only-of-type {\n",
       "        vertical-align: middle;\n",
       "    }\n",
       "\n",
       "    .dataframe tbody tr th {\n",
       "        vertical-align: top;\n",
       "    }\n",
       "\n",
       "    .dataframe thead th {\n",
       "        text-align: right;\n",
       "    }\n",
       "</style>\n",
       "<table border=\"1\" class=\"dataframe\">\n",
       "  <thead>\n",
       "    <tr style=\"text-align: right;\">\n",
       "      <th></th>\n",
       "      <th>id</th>\n",
       "      <th>transcript</th>\n",
       "      <th>confidence</th>\n",
       "      <th>label</th>\n",
       "    </tr>\n",
       "  </thead>\n",
       "  <tbody>\n",
       "    <tr>\n",
       "      <th>0</th>\n",
       "      <td>0</td>\n",
       "      <td>저는 여행 다니는 것을 굉장히 좋아하는데요. 그래가지고 스페인이나 뭐 영국 유럽 아...</td>\n",
       "      <td>NaN</td>\n",
       "      <td>0</td>\n",
       "    </tr>\n",
       "    <tr>\n",
       "      <th>1</th>\n",
       "      <td>1</td>\n",
       "      <td>반려동물을 키우고 계신가요? 혹시 안 키우고 계시다면은 어떤 반려동물을 한번 키워보...</td>\n",
       "      <td>NaN</td>\n",
       "      <td>0</td>\n",
       "    </tr>\n",
       "    <tr>\n",
       "      <th>2</th>\n",
       "      <td>2</td>\n",
       "      <td>씨는 주로 어떤 음식 좋아하시나요? 저는 근데 가리는 게 거의 없어서 대부분 다 ...</td>\n",
       "      <td>NaN</td>\n",
       "      <td>0</td>\n",
       "    </tr>\n",
       "    <tr>\n",
       "      <th>3</th>\n",
       "      <td>3</td>\n",
       "      <td>씨는 반려동물 어~ 좋 뭐 어떤 동물 좋아하세요? 저는 고양이를 정말 좋아하는데요...</td>\n",
       "      <td>NaN</td>\n",
       "      <td>0</td>\n",
       "    </tr>\n",
       "    <tr>\n",
       "      <th>4</th>\n",
       "      <td>4</td>\n",
       "      <td>가장 좋아하는 음식이 무엇인가요? 저는 주로 먹는 거를 좋아해서 음식을 가리지 않고...</td>\n",
       "      <td>NaN</td>\n",
       "      <td>0</td>\n",
       "    </tr>\n",
       "  </tbody>\n",
       "</table>\n",
       "</div>"
      ],
      "text/plain": [
       "   id                                         transcript  confidence  label\n",
       "0   0  저는 여행 다니는 것을 굉장히 좋아하는데요. 그래가지고 스페인이나 뭐 영국 유럽 아...         NaN      0\n",
       "1   1  반려동물을 키우고 계신가요? 혹시 안 키우고 계시다면은 어떤 반려동물을 한번 키워보...         NaN      0\n",
       "2   2   씨는 주로 어떤 음식 좋아하시나요? 저는 근데 가리는 게 거의 없어서 대부분 다 ...         NaN      0\n",
       "3   3   씨는 반려동물 어~ 좋 뭐 어떤 동물 좋아하세요? 저는 고양이를 정말 좋아하는데요...         NaN      0\n",
       "4   4  가장 좋아하는 음식이 무엇인가요? 저는 주로 먹는 거를 좋아해서 음식을 가리지 않고...         NaN      0"
      ]
     },
     "execution_count": 16,
     "metadata": {},
     "output_type": "execute_result"
    }
   ],
   "source": [
    "# Import the dataset KorCCVi\n",
    "df = pd.read_csv('KorCCVi_v2.csv')\n",
    "# df = pd.read_csv('KorCCViD_v1.3_fullcleansed.csv')\n",
    "df.head()"
   ]
  },
  {
   "cell_type": "code",
   "execution_count": 17,
   "id": "24f23d5a054d4eb",
   "metadata": {
    "ExecuteTime": {
     "end_time": "2023-12-08T05:59:59.879867200Z",
     "start_time": "2023-12-08T05:59:59.869355700Z"
    },
    "collapsed": false,
    "jupyter": {
     "outputs_hidden": false
    }
   },
   "outputs": [
    {
     "name": "stdout",
     "output_type": "stream",
     "text": [
      "<class 'pandas.core.frame.DataFrame'>\n",
      "RangeIndex: 2927 entries, 0 to 2926\n",
      "Data columns (total 4 columns):\n",
      " #   Column      Non-Null Count  Dtype  \n",
      "---  ------      --------------  -----  \n",
      " 0   id          2927 non-null   int64  \n",
      " 1   transcript  2927 non-null   object \n",
      " 2   confidence  0 non-null      float64\n",
      " 3   label       2927 non-null   int64  \n",
      "dtypes: float64(1), int64(2), object(1)\n",
      "memory usage: 91.6+ KB\n"
     ]
    }
   ],
   "source": [
    "df.info()"
   ]
  },
  {
   "cell_type": "code",
   "execution_count": 18,
   "id": "a9198ec46b807e9",
   "metadata": {
    "ExecuteTime": {
     "end_time": "2023-12-08T06:00:00.098593Z",
     "start_time": "2023-12-08T05:59:59.873869400Z"
    },
    "collapsed": false,
    "jupyter": {
     "outputs_hidden": false
    }
   },
   "outputs": [
    {
     "data": {
      "image/png": "[encoded data removed]",
      "text/plain": [
       "<Figure size 640x480 with 1 Axes>"
      ]
     },
     "metadata": {},
     "output_type": "display_data"
    }
   ],
   "source": [
    "# visualize the dataset with pie chart \n",
    "df['label'].value_counts().plot(kind='pie', autopct='%1.0f%%', colors=['green', 'red'])\n",
    "plt.title('Percentage of non-vishing and vishing text')\n",
    "plt.show()"
   ]
  },
  {
   "cell_type": "code",
   "execution_count": 19,
   "id": "c1e9d866d9e58661",
   "metadata": {
    "ExecuteTime": {
     "end_time": "2023-12-08T06:00:00.141747200Z",
     "start_time": "2023-12-08T05:59:59.974218Z"
    },
    "collapsed": false,
    "jupyter": {
     "outputs_hidden": false
    }
   },
   "outputs": [],
   "source": [
    "# function to plot the class distribution\n",
    "def plot_class_distribution(data, title):\n",
    "    sns.set(style=\"whitegrid\")\n",
    "    # sns.set(style=\"ticks\")\n",
    "    ax = sns.countplot(x='label', data=data)\n",
    "    ax.set_title(title)\n",
    "    \n",
    "    # Annotate the bars with the number of samples\n",
    "    for p in ax.patches:\n",
    "        ax.annotate(f'{p.get_height()}', (p.get_x() + p.get_width() / 2., p.get_height()),\n",
    "                    ha='center', va='baseline', fontsize=11, color='black', xytext=(0, 5),\n",
    "                    textcoords='offset points')\n",
    "        \n",
    "    plt.show()"
   ]
  },
  {
   "cell_type": "code",
   "execution_count": 20,
   "id": "6b97dea8476704d",
   "metadata": {
    "ExecuteTime": {
     "end_time": "2023-12-08T06:00:00.143748900Z",
     "start_time": "2023-12-08T05:59:59.978221400Z"
    },
    "collapsed": false,
    "jupyter": {
     "outputs_hidden": false
    }
   },
   "outputs": [
    {
     "data": {
      "image/png": "[encoded data removed]",
      "text/plain": [
       "<Figure size 640x480 with 1 Axes>"
      ]
     },
     "metadata": {},
     "output_type": "display_data"
    }
   ],
   "source": [
    "# drop the colum we don't need\n",
    "df.drop(['confidence'], axis=1, inplace=True)\n",
    "plot_class_distribution(df, 'Full Dataset Class Distribution')"
   ]
  },
  {
   "cell_type": "code",
   "execution_count": 21,
   "id": "40f3b866ce63d881",
   "metadata": {
    "ExecuteTime": {
     "end_time": "2023-12-08T06:00:00.143748900Z",
     "start_time": "2023-12-08T06:00:00.090200800Z"
    },
    "collapsed": false,
    "jupyter": {
     "outputs_hidden": false
    }
   },
   "outputs": [],
   "source": [
    "# function to perform the cleaning parts\n",
    "def apply_replacement(src_df, replace_func):\n",
    "    ret_df = src_df\n",
    "    ret_df['transcript'] = ret_df['transcript'].apply(lambda x: replace_func(x))\n",
    "    return ret_df"
   ]
  },
  {
   "cell_type": "code",
   "execution_count": 22,
   "id": "c36e45acf91013be",
   "metadata": {
    "ExecuteTime": {
     "end_time": "2023-12-08T06:00:00.199288300Z",
     "start_time": "2023-12-08T06:00:00.095088Z"
    },
    "collapsed": false,
    "jupyter": {
     "outputs_hidden": false
    }
   },
   "outputs": [],
   "source": [
    "# remove the unwanted word and characters from the dataset\n",
    "def word_replace(x):\n",
    "    example_word_replace_list = {'o/': '',\n",
    "                                 'b/': '',\n",
    "                                'n/': '',\n",
    "                                '\\n': ' ',\n",
    "                                'name': '',\n",
    "                                'laughing': '',\n",
    "                                'clearing': '',\n",
    "                                'singing': '',\n",
    "                                'applauding': ''}\n",
    "\n",
    "    for i in example_word_replace_list:\n",
    "        x = x.replace(i, example_word_replace_list[i])\n",
    "    return x"
   ]
  },
  {
   "cell_type": "code",
   "execution_count": 23,
   "id": "c8dafdce02ee7b67",
   "metadata": {
    "ExecuteTime": {
     "end_time": "2023-12-08T06:00:00.200288100Z",
     "start_time": "2023-12-08T06:00:00.103601900Z"
    },
    "collapsed": false,
    "jupyter": {
     "outputs_hidden": false
    }
   },
   "outputs": [],
   "source": [
    "# remove the special character from the transcripts\n",
    "def remove_special_characters(sentence):\n",
    "    sentence = re.sub(r\"[^a-zA-Z0-9ㄱ-ㅣ가-힣]\", ' ', sentence)\n",
    "    sentence = re.sub(r\"[-~=+,#/\\?:^$.@*\\\"※~&%ㆍ!』\\\\‘|\\(\\)\\[\\]\\<\\>`\\'…》]\", '', sentence)\n",
    "    return sentence"
   ]
  },
  {
   "cell_type": "code",
   "execution_count": 24,
   "id": "a73a15ba305f181c",
   "metadata": {
    "ExecuteTime": {
     "end_time": "2023-12-08T06:00:00.200288100Z",
     "start_time": "2023-12-08T06:00:00.110604100Z"
    },
    "collapsed": false,
    "jupyter": {
     "outputs_hidden": false
    }
   },
   "outputs": [],
   "source": [
    "# remove x and O from the transcripts\n",
    "def remove_x_o(sentence):\n",
    "    sentence = re.sub(r\"[xX]\", '', sentence)\n",
    "    sentence = re.sub(r\"[oO]\", '', sentence)\n",
    "    sentence = re.sub(r\"(o|O|\\ㅇ|0|x){2,}\", '', sentence)\n",
    "    return sentence"
   ]
  },
  {
   "cell_type": "code",
   "execution_count": 25,
   "id": "829235c0b269528a",
   "metadata": {
    "ExecuteTime": {
     "end_time": "2023-12-08T06:00:00.200288100Z",
     "start_time": "2023-12-08T06:00:00.117604500Z"
    },
    "collapsed": false,
    "jupyter": {
     "outputs_hidden": false
    }
   },
   "outputs": [],
   "source": [
    "# remove all the digits and numbers from the transcripts\n",
    "def remove_digits(sentence):\n",
    "    sentence = re.sub(r\"[0-9]\", '', sentence)\n",
    "    return sentence"
   ]
  },
  {
   "cell_type": "code",
   "execution_count": 26,
   "id": "a91344cbe76d6872",
   "metadata": {
    "ExecuteTime": {
     "end_time": "2023-12-08T06:00:00.261483Z",
     "start_time": "2023-12-08T06:00:00.124603Z"
    },
    "collapsed": false,
    "jupyter": {
     "outputs_hidden": false
    }
   },
   "outputs": [],
   "source": [
    "# remove all extra spaces from the transcripts\n",
    "def remove_extra_spaces(sentence):\n",
    "    sentence = re.sub(r\"\\s+\", ' ', sentence)\n",
    "    return sentence"
   ]
  },
  {
   "cell_type": "code",
   "execution_count": 27,
   "id": "1498a28740043432",
   "metadata": {
    "ExecuteTime": {
     "end_time": "2023-12-08T06:00:01.581116600Z",
     "start_time": "2023-12-08T06:00:00.133117800Z"
    },
    "collapsed": false,
    "jupyter": {
     "outputs_hidden": false
    }
   },
   "outputs": [],
   "source": [
    "# Apply all the cleaning functions to the dataset\n",
    "df = apply_replacement(df, word_replace)\n",
    "df = apply_replacement(df, remove_special_characters)\n",
    "df = apply_replacement(df, remove_x_o)\n",
    "df = apply_replacement(df, remove_digits)\n",
    "df = apply_replacement(df, remove_extra_spaces)"
   ]
  },
  {
   "cell_type": "code",
   "execution_count": 28,
   "id": "4fb9dfe1da74752d",
   "metadata": {
    "ExecuteTime": {
     "end_time": "2023-12-08T06:00:01.678813200Z",
     "start_time": "2023-12-08T06:00:01.605126Z"
    },
    "collapsed": false,
    "jupyter": {
     "outputs_hidden": false
    }
   },
   "outputs": [
    {
     "name": "stdout",
     "output_type": "stream",
     "text": [
      "        id                                         transcript  label\n",
      "69      69  네 씨는 혹시 여행 좋아하시나요 저는 되게 많이 좋아합니다 국내 해외 다 좋아하고 ...      0\n",
      "1168  1168  언니 요새 이가 여자 친구한테 선물 받은 거 있어 있긴 있는 거 같더라고 그렇지 않...      0\n",
      "1452  1452  나는 지금 강아지를 년째 키우고 있는 중이거든 우리 강아지 이름은 코난이고 아 얘가...      0\n",
      "2233  2233  본인 성함 알겟습니다 제가 첫번째는 이제 본인이 혹시라도 이제 깡통 계좌 발생으로 ...      1\n",
      "2239  2239  보니까 서면조사를 받으셔야 되고요 알겠습니다 그럼 말씀 드릴게요 계속 말씀드렸다시피...      1\n"
     ]
    }
   ],
   "source": [
    "# print the row with any English character in the transcript\n",
    "print(df[df['transcript'].str.contains('[a-zA-Z]')].head(5))"
   ]
  },
  {
   "cell_type": "code",
   "execution_count": 29,
   "id": "2490bf83df1fd94",
   "metadata": {
    "ExecuteTime": {
     "end_time": "2023-12-08T06:00:02.210763800Z",
     "start_time": "2023-12-08T06:00:01.676813900Z"
    },
    "collapsed": false,
    "jupyter": {
     "outputs_hidden": false
    }
   },
   "outputs": [],
   "source": [
    "# save the cleaned dataset\n",
    "df.to_csv('KorCCVi_v2_cleaned.csv', index=False)"
   ]
  },
  {
   "cell_type": "markdown",
   "id": "e8908527f4a2408f",
   "metadata": {
    "collapsed": false,
    "jupyter": {
     "outputs_hidden": false
    }
   },
   "source": [
    "## Training the KoBERT model using the Tokenizer provided by KoBERT"
   ]
  },
  {
   "cell_type": "code",
   "execution_count": 30,
   "id": "2538b751924d06dc",
   "metadata": {
    "ExecuteTime": {
     "end_time": "2023-12-08T06:00:02.560862700Z",
     "start_time": "2023-12-08T06:00:02.210763800Z"
    },
    "collapsed": false,
    "jupyter": {
     "outputs_hidden": false
    }
   },
   "outputs": [],
   "source": [
    "# Load the cleaned dataset\n",
    "df = pd.read_csv('KorCCVi_v2_cleaned.csv')"
   ]
  },
  {
   "cell_type": "code",
   "execution_count": 31,
   "id": "c45449faf08a0361",
   "metadata": {
    "ExecuteTime": {
     "end_time": "2023-12-08T06:00:02.570862400Z",
     "start_time": "2023-12-08T06:00:02.563861800Z"
    },
    "collapsed": false,
    "jupyter": {
     "outputs_hidden": false
    }
   },
   "outputs": [],
   "source": [
    "sentences = df['transcript'].values\n",
    "labels = df['label'].values"
   ]
  },
  {
   "cell_type": "markdown",
   "id": "775b6039944adca8",
   "metadata": {
    "collapsed": false,
    "jupyter": {
     "outputs_hidden": false
    }
   },
   "source": [
    "### Tokenization & Input Formatting Method 1"
   ]
  },
  {
   "cell_type": "code",
   "execution_count": 32,
   "id": "ef8e6e7a0a8554fe",
   "metadata": {
    "ExecuteTime": {
     "end_time": "2023-12-08T06:00:02.586864900Z",
     "start_time": "2023-12-08T06:00:02.566864700Z"
    },
    "collapsed": false,
    "jupyter": {
     "outputs_hidden": false
    }
   },
   "outputs": [],
   "source": [
    "# Load the KoBERT tokenizer\n",
    "# tokenizer = BertTokenizer.from_pretrained(\"kykim/bert-kor-base\")\n",
    "# tokenizer = BertTokenizer.from_pretrained('monologg/kobert')"
   ]
  },
  {
   "cell_type": "code",
   "execution_count": 33,
   "id": "d2d64dcff0a97b02",
   "metadata": {
    "ExecuteTime": {
     "end_time": "2023-12-08T06:00:02.596861100Z",
     "start_time": "2023-12-08T06:00:02.573861900Z"
    },
    "collapsed": false,
    "jupyter": {
     "outputs_hidden": false
    }
   },
   "outputs": [],
   "source": [
    "# # Tokenize the input texts\n",
    "# def convert_example_to_feature(review):\n",
    "#     return tokenizer.encode_plus(review, \n",
    "#                                  add_special_tokens = True, # Add '[CLS]' and '[SEP]'\n",
    "#                                  max_length = None,           # 64, 512, None, max_length, Pad & truncate all sentences \n",
    "#                                  # pad_to_max_length = True,\n",
    "#                                  padding='max_length',        # True, longest, max_length, Pad & truncate all sentences\n",
    "#                                  return_attention_mask = True,\n",
    "#                                  return_token_type_ids = False,\n",
    "#                                  truncation=True)"
   ]
  },
  {
   "cell_type": "code",
   "execution_count": 34,
   "id": "a3c7f2462b763943",
   "metadata": {
    "ExecuteTime": {
     "end_time": "2023-12-08T06:00:02.598861400Z",
     "start_time": "2023-12-08T06:00:02.579858700Z"
    },
    "collapsed": false,
    "jupyter": {
     "outputs_hidden": false
    }
   },
   "outputs": [],
   "source": [
    "# # Map to the expected input to TFBertForSequenceClassification, see https://huggingface.co/transformers/model_doc/bert.html#tfbertforsequenceclassification\n",
    "# input_ids = []\n",
    "# attention_masks = []"
   ]
  },
  {
   "cell_type": "code",
   "execution_count": 35,
   "id": "98dda219087f3992",
   "metadata": {
    "ExecuteTime": {
     "end_time": "2023-12-08T06:00:02.650383Z",
     "start_time": "2023-12-08T06:00:02.588859700Z"
    },
    "collapsed": false,
    "jupyter": {
     "outputs_hidden": false
    }
   },
   "outputs": [],
   "source": [
    "# for sent in sentences:\n",
    "#     encoded_dict = convert_example_to_feature(sent)\n",
    "#     input_ids.append(encoded_dict['input_ids'])\n",
    "#     attention_masks.append(encoded_dict['attention_mask'])"
   ]
  },
  {
   "cell_type": "code",
   "execution_count": 36,
   "id": "5cd7f2728eb21254",
   "metadata": {
    "ExecuteTime": {
     "end_time": "2023-12-08T06:00:02.679897200Z",
     "start_time": "2023-12-08T06:00:02.595862100Z"
    },
    "collapsed": false,
    "jupyter": {
     "outputs_hidden": false
    }
   },
   "outputs": [],
   "source": [
    "# # # Print the shapes of the data.\n",
    "# print('Original: ', sentences[0])\n",
    "# print('Token IDs:', input_ids[0])"
   ]
  },
  {
   "cell_type": "code",
   "execution_count": 37,
   "id": "39a8aaf0a3d5c814",
   "metadata": {
    "ExecuteTime": {
     "end_time": "2023-12-08T06:00:02.679897200Z",
     "start_time": "2023-12-08T06:00:02.603859500Z"
    },
    "collapsed": false,
    "jupyter": {
     "outputs_hidden": false
    }
   },
   "outputs": [],
   "source": [
    "# # Convert the lists into tensors.\n",
    "# # input_ids = tf.convert_to_tensor(input_ids)\n",
    "# # attention_masks = tf.convert_to_tensor(attention_masks)\n",
    "# # labels = tf.convert_to_tensor(labels)\n",
    "# \n",
    "# input_ids = tf.constant(input_ids)\n",
    "# attention_masks = tf.constant(attention_masks)\n",
    "# labels = tf.constant(labels)"
   ]
  },
  {
   "cell_type": "code",
   "execution_count": 38,
   "id": "c690ebe44a75f043",
   "metadata": {
    "ExecuteTime": {
     "end_time": "2023-12-08T06:00:02.679897200Z",
     "start_time": "2023-12-08T06:00:02.609863200Z"
    },
    "collapsed": false,
    "jupyter": {
     "outputs_hidden": false
    }
   },
   "outputs": [],
   "source": [
    "# input_ids"
   ]
  },
  {
   "cell_type": "code",
   "execution_count": 39,
   "id": "27e99a40ecda3d83",
   "metadata": {
    "ExecuteTime": {
     "end_time": "2023-12-08T06:00:02.680897100Z",
     "start_time": "2023-12-08T06:00:02.625869400Z"
    },
    "collapsed": false,
    "jupyter": {
     "outputs_hidden": false
    }
   },
   "outputs": [],
   "source": [
    "# labels"
   ]
  },
  {
   "cell_type": "code",
   "execution_count": 40,
   "id": "34df9aaa31b60a15",
   "metadata": {
    "ExecuteTime": {
     "end_time": "2023-12-08T06:00:02.680897100Z",
     "start_time": "2023-12-08T06:00:02.627870700Z"
    },
    "collapsed": false,
    "jupyter": {
     "outputs_hidden": false
    }
   },
   "outputs": [],
   "source": [
    "# attention_masks"
   ]
  },
  {
   "cell_type": "code",
   "execution_count": 41,
   "id": "666f2fc1a5eb34af",
   "metadata": {
    "ExecuteTime": {
     "end_time": "2023-12-08T06:00:02.680897100Z",
     "start_time": "2023-12-08T06:00:02.634387500Z"
    },
    "collapsed": false,
    "jupyter": {
     "outputs_hidden": false
    }
   },
   "outputs": [],
   "source": [
    "# # split the dataset into train, validation and test set\n",
    "# # train_ratio = 0.7\n",
    "# # validation_ratio = 0.15\n",
    "# # test_ratio = 0.15\n",
    "# #     \n",
    "# # train_inputs, validation_inputs, train_labels, validation_labels = train_test_split(input_ids, labels, random_state=42, test_size=0.2)\n",
    "# # train_inputs, validation_inputs, train_labels, validation_labels = train_test_split(input_ids, labels, random_state=2018, test_size=0.1)\n",
    "# # train_masks, validation_masks, _, _ = train_test_split(attention_masks, input_ids, random_state=42, test_size=0.2)\n",
    "# # Split data into train and validation sets\n",
    "# train_inputs, validation_inputs, train_labels, validation_labels = train_test_split(input_ids, labels, random_state=2018, test_size=0.1)\n",
    "# train_masks, validation_masks, _, _ = train_test_split(attention_masks, labels, random_state=2018, test_size=0.1)"
   ]
  },
  {
   "cell_type": "markdown",
   "id": "8f84504802e5dba",
   "metadata": {
    "collapsed": false,
    "jupyter": {
     "outputs_hidden": false
    }
   },
   "source": [
    "### Split the dataset"
   ]
  },
  {
   "cell_type": "code",
   "execution_count": 42,
   "id": "17cd2fb649284eab",
   "metadata": {
    "ExecuteTime": {
     "end_time": "2023-12-08T06:00:02.680897100Z",
     "start_time": "2023-12-08T06:00:02.643382600Z"
    },
    "collapsed": false,
    "jupyter": {
     "outputs_hidden": false
    }
   },
   "outputs": [],
   "source": [
    "# Split data into training and testing sets\n",
    "# train_inputs, validation_inputs, train_inputs, validation_labels = train_test_split(sentences, labels, random_state=2018, test_size=0.2)\n",
    "\n",
    "# Split data into training and testing sets\n",
    "X_train, X_test, y_train, y_test = train_test_split(sentences, labels, test_size=0.2)"
   ]
  },
  {
   "cell_type": "code",
   "execution_count": 43,
   "id": "244d99dbb5717e76",
   "metadata": {
    "ExecuteTime": {
     "end_time": "2023-12-08T06:00:02.688457800Z",
     "start_time": "2023-12-08T06:00:02.654382400Z"
    },
    "collapsed": false,
    "jupyter": {
     "outputs_hidden": false
    }
   },
   "outputs": [
    {
     "data": {
      "text/plain": [
       "array(['가족의 의미는 어떤 거 같아 가족의 의미는 되게 소중한 사람들 같아 가족이라는 거는 한 명 한 명이 모여가지고 혈연이라는 것도 있지만은 혈연을 넘어서 그냥 피가 섞였다는 그런 거 말고도 되게 소중한 사람들 있으니까 힘이 나고 오늘 아버지께서 아침에 말씀하신 거처럼 너희가 있어서 힘이 난다는 거처럼 가족이라는 거는 되게 힘이 되는 주는 존재 존재 같아 그래서 피가 섞였다는 것도 되게 중요하지만은 서로한테 힘이 되어 준다는 점에서 인생을 살아가는 원동력 그런 동기부여 같은 게 되는 거 같아 누나는 어떻게 생각해 누나는 피로 이어져서도 그렇고 모든 면이 닮아 있어서 그게 너무 큰 의미인 거 같아 그리고 또 가족은 나한테 없어서는 안 될 존재인 거 같아 너는 가족이 어떤 거 같아 가족은 다양한 구성원들로 이루어져 있는데 우리 가족 같은 경우는 아버지 계시고 이제 누나 두 명 있고 이렇게 나 서로 이렇게 도와주면서 살고 있는데 아빠께서 대표적으로 경제 활동하시고 작은누나도 이제 경제 활동하고 누나도 이제 공부하고 나도 군대 전역하고 이제 어 일할 것도 찾고 공부도 하고 있는데 이런 구성원들이 모여가지고 되게 힘이 되는 거 같아 일단 아빠께서 지금은 경제 활동 주로 사업하시지만은 우리도 많이 도와드려야 되고 그런 점에서 구성원들 한 명 한 명이 되게 큰 힘이 되는 거 같아 다른 가족들이랑 좀 다르기도 하지 약간 구성원 자체가 최근에 가족과의 특별한 일화 같은 거는 뭐가 있을까 너의 전역 나의 전역 그지 전역을 했지 최근에 년도 월에 입대 해가지고 누나 누나가 처음에 누나는 회사 다니고 있어가지고 입대할 때 못 왔는데 누나랑 아빠 오셔가지고 사단장님하고 그때 처음 대화도 하고 이제 수료 이렇게 년 개월 넘게 뭐 지나간 다음에 전역을 했는데 수 수료할 때가 가장 기억에 남지 누나도 기억에 많이 남지 누나 다리 다쳐가지고 오고 그런데 훈련병 해가지고 군대는 딱 중간만 할 거라 했는데 어떻게 생각해 중간만 한 거 같아 아니 너무 잘했어 중간만 한다는 아이가 너무 열심히 준비해서 너무 훌륭한 상들을 너무 많이 받고 그리고 특급전사가 되어서 돌아왔지 집에 그지 군대 딱 중간만 선임들도 처음에는 너무 나서면 안 되고 조교들도 처음에 군대라는 건 너무 나서면 안 되고 딱 중간만 해야 된다 했는데 중간만이 안 되더라고 생각해 보니까 중간만은 잘못된 거 같아 군대에서 중간만 하라는 거는 최선을 다 그러니까 군대라는 곳도 그렇고 사회 전반에서 그냥 최선을 다하는 게 되게 중요한 거 같아 그래서 최선을 다했기 때문에 선임들이나 후임들한테 다 인정받고 어 후회 없는 군 생활이었던 거 같아 누나도 군대 갔으면 잘했을 거 같은데 군대도 마찬가지고 모든 면에서 다 노력을 하고 최선을 다해야 된다고 생각을 해 그렇지 가족끼리 제주도 여행 가서 되게 좋았는데 여행 같은 경우도 되게 재미난 일화가 많은데 나는 제주도 간 것도 재밌었지만 여러 번 세 번 정도 제주도 가족끼리 같이 간 것도 재밌었지만은 아 나는 안면도가 제일 재밌었던 거 같아 제주도 같은 경우는 첫 번째 갔을 때 내가 초등학교 학년 때 너무 삐져가지고 아버지가 갈 때마다 삐진 일화를 얘기하시니까 나는 좀 부담이 되더라고 갈 때마다 최근에는 그래도 운전할 수 있어서 아 아빠 되게 편하시니까 편하다 하셔서 되게 좋았었고 나는 안면도가 가장 기억에 남아 제주도 보다는 안면도 대하가 맛있었거든 누난 어떻게 생각해 누나가 가장 기억에 남았던 여행 같은 경우는 누나도 안면도는 너무 아름다운 곳이어서 그것도 네가 군대 가기 전에 간 곳이어서 특별히 기억이 남는데 제주도는 누난 좀 살이 떨렸어 운전을 처음 시작해가지고 한 바퀴 도는데 운전을 그렇게 처음에는 잘했다가 잘하지 못했는데 두 번째 여행 갔을 때 그렇게 잘하는 거 보고 놀랐어 누난 운전면허증이 없거든 그 여행을 제주도 여행 두 번째 갔을 때 아빠께서 운전 처음 시켰 었 었던 건가 처음 시켰 시키셨지 그지 운전도 군대 입대 해가지고 평소에는 따지를 못하니까 휴가 때 나와가지고 학원 다니기에는 부담이 되고 뭔가 그 금액을 주고 가야 되나 싶어가지고 혼자 배워가지고 아빠 도움도 받고 해서 면허를 잘 땄는데 운전은 운전면허는 따면 되게 좋은 거 같아 언제 물론 당장은 써먹을 때가 없겠지 나 고등학교 때 선생님도 나이가 서른 넘었을 때까지 이제 운전면허 필요 없어 그거 버스 타면 되지 라고 말씀하셨던 거처럼 굳이 필요 없으면 안 따도 되긴 하는데 언제 쓸진 또 모르니까 사람이 언제 무슨 일 할지도 모르고 그래서 운전면허는 따면 되게 좋은 거 같아 운전은 배워 볼 생각 있어 당연히 있지 서른 전에는 딸 생각이야 그지 운전면허는 종으로 따는 게 좋은데 학원 안 다니면 종 보통 운전하는 게 좋을 좋을 거 같아 닮고 싶은 사람 같은 경우는 나는 아버지 아빠께서 뭐 사업하시면서 년도부터 거의 년 하셨는데 많이 힘들었지 중간중간에 자금 같은 경우도 되게 유치하느라 많이 고생 하셨었고 자금 유치한다 해서 물론 되게 좋은 깨달음이 됐던 거 같은데 내 꿈도 궁극적으론 사업가니까 되게 좋은 아빠 영향을 보면서 아빠 영향력을 통해서 되게 어 영향을 되게 많 많이 받은 거 같아 자본금 같은 경우도 다른 사람 자본을 받으면은 이제 주식회사가 됐을 때 그 사람 영향력이 커지니까 의사 결정권이 줄어든다는 거 그런 면에서 많은 내 스스로 준비를 많이 해가지고 나는 내 사업을 해야겠다 그런 생각이 들었어 누나는 당연히 뭐 닮고 싶은 사람은 아빠겠지 가족 구성원 중에서는 나중에 이제 뭐 하고 싶어 누나는 가장 닮고 싶은 사람은 당연히 아빠 아버지이고 그리고 누나 꿈은 당연히 아빠 사업에 도움 되는 사람이 되고 싶어 그래서 씨피에이도 지금 준비하는 중이지 최근에 이제 명절 때 친척들도 봤어야 되는데 친척을 본 거는 내가 작년에 그 휴가 나와가지고 외출했을 때가 마지막인가 그치 설날 때 그럴 때 딱히 뭐 사이가 그렇게 좋지가 않으니까 특정한 사람 때문에 잘 안 내려가긴 하는데 친척도 되게 중요한 사람들이지 나는 특히 우리 고모 같은 경우어릴 때 많이 보살펴 주셔가지고 되게 감사하고 할머니도 빨리 뵙고 싶고 코로나 때문에 잘 못 가긴 하는데 할머니 건강 악화 되실까봐 할머니도 빨리 뵙고 싶네 할머니 염색시켜 드려야지 그치 그래서 누나가 머리 미용도 배웠지 그리고 미용 재료도 다 샀고 그리고 전에 할머니한테 염색 시켜 드렸 던 것이 제일 좋았는데 지금은 못 해 드려서 많이 아쉬워 맞아 염색을 직접 해야겠다 생각했던 게 원래 가던 할머니 단골 미용실이 있었는데 가격이 뭐 딱히 정해져 있지 않고 어느 날은 파마가 만 원에 만 원인데 또 어떤 날은 파마가 만 원이야 그런 거 때문에 누나가 직접 한다고 했었지 할머니께서도 되게 고령이시기 때문에 좀 약간 우리가 지켜보고 있지 않으면은 대우가 좀 불친절하다 그런 게 조금 있었던 거 같아 특히 시골 미용실이라서 또 그 또 고령에 연세 가지신 분께서 하시는 거라서 약간 본인 입맛대로 약간 하시는 게 없지 않아 있었지 그런 면에서 가족들을 위해서 뭐 나도 그렇고 요리를 배운다든가 미용 기술을 배운다든가 그런 것도 나름 써먹을 수 있는 거 같아 나중에 뭐 자식이 있으면은 결혼했을 때 자식이 있으면은 직접 머리도 잘라준다던가 할 수 있고 많은 부모님들이 그렇게 하기도 했고 최근에 미용실 갔는데 그 미용사분께서 어머님들이 대개 직접 미용을 배워 가지고 왜냐면 아기들은 이렇게 가위를 되게 무서워하니까 직접 잘라줬다고 많이 하더라고 되게 좋은 거 같아 내 생각에도 뭔가를 배워 두는 거는 강아지는 최 요즘에 특히 가족들이 반려동물을 많이 키우는데 우리는 딱히 안 키우지 그렇지 우리는 특히 어렸을 땐 많이 키웠어도 지금은 아빠께서 개털 알레르기가 있으셔가지고 못 키우지 사실상 맞아 옛날에는 특히 시골에 있을 때 창녕에 있을 때 할아버지께서 약간 집 지키는 그런 강아지 키우신 거라서 아 집 지키는 개를 키우신 거라서 많이 키웠었는데 지금은 뭐 집 안에서 그때도 잠깐 집 안에서 키우긴 했는데 가족들이 집 안에서 개를 키우는 걸 안 좋아하니까 많이 싫어하지 특히 뭐 귀 고양이를 딱히 뭐 귀여워 하는 것도 아니고 강아지 말고 왜냐면은 당장 우리 일하는 것도 바쁘고 먹고살기도 바쁜데 강아지 챙길 여력은 없다고 그리고 누나는 누나는 쌍둥이여서도 그렇지만 개 조심 개 조심을 많이 했지 누나는 나한테 고마웠거나 아니면 속상했던 거 있어 누나가 너한테 고마웠던 점은 누나가 장녀이지만 네가 제일 막내잖아 그런데 오빠같이 어디 무서운 곳 있으면 언제든지 나타나 주고 어 전화 주고 지금도 막내가 아닌 오빠처럼 해줘서 고맙고 속상했던 부분은 여자친구 랑 여자친구랑 있었 있어서 조금 약간 누나들한테 없지 않아 막내로 다시 돌아간 느낌이 들어서 속상했어 네가 네가 만약에 지금 여자친구랑 결혼을 한다면 어떤 사람이 되었으면 좋겠어 가족을 이루게 된다면은 가정을 이루게 된다면은 책임감 있는 사람이 되고 싶지 물론 가족이라는 거는 내 신념은 준비가 되지 않으면은 결혼 안 하는 게 맞다 내 아내가 될 사람을 책임지는 거 외에도 그 아이를 키우는 데 되게 돈이 많이 들어가잖아 준비도 많이 필요하고 최근에 보면은 준비되지 않은 부모들 이 되게 기사에 많이 언급이 되는데 그런 면을 보면은 뭐 부모로서의 교육도 뭐 부 부모 교육 과정 같은 거 그런 것도 좀 받으면 좋을 거 같고 또 재정적으로도 내 꿈을 이뤘을 때 나이가 당장 뭐 찼다고 해서 나이가 당장 스물아홉 뭐 서른이 된다 해서 결혼하는 게 아니라 준비가 됐을 때 아이나 아내를 책임질 수 있는 그런 사람이 되고 싶어 누나는 누나는 만약에 누나도 이제 가족을 이루게 되면은 가정을 이루게 되면은 어떤 사람이 되고 싶어 누나는 가정을 이루게 된다면 물론 사랑하는 사람을 만나고 싶고 그 가정이 나의 인생 동반자잖아 그래서 나는 내 남편이 물론 경제적인 면도 있고 요리도 잘해 줬으면 좋겠고 또 내 말을 잘 들어줬으면 좋겠어 내가 만약 외동이었으면 어 어땠을까라는 그런 생각 해 본 적 있어 해 본 적은 없었는데 만약 외동이었으면은 내가 막 나갔을 거 같아 내 성격이 많이 많이 지금처럼 되지 않고 용돈도 많이 받았을 거 같고 그렇게 막 나갔을 거 같아 그지 나도 외동이었으면은 약간 잘못된 부분을 뭐 지적해 줄 사람도 부모님이 바쁘시니까 잘 지적도 못 해주고 혼자서 되게 많이 외로웠을 거 같아 탈선을 했을 염려도 있고 누나들이 있으니까 그래도 의지 의지도 많이 하고 잘못된 부분도 되게 많이 생각해 보고 돌아봤던 거 같아 ',\n",
       "       ' 어릴 때 꿈이 뭐였어 내 옛날에 꿈이 어릴 때는 우리 그 그 당시에는 학교 다닐 때 그 뜨개질 같은 거 있잖아 그때 그 지금은 많이 안 하는데 옛날에는 막 그 구정 뜨개실 뭐 스킬 뭐 이런 거 굉장히 많이 했거든 근데 그런 쪽으로 조금 소질이 있었는지 없었는지 모르겠지만 그 뜨개질하는 거 그걸 좋아해서 내가 수예점 내는 게 꿈이었어 근데 인제 그 막 꿈에 그치고 말았지만 한동안은 어릴 때는 수예점 내고 그다음에 이제 음악 좋아하니까 레코드 가게 하는 거 그런 걸 인제 꿈을 삼고 있었는데 그게 이제 실현은 안 됐지만 그래도 인제 계속 그 뜨개질 그 수예점하고 레코드 가게 이거를 내가 그 이렇게 같이 음악 들으면서 뜨개질하고 이러는 꿈을 굉장히 많이 꿨어 어릴 때는 그러니까 몰라 내가 집에서 만약에 쪼끔 내 생각대로 조금 밀어주고 이랬으면 그걸 하고 있을지도 몰라 근데 우리 아버지가 옛날에 여자는 우리 아버지가 아주 옛날 사람도 아닌데 왜 이 내 하는 거를 전부 다 제지를 많이 했거든 근데 나는 조금 활동적이고 뭔가를 다 하고 싶어 하 했는데 우리 아버지가 하여튼 이유는 모르겠지만 하여튼 굉장히 뭘 못 하게 자꾸 제재를 많이 했어 여자는 그냥 어 나가면 안 된다 뭘 뛰면 안 된다 뭐 다니면 안 된다 뭐 밤늦게 다니지 마라 이런 얘기를 많이 해가지고 내가 굉장히 제재를 많이 받고 살아가지고 어쨌든 뭐 그런 거 하고 싶어 하는 그 꿈을 다 뭐 생각만 했을 뿐이지 이루지를 못했지 근데 그 은 어릴 때 꿈이 뭐였어 나는 이렇게 뭐 지금 표현을 하자면 예술적인 건데 나도 그 뜨개질이라든지 이런 게 만지고 뭐 만들고 이러는 게 참 재밌었거든 그래서 이래 음악 듣는 것도 물론 이제 같이 그걸 하는데 나도 커서 아니 커서라는기보다는 중간중간에도 그런 관련된 일을 조금 하고 싶다 그리고 어 직접 손으로 뭔가를 만지면서 이렇게 뭔가 할 수 있는 것 꼭 하나의 어떤 단 한 가지만 딱 이래 얘기가 아니라 글씨 쓰는 것도 그때 재밌어했었고 또 그림도 이렇게 붓 그리면은 내가 막 잘 그린다 생각은 안 했는데 선생님이 조금 추천을 하는 그런 게 조금 있어서 아 내가 조금 가능성이 있을까 그런 거 그런 어쩜 미술 쪽으로 관심을 조금 가지면서 그것을 조금 해보려고 하는 그런 게 있었거든 거기 계속 꿈이 그 생각이 가지고 있어서 그런지 내가 이제 어 그래픽 디자인이라든지 그 도안이라든지 그런 쪽 방면으로 쪼끔 소질이 있어서인 인쇄 쪽으로라든지 그렇게 영향이 이렇게 갔던 거 같아 그래 지금 남편이랑 만나기 전에도 이제 그 그림을 배우면서 만나가지고 그 그래픽 디자인을 하고 이런 것이 인쇄와 관련되니까 기획이라든지 그런 관련된 것으로 하는 기 내 꿈이 그대로 이루어졌다는 기 생각이 들더라고 처음에는 한 가지 이것을 하겠다 이런 생각은 아닌데 그에 관련된 걸 하야 해야 되겠다 이런 생각으로 늘 가지고 있으니까 그 꿈이 그런 식으로 방향을 잡아준 것 같아 그래서 그동안 그렇게 늘 해 왔고 또 그것이 이제 사진 작업이라든지 이렇게 포토샵 일러스트 이런 걸을 함으로써 더 발전적인 계기가 되지 않았나 그런 생각이 들었 들고 또 그걸 갖다가 활용하면서 지금 또 쪼그마한 취미생활로 또 이어나가고 있는 거 같고 그래 음 그 꿈이 꾸었던 그거를 꼭 이루었다기보다 그래도 그만큼의 어떤 그 과정을 밟고 있다 하는 게 굉장히 또 부러운 거 같네 그러니까 나는 그 그 꿈은 그냥 그 어릴 때 그 꿈으로 그냥 묻혀져버리고 그냥 세월이 지나면서 또 변하고 변하고 해서 지금 내가 이 나이 때 인제 꿈이 뭐냐 이렇게 물으면 나는 이렇게 외로운 걸 조금 싫어하는 거 같아 그래서 사람들하고 이렇게 어울리고 이러는 거를 좋아하다 보니까 내가 또 뭐 이렇게 뭐 음식이라든가 뭐 만들기라든가 뭐 이런 걸 좋아하니까 그런 그 숍이나 뭐 이런 쪽에 음식을 쪼끔 인제 해가지고 음 그때그때 메뉴 다르게 해서 음식이라든가 이런 걸 쪼끔 해가지고 사람들 인제 많이 이렇게 힘들게 하지 않고 그냥 약간 한적한 곳에서 인제 오 오가는 사람들하고 만나고 소통하고 음식 나누고 뭐 이렇게 하는 게 너무 이제 하고 싶은 일이거든 지금에 와서는 근데 인제 그렇게 하고 싶어서 계속 인제 생각은 하고 어느 정도 그 줄거리는 다 잡아놨는데 물론 뭐 꿈도 뭐 어느 정도 경제적으로 받쳐줘야 뭐 이게 조금 할 수 있는 그런 부분도 있고 그리고 그렇게 못 하더라도 어쨌든 내 나름대로 인제 그런 꿈에 가까운 그 생활을 한다고 생각하거든 나는 그냥 그걸 꼭 어디에 해놓고 정해놓고 하지는 않으니까 처럼 그냥 생활 속에서 그냥 쪼금씩 쪼금씩 이렇게 어 그 꿈에 그 꿈에 비슷한 어떤 그런 행위들이 생활 속에 다 있으니까 뭐 굳이 그렇게 뭐 거창하게 막 이렇게 이루어야 된다 이렇게 생각 안 하고 지금 와서는 보니까 그냥 살면서 살면서 그 쪼끔씩 그 내 생각과 그 꿈에 대한 어떤 그런 행위들이 이루어져가는 거 같아 나는 뭐 어 그게 더 오히려 내가 음 편하게 그냥 한 그 할 수 있는 그 꿈을 이룰 수 있는 그런 일인 거 같고 꼭 어디 정해놓고 안 해도 되니까 그게 그렇게 생각하니까 내가 또 그 마음도 편하고 어떨 때는 왜 꿈 저 꿈을 저렇게 해야 되는데 싶어서 그 꿈을 위해서 그 목표를 위해서 너무 이렇게 어 그냥 아등바등 이렇게 하는 거보다 나는 조금 편하게 하고 싶다 이런 생각을 많이 하거든 그래서 그래서 그 굳이 그렇게 힘들게 생각은 안 하고 편하게 생각하려고 그래 음 음 근데 인제 그 꿈이라는 게 꿔야 꿈이잖아 꿈을 꾸다 보면은 뭐 이룰 수도 있고 현실이 될 수도 있고 아닐 수도 있지만은 그냥 어릴 때는 그런데 지금의 이 시점에서 꿈을 꾼다면 어떤 꿈을 꾸고 싶어 어 생소한 거는 아닌데 그와 관련되면서 지금 유튜브가 많이 발전되고 많이 이제 알려지고 있는 상황이잖아 근데 그 유튜브를 작성하는 사람들이 다 내가 할 수 있는 일들이야 그러니까 포토샵을 만지고 일러스트를 만지는 사람 동영상을 찍고 그게 내가 꾸준히 해왔던 일을 이제 하나의 유튜브에 올려야 되는 과정에서 쪼끔 더 내가 배워야 될 게 몇 가지가 있는데 그것을 하고 싶다는 생각이 지금은 드는 거야 그리고 우리가 이제 나이가 있으니까 노인 복지와 노인에 관한 어떤 일을 하면은 내가 쪼끔 발전성이 있지 않을까 그 생각을 하면서 그 유튜브에서 이제 우리 나이대의 사람들이 필요한 어떤 아이템을 가지고 그것을 한번 해보지 해볼까 이런 마음을 지금은 가지고 있는데 어떻게 될지는 모르겠는데 이제 그 마음은 가지고 있어 그렇게해서 그거를 하기 위해서 내가 쪼끔 더 이 유튜브라는 것을 쪼끔 더 공부를 조금 해야 되지 않을까 그런 생각도 하고 있고 지금은 이제 그런 생각이지 그 이는 이제 뭐 지금이라도 뭐 꾸고 있는 꿈이라든지 음 나는 지금 그 지금 이 시점에서 하고 싶은 거는 그냥 옛날부터 내가 그 봉사활동 이런 거를 좋아했어 근데 인제 내가 또 그 어느 시점에 아파서 병원에 입원해 갔을 때 그 주위의 도움으로 어떻게 얘기를 들어가지고 요양보호사 자격증을 땄거든 근데 그때 생각에 내가 나중에 지금 조금 나이가 들고 했어도 노인들을 돌본다든가 어떤 복지 시설에 가서 인제 봉사활동한다든가 뭐 이럴 때 쓸 수 있겠다 이런 생각에 그 요양보호사 자격증 땄단 말이야 근데 지금 인제 앞으로 보면은 우리가 노령화 시대가 되면서 인제 노인들의 어떤 케어가 많이 필요하잖아 그래서 지금 생각하고 있는 게 지금 그 노인 복지 응 그다음에 노인 그 생활 그 지원센터 같은 이런 그 복지 센터 이런 데서 할 수 있는 이런 일들이 또 의의로 많더라고 인제 그걸 지금 내가 하려고 지금 그걸 해놨 이제 신청해놓은 상태고 내가 그런 일을 하면서 내가 그 다른 사람들하고 음식 같은 거 해가지고 나눌 수 있는 그런 장도 마련할 수 있고 이런 여러모로 내가 할 수 있는 일이 많겠더라고 그러니까 나는 지금은 인제 그런 쪽에 생각을 해가지고 어 복지관 같은 데 이런 데서 인제 그 교육이라든가 이런 걸 한 번씩 들으러 가고 그다음에 인제 신청해놓은 데서 인제 연락이 오면은 바로 갈 수 있게 지금 준비하고 있는 상태고 이러니까 나는 물론 앞으로 그런 쪽으로 일을 해야 될 거 같아 그러면은 내가 어 내 성격에 맞는 일이고 그다음에 또 사람들이 또 나를 볼 때 친구들도 그리고 인제 그런 일 쪽에 적성이 맞다고 또 다 생각하고 나도 또 그런 거 같고 이래서 어 지금 뭐 하고 싶다 하거나 내가 인제 이 일을 하면서 늙어가고 싶다 이래하는 게 인제 노인 복지 쪽에 그런 일을 하고 싶다고 생각하고 있어 그게 그 도 보니까 굉장히 왜 그 기술도 있고 이러니까 어 아마 나중에 그 서로 이렇게 상호 관계가 될 수 있는 그런 그것도 통하는 거 같고 왜 노인들이 이런 미술 쪽이나 뭐 음악 쪽이나 이런 치료도 필요하고 이래 하거든 그러니까 우리 나이 들어가면서 같이 서로 어울려서 할 수 있는 일을 다 잘 할 수 있을 거라고 이제 지금 탁 생각이 드는데 그러니까 도 어쨌든 그런 일 쪽에 계속 생활 속에서 해가면서 우리 같이 꿈을 이루어가는 그런 우리 좋은 친구가 됐으면 좋겠어 좋지 오늘 그동안에 우리가 많이 만났지만은 자 지금 우리가 뭐 어떤 꿈을 갖고 있는지에 대해서는 이야기를 안 했었는데 오늘 이 계기로 근 긍정적이고 발전적인 꿈을 가지고 있구나 그래 참 좋다는 생각이 이런 꿈에 대해서 생각을 하고 이야기를 하니까 기분도 조금 좋아지고 앞으로 우리 살아갈 날이 조금 희망적이지 않나 어 그러니까 쪼끔 힘든 것 이런 것 다 이기고 같이 건강하게 꿈을 이루어가는 우리 친구들이 됐으면 좋겠어 그러자 그러니까 수 은 인제우리가 이래 같이 이렇게 이 이루어 나갈 때 우리가 친구 사람 상호 관 어 상호 간에 어떤 신뢰라든가 어떤 이 친밀감 이런 것도 굉장히 중요하잖아 근데 우리가 만난 지는 얼마 안 됐지만 어 내가 생각하기에는 굉장히 왜 다른 어떤 사회의 친구들보다 더 친밀감이 있다고 생각하거든 그러니까 앞으로 우리 서로 마음을 다해서 그냥 즐거운 노후 생활이 될 수 있도록 우리 함께 다 같이 어 그 꿈을 향해서 부지런히 어 건강하게 이루어 나갔으면 좋겠어 ',\n",
       "       '어 요즘 코로나 때문에 해외여행 잘 못 가고 있잖아요 만약에 코로나 끝나면 어디를 제일 먼저 가고 싶어요 음 저는 코로나가 끝나게 되면 대만을 여행 가고 싶어요 원래 대만에 가려고 계획을 했었는데 갑자기 올해 코로나가 터지면서 못 가게 됐어요 아 혹시 코로나가 끝나면 어느 곳으로 여행 가고 싶으신가요 어 저는 코로나 전에 베트남 갔었는데 좋아가지고 코로나 끝나면 베트남 다른 지역에 여러 군데 한번 가보고 싶고 또 동남아를 제가 좋아해서 어 태국 에 옛날에 갔었는데 한 번 더 가보고 싶기도 하고 그냥 돈 동남아 여기저기 한 번 가보고 싶어요 에 혹시 다른 뭐 동남아 제가 관심 있어 한 태국 베트남 뭐 이런 쪽인데 혹시 가보신 적 있으세요 아 에 저는 캄보디아에서 한 개월 정도 살았던 경험이 있어서 캄보디아 쪽 잘 알고 있고요 그리고 필리핀 필리핀 보라카이랑 싱가포르에 가 봤었습니다 혹시 이 곳 중에서 약간 관심 있는 나라 있으신가요 네 저 캄보디아 요즘에 그 유튜브 자주 보거든요 유튜브에 뭐 캄보디아 사는 사람들 뭐 올라온 게 있어서 몇 번 본 적 있는데 프놈펜 이 수도 에 거기 올라오긴 했는데 쪼끔 동남아 중에서 쪼끔 못사는 거 같더라고요 에 그래서 궁금하기도 하면서도 혹시 쪼끔 인프라가 덜 돼 있을까 봐 걱정되기도 하면서도 그런데 혹시 그 여행 간다면 추천을 하시는지 아 저는 프놈펜 보다는 씨엠립을 추천하고요 프놈펜은 약간 대도시 같은 그 약 서울 같아서 여러 나라 뭐 이국적이긴 한데 조금 관광적으로 인프라가 잘 안 돼 있어서 현지인 조금 오래 사시는 분들이 프놈펜에서 놀기 좋고요 씨엠립가서 앙코르와트 대표적인 거 보고 그리고 나임 나이트 마켓 밤에 마켓 열리는데 그쪽이 진짜 이국적이고 좋아요 주로 그럼 여행을 갔을 때 숙소는 어느 쪽에서 묵으시나요 어 저는 숙소는 그냥 너무 비싼 데는 사실 아무래도 경제적으로 부담되니까 한 만 원 대 정도 되는 호텔 이나 뭐 그런 데서 주로 자고 저는 조식을 좋아해서 조식 파에요 그래서 조식 잘 나오고 조식이 뭐 왜 야외인 데도 있고 뭐 강 옆에 있는 데도 있고 막 특이한 데 많잖아요 그런 거 좋아해서 조식 위주로 호텔 알아보고 어 수영장 만약 있으면은 뭐 수영도 좋아해서 그런 것도 좋고 뭐 그러는 편이에요 혹시 또 다른 가보고 싶은 유럽 혹시 가 보셨거나 가보고 싶으신 데 있으세요 네 저는 유럽을 개국엔가 개국 갔다 와봤었거든요 어 일정도 저 혼자 갔다 왔었는데 그중에 좋았던 곳이 스위스였어요 그래서 스위스를 다시 한번 가족들이랑 가 보는 게 나중에 목표고 그거 말고는 약간 동유럽 쪽으로 다시 저 혼자 여행을 가 보고 싶어요 혹시 유럽 쪽에 가 보셨거나 관심 있으신 곳 있으신가 어 전 사시 유럽보다는 아시아 쪽을 좋아해서 유럽은 가 본 적이 없는데 지금은 솔직히 별로 가고 싶은 생각 없는데 나중에 쪼끔 나이 들어서 중년 쯤 됐을 때 한 번은 그때는 가 보고 싶어요 지금은 가면 걱정되는 게 너무 많은 거예요 그 뭐 소매치기 뭐 인종차별 이런 거 이야길 너무 많이 들으니까 가면은 멘탈 막 부서질 거 같고 그래가지고 어 유럽은 솔직히 생각을 아직 못했고 나중에 나중에 근데 대구 공항이 옮겨지잖아요 경북으로 그때 되면은 그때 유럽 노선 생긴다 하더라고요 그래서 나중에 한 번은 가보고 싶어요 혹시 해외에서 차별 겪어보신 적 있으세요 네 저는 독일에서 진짜 인종차별을 엄청 심하게 겪었어서 독일 같은 경우에는 거의 숙소에서만 있었어요 너무 심했고 그래서 조금 많이 걱정하고 다음 여행지가 파리였는데 파리도 인종차별 심하다고 해서 너무 걱정을 했었는데 오히려 파리는 그 인종차별이 없었고 독일이 너무 심해서 다시는 가고 싶지 않은 나라로 기억이 되고 있습니다 혹시 인종차별을 당하신 적은 있으신가요 여행지에서 음 저는 사실 뭐 그렇게 다른 인종 있는 곳은 잘 안 가봐서 에 아시아 쪽 거의 많이 가봐서 인종차별은 아직은 없는 거 같아요 음 파리 에펠탑 보셨잖아요 진짜 이쁜가요 어 네 예뻤어요 특히 밤에 예뻤고 아침에도 음 예뻤던 거 같아요 근데 제가 파리가 가장 마지막 여행지라서 체력이 너무 없어서 파리에 대한 약간 인식이 너무 피곤하고 힘든 기억밖에 없어서 그게 조금 아쉬워서 다음에 조금 체력 좋을 때 먼저 가는 나라에서 다시 조금 보고 싶습니다 음 보통 여행을 가실 때는 계획을 어떻게 세우시나요 혼자 세우시는 편인가요 어 저는 계획을 어 아예 무계획 도 아니고 그렇다고 해서 막 나노 단위로 막 한 시간 두 시간씩도 아니고 그냥 이렇게 아침에 일어나서 어디 가고 점심 먹고 저녁 아 또 어디 구경하고 저녁 먹고 이 정도 이렇게 뭉 뭉텅이 뭉텅이 식으로 이렇게 계획을 하는 편이고 어 하면은 주로 저는 음 제가 하는 편이긴 하는데 그래도 막 친구들한테 막 가고 싶은 데 있음 말해 해서 그걸 들으면 거기 맞게 노선 짜고 막 그런 걸 하고 만약에 가족끼리 가면 제가 다 하는 편이에요 아무래도 제가 장녀라서 제가 가족끼리 가면 제가 다 이것저것 싹 다 하고 돈은 엄마가 내고 그런 편이에요 에 근데 그게 마음이 편하더라고요 저는 계획 짜는 게 그럼 어 혹시 해외 말고 국내 여행 정말 마 많이 많이 가보셨겠지만 제일 좋았던 데 혹시 몇 군데 있으세요 어 저는 국내 여행지 중에서는 제주도가 가장 예뻤던 거 같아요 제주도가 약간 관광 인프라도 잘 돼 있고 우리나라 중에서 그나마 조금 이국적이면서 환경도 좋고 해서 막 좋았던 기억이 있습니다 혹시 국내 여행지 중에 가장 마음에 들었던 곳은 어디인가요 어 저도 제주 되게 좋아하는데요 제주도 말고 혹시 말해보자면 저는 음 그곳이 좋았다기보다는 제가 예전에 학교에서 출장 을 갈 때 간 적 있는 숙손데 사실 비싸서 그냥 제 돈으로 못 갈 거 같은데 대명 리조트 삼척 가고 이 그 삼척을 갔었는데 오션뷰를 얻었어요 저 혼자 간 거 아이고 여러 명이서 간 거라서 그냥 같이 끼어서 자긴 했는데 거기가 정말 좋았어요 거기가 밤에 어 파도가 치는데 파도 소리가 너무 좋고 바 오션뷰에서 되게 좋았어요 근데 제가 다음에 또 가고 싶지만 아마 비쌀 거 같아서 못 갈 거 같고 암튼 삼척 이 좋았던 거 같아요 저는 금 혹시 강원도 여기서 조금 멀잖아요 가본 적 있으세요 저는 강원도는 친구가 살아서 한 번 잠시 갔던 기억 있고 여행으로 간 적은 없어요 근데 강원 쪽에도 조금 좋은 리조트가 엄청 많다고 하더라고요 그래서 거기 후기를 들었었는데 설해원인가 거기가 엄청 좋데요 거기 그쪽이 저 한 번 가 보고 싶어요 음 여행 을 많이 하셨잖아요 여행 중에 가장 뭐 기엉 남는 경험 어 뭐 가장 맛있었던 음식 뭐 이런 거 혹시 있으세요 음 아 기억 남는 그런 그렇게건 아닌 데 저번에 최근이었나 아 코로나 전에 서울에 그냥 놀러 갔다가 광장시장 가서 육회를 먹었는데 거기서 연예인을 봤어요 근데 막 유명한 사람은 아닌 데 보면서 어 어 이랬는데 이름은 기억 안 나는 연예인 에 갑자기 생각이 났어요 이러 광장시장 가서 육회 먹고 뭐 그랬었어요 아 그럼 혹시 어 국내 여행 가서 음 사리 아 사진 찍는 거 좋아하세요 여행 가서 어 네 저는 사진 찍는 거 좋아하고 예전에는 조금 장거리 여행 아 장거리가 아니고 장기간 여행을 가게 되면 휴대폰 말고 약간 디에스엘알 카메라 들고 다니면서 찍고 약간 단기간 여행을 갔을 때는 폰으로 가볍게 찍고 그렇게 사진을 찍고 모으고 있습니다 혹시 사진 찍는 거 좋아하시나요 어 저는 에스엔에슬 따로 안 해서 사실 옛날에 했었는데 지금 안 해서 딱히 사인 여행가 사진 찍어도 올릴 때가 없더라고요 그래가지고 어 찍기는 찍는데 막 그렇게 막 정성 들여서 막 포인트 포인트마다 이렇게 찍지는 않고 사실 잘 찍지도 못하더라고요 여행 사진을 그래서 뭐 가끔씩 포인트 되는 것만 찍고 잘 안 찍는 편이에요 어 여행 가서 사진 찍으면 쑥스럽지 않은가요 사실 아 혹시 울릉도나 독도 여행 가보셨어요 저는 울릉도랑 독도 여행은 가 본 적은 없고 가보려고 한 번 찾아본 적은 있어요 그래가주 찾아봤는데 독도 쪽은 배편도 너보 힘들고 고것도 날씨 운도 너무 많이 따라서 그냥 찾아보기만 하고 끝냈습니다 십 독도나 울릉도 쪽에 관심이 있으신가요 네 저도 가고 싶어서 찾아봤어요 아직 못 갔는데 근데 진짜 말 그대로 가기도 힘들고 어 저번에 연휴가 꽤 오래 있을 때 한 번 찾아본 적 있는데 생각보다 갈 펜션이나 숙소도 잘 없고 정말 비싸더라고요 생각보다 진짜 그러고 배편도 그렇고 해서 솔직히 가 한 번 가려면 해외여행보다 더 들거나 비슷하거나 맞죠 그럴 거 같아서 뭐 가려고 하다가 못 간 적 있어요 근데 언젠가 한번 가보고 싶은 곳이에요 진짜로 에 아 혹시 아 해외여행 가시면 현지 음식 잘 드시는 편이세요 네 저는 갈 때마다 그 나라에 가장 대표적인 음식은 꼭 맛보고 있는데요 그래도 동남아 쪽에서는 고수는 아직 제가 잘 못 먹어가지고 살았는데도 먹지를 못하겠더라고요 그래서 고수는 항상 빼고 먹는 편이고 나머지는 대표적인 음식들 다 뭐 맛있어서 항상 저는 도전해 보는 편입니다 으 동남아 쪽으로 많이 가셨다고 했는데 고수 혹시 잘 드시나요 어 저는 먹기는 먹는데 즐겨하진 않아요 진짜 말 그대로 화장 비두 맛 맞죠 그래가지고 저는 굳이 넣진 않고 근데 가끔씩 먹으면 먹는데 막 빼서 먹진 않아요 근데 만약에 추가시켜 추가할까요 하면 저는 아니요 그 정돈 아니고 그리고 아 아까 제가 말했듯이 유튜브 봤는데 갑자기 또 생각났는데 프놈펜 거기서 어떤 유튜버가 그 바버 비버란 음식을 먹던데 캄보디아 음식 비읍자 두 개 들어간 거 그게 뭐 국수 같은 거 떠먹던 게 있던데 혹시 그건 안 모르겠어요 네 그 이름은 제가 잘 모르겠어요 근데 캄보디아 음식이라는 게 약간 베트남이랑 너무 비슷해가지고 음 거기는 주로 뭐 면이나 밥이나 해서 네 맞아요 그렇게 먹는 게 근데 대부분이 다 그래가지고 기억이 잘 정확히는 나지 않습니다 베트남 음식 중에서 가장 맛있었던 음식 혹시 뭐였 음 저는 진짜 웬만하면 다 잘 먹는데 가장 맛있었던 건 근데 정말 옛날에 수 대 초반에 친구랑 갔던 태국 여행에서 먹었던 갈비국수 그게 맛있었는데 그 뒤로 못 가가지고 먹어본 적은 없는데 아직도 생각하면은 진짜 맛있었던 거 같아요 갈비국수 네 음 어 그 캄보디아 에서 개월 은 어떻게 살게 되신 거예요 아 네 저는 그때 해외 인턴으로 가가지고 연구원 생활하면서 개월 있게 됐었고 그 개월 동안 그 프놈펜에서 주로 생활하고 연휴가 길 때는 씨엠립으로 잠시 가서 여행을 다니다가 오고 약간 그렇게 생활을 했습니다 그때는 같이 함께 일하는 한국식인 친구도 있고 캄보디아 친구도 있고 해서 음 되게 재밌게 지냈던 기억이 납니다 혹시 여행지에서 가장 오래 그 체류한 기간은 며칠 정도 있었나요 어 저는 아직 길게 살아본 적은 없어서 그냥 한 거의 다 박 일 박 일 밖에 없었던 거 같아요 근데 제 나중에 지금 코로나 때문에 못 가긴 한데 나중에 언젠가 또 한 달 살긴 한 번 해 보고 싶어요 나는 치앙마이나 아니면 베트남에 약간 산골 옛날 사람들은 많은 가는 그런 쪽으로 뭐 한 달 살기 정도는 한번 해 보고 싶어요 어 혹시 만약에 다른 곳에서 막 개월 정도 프놈펜 말고 아예 캄보디아 말고 살게 된다면 혹시 어디 에 살고 싶으세요 저는 개월 정도 살게 된다면은 유럽에 다시 가가지고 조금 괜찮은 곳 동유럽 쪽에 가서 약간 물가도 나름 저렴하고 예쁘고 이런 곳에서 한 개월 정도 살아보고 싶어요 음 ',\n",
       "       ...,\n",
       "       '혹시 연애 중이시라면 연애하면서 느낀 솔로 때와의 차이점이 있을까요 저는 지금 연애 중입니다 솔로 차이점을 생각해본다면 자존감 상승이라고 생각합니다 사랑하는 사람이 네가 제일 예뻐 네가 제일 최고야 너는 항상 뭐든지 잘해 라고 칭찬을 해주면서 자존감이 상승하는 것 같습니다 그리고 솔로 더 행복한 것 같습니다 함께 있을 때 기쁨이 생기면 두 배 슬픔은 반 배로 줄어든다고 합니다 같이 있을 때 행복은 솔로 더 큰 것 같습니다 연애하면서 느낀 솔로 차이점이 있습니까 저 또한 연애를 하면서 아무래도 내 얘기를 항상 들어주고 지지해주는 사람이 옆에 있다 보니까 솔로 때보다는 확실히 마음이 조금 더 편해지고 조금 더 활발해진 것 같습니다 특히나 솔로 때에는 아무래도 주변에서 연애를 한다는 소식을 듣거나 그럴 때에 쪼금 불편한 감정이 들기도 했었는데요 그런데 연애를 시작을 하면서 이제 항상 나를 위해서 응원을 해주는 사람이 있다보니까 그것이 솔로 때와는 확연히 다른 연애의 감정이 아닌가 라는 생각이 듭니다 그렇다면 혹시 연애와 결혼의 차이점에 대해서는 어떤 게 있다고 생각하시나요 제가 생각하는 연애와 결혼의 차이점은 책임감이라고 생각합니다 저희 부모님께서는 이 사람 저 사람 많이 만나보라고 하셨습니다 연애를 하면서 에이 같은 성격 유형도 만나보고 비 같은 성격 유형도 만나보면서 나에게 맞는 사람을 찾아가는 과정이라고 생각합니다 결혼은 돌아올 수 없는 강을 건넜다고 생각합니다 결혼을 한 만큼 책임감을 가지고 그 사람과의 평생을 책임져야 된다고 생각합니다 연애와 결혼의 차이점을 말해주세요 제가 생각하는 연애와 결혼의 가장 큰 차이점은 아무래도 법적으로 나의 새로운 가족이 된다는 것이 큰 차이점이라고 생각을 합니다 연애를 할 때에는 비록 우리가 함께 하고 있다고 생각을 하지만 그래도 법적으로 는 우리가 남남이라고 볼 수가 있는데 결혼을 함으로 인해서 혼인신고를 하고 한 가족이 됐다는 것이 책임감이 중요하기도 하고 또 서로에게 경제적으로 아니면은 생활적인 부분에서도 도움이 되고 의지가 될 수 있는 존재라고 생각을 합니다 그리고 결혼을 하게 되면 아무래도 내 가족뿐만 아니라 이제 상대방의 가족도 챙겨드려야 하고 이런 넓은 시야를 가져야 되기 때문에 결혼이 연애에 비해서 훨씬 신중해야 된다라고 생각을 합니다 그렇다면 현재 연애를 하고 있다고 방금 말씀하셨는데 연애를 시작하게 된 이유 혹시 만나게 된 경험담에 대해서 얘기해주세요 저는 아르바이트 서빙을 하다가 만나게 되었는데요 제가 아르바이트생으로 들어간 그곳에는 매니저님으로 계셨습니다 같이 일을 하면서 매니저님에게 일을 배우고 실수도 눈 감아주시고 저를 도와주시면서 사랑이 싹트게 되었습니다 제가 쉬는 날 휴무를 맞춰서 쉬셔서 저에게 영화를 보러가자고 하셨는데요 그날 영화를 같이 보게 되면서 연애를 시작하게 되었습니다 연애를 하게 된 이유 혹시 만나게 된 경험담을 말해주세요 저는 현재 남자친구를 만나게 된 이유는 아무래도 저는 사실 처음에는 큰 관심은 없었지만 남자친구가 지속적인 연락을 해오고 저에 대해서 너무 부담스럽지 않게 챙겨주는 그런 연락을 받게 되면서 연애를 시작하게 되었습니다 저 또한 그때 당시에 그렇게 불편한 감정이 들지 않았어서 연애를 시작을 하게 되었었는데요 아마 너무 부담스럽게 다가왔다던가 아니면 제가 그 상대방에 대해서 정말 좋은 마음이 퍼센트라도 없었더라면 연애를 하지 못했을 겁니다 하지만 서로가 어느 정도 호감이 있었기 때문에 연애가 가능했다고 생각이 듭니다 그래서 저희가 만나게 된 후에는 아무래도 연락을 원래 주고 받고 알던 사이다 보니까 금방 연애를 쉽게 진행을 하게 되었던 것 같습니다 그렇다면 연애를 하시면서 데이트 장소로 자주 가는 곳이 있나요 저희 커플은 맛있는 맛집이나 화려한 카페를 많이 갑니다 서로 가고 싶은 카페를 찾아보면서 사진을 많이 찍어 추억을 남기기도 하고 좋아하는 음식을 먹으면서 데이트하는 시간을 보내고 있습니다 최근에 간 카페로는 갈마동에 있는 제주감귤 카페라는 곳인데요 제주도를 배경으로 한 카페는 굉장히 크고 넓어서 힐링을 하고 온 기분을 느꼈습니다 데이트 장소로 자주 가는 곳이 있다면 말해주세요 저랑 남자친구 같은 경우에는 아무래도 장거리 커플이다 보니까 여러 지역으로 많이 데이트를 하고는 합니다 이제 저는 대전에 있고 상대방은 수원에 있기 때문에 그 중간 지점에서 만나기도 하고 이제 주로 수원을 가거나 대전을 가는 식으로 서로의 지역으로 많이 가곤 합니다 그리고 구체적인 위 데이트 장소를 또 말하자면 아무래도 서로가 영화를 좋아하기 때문에 영화관 데이트를 주로 가고는 합니다 그렇다면 연애에 대한 본인만의 가치관이 어떤 것이 있는지 듣고 싶습니다 저는 지금 남자친구 분과 년째 연애를 하고 있습니다 아무리 오랜 시간 연애를 했다고 해도 정으로 함께 하는 사랑은 없다고 생각합니다 아직도 지금 보면 설레고 떨리고 사랑하는 마음을 가지고 있어야 한다고 생각합니다 권태기가 오는 커플이 있다고 하는데 권태기를 가지고 정 땜에 관계를 유지하는 연애는 굉장히 싫어해서 항상 불타고 서로를 존중하고 배려하는 커플로 지내고 싶습니다 혹시 연애에 대한 나의 가치관이 있습니까 저의 연애 가치관이 있다면 저는 아무래도 친구 같은 연애보다는 쪼금 더 애틋한 관계를 좋아하는 편입니다 그렇다고 해서 너무 거리가 있는 사이는 되기는 싫지만 그래도 친구 같은 연 연애를 하다보면 너무 서로가 편해지고 쉬워지다 보니까 그 감정이 사랑이 아닌 우정과 가깝다라고 생각을 합니다 그래서 친구 같은 연애는 조금 피하는 편이고요 그리고 저는 연애를 할 때에 스킨십이 너무 빠른 사람을 좋아하지 않습니다 사람마다 스킨십의 정도가 다 다르지만 저 같은 경우에는 스킨십이 너무 빠르면 상대방이 나에게 마음이 있다기보다는 조금 육체적인 육체적인 욕구를 위해서 다가온 게 아닌가 하는 불안감이 들어서 스킨십은 천천히 하는 그런 연애를 추구합니다 그리고 연락을 함에 있어서도 저는 특히나 장거리 연애를 하고 있기 때문에 몹시 중요하게 생각을 하는데요 적어도 무슨 일이 있다면 저에게 미리 얘기를 해주고 저 또한 미리 미리 얘기를 해주면서 평상시에 꾸준히 연락을 주고 받는 연애를 선호합니다 그렇다면 혹시 결혼에 대해서는 생각을 해본 적이 있나요 저는 지금 남자친구 분과 오랫 오랜 연애 중이지만 결혼에 대해 생각해본 적이 없습니다 아직 아이를 가지고 싶은 생각도 없고 아이를 낳아서 어떻게 할지 미래를 꿈꿔본 적도 없습니다 하지만 남자친구 분과 의도치 않은 상황에서 아이가 생긴다면 결혼을 하자고 말을 한 적은 있습니다 결혼에 대해 생각해 본 적이 있는지 궁금합니다 저는 원래는 비혼주의였었는데요 최근에 연애를 하면 할수록 사람에 따라서 나의 마음이 변할 수도 있구나라는 생각이 들었습니다 그래서 남자친구랑 결혼에 대해서 굳이 직접적인 얘기를 꺼내본 적은 없지만 방송을 보거나 하면서 어린 아이가 나왔을 때에는 우리가 만약 결혼을 하면 어떤 아이였으면 좋겠어라든가 아니면은 방송에서 부부가 나왔을 때 보면서 우리는 어떤 부부 사이가 됐으면 좋겠어라는 등의 간접적인 질문을 서로 주고 받으면서 결혼에 대해서 비혼주의에서는 아무래도 결혼을 그래도 하는 게 좋겠다라는 생각이 들었습니다 하지만 상대방에 따라서 마음도 바뀔 수 있는 부분이기 때문에 제가 만약에 연애에서 이별을 하여서 솔로 된다든가 아니면은 나중에라도 마음이 서로 통하지 않는 연애를 하게 된다면 언제든지 저는 결혼은 할 수도 있고 안 할 수도 있다라는 생각이 들었습니다 그렇다면 연애를 할 때 주의를 해야 할 아니면 기피해야 할 그런 상대방 유형이 있을까요 제가 생각하기로는 자존심이 강하고 이기적인 사람이라고 생각합니다 상대방을 존중해주고 사랑해줘야 하는 연애인데 자기 자신만 생각하고 자기의 생각만 말하는 사람이라면 싫습니다 그리고 다혈질인 사람을 굉장히 피해야 한다고 생각하는데요 욱하거나 다혈질이 있는 사람은 언제 어떻게 행동할지 모르고 위험한 상황도 생길 수 있다고 생각합니다 자기 스스로를 잘 다스리고 상대방를 존중해주는 사람을 만나야 된다고 생각합니다 연애할 때 주의해야 할 상대방의 유형이 있을까요 제가 생각하는 주의해야 할 상대방의 유형으로는 일단은 폭력성을 띠는 사람은 무조건 피해야 된다고 생각을 합니다 최근 뉴스에서도 그렇고 유독 이제 최근에 들어서 데이트 폭력 또는 가정 폭력을 행사하는 사람들을 많이 접하곤 하였었는데요 그런 사람들과 연애를 할 때에는 처음부터 폭력 성향이 나타나진 않았겠지만 그래도 그 사람의 평상시의 행동습관이나 말투 등을 통해서 이 사람이 나에게 위협이 되거나 아니면은 나에게 가스라이팅을 하는 등의 그런 안 좋은 영향을 끼치는 사람이라면 언제든지 폭력의 성향을 보일 수도 있다라고 저는 생각이 듭니다 그래서 폭력적인 사람은 반드시 연애를 할 때 피해야 한다고 생각이 듭니다 그리고 두 번째로는 저는 저희 아버지가 많이 고지식하고 보수적인 편인데 연애를 할 때에도 유독 보수적이고 집착적인 성향을 가진 사람들이 있습니다 이런 사람들도 피해야 된다고 생각이 듭니다 ',\n",
       "       '내 단추만 사랑 때문에 연락 드린 건 아니고요 개인정보 유출 건 때문에 나까지 여쭤보겠습니다 혹시 최근 년 사이에 신분증 면허증 여권 분실하거나 타인에게 양도 하신 적 있으세요 언제 하셨어요 그러시면 요즘 각 은행이나 카드사에서 개인정보유출이 많이 됐는데요 피해보신 살인 있으셨어요 저희가 년 월 일 금융사기단 일당을 근거를 했는데요 금방 현장에서는 명의로 된 부산은행 통장에 발견이 되었고요 앞산 통장에서 만원 상당히 불법 작업이 있어서 독일 처리했습니다 본인께서 내 계좌에 대해서 아는 분이십니까 그러시면 안 하십니까 ',\n",
       "       '기사를 보시면은 폐지 줍는 노인분들 절반이 월에 만 원도 못 버신다고 하시는데 어떻게 생각하시나요 저는 폐지 줍는 노인이 월 만 원도 못 번다는 사실이 조금은 충격적이게 다가왔습니다 폐지 줍는 폐지를 줍는다는 건 여러 곳을 돌아다니면서 체력도 힘이 들게 되고 심지어 노인이다 보니 더욱더 체력이 약하기 때 적기 때문에 이제 폐지를 줍는 게 더 힘들 수가 있 있어서 그 폐지 줍는 노인들에게는 다른 젊은 층의 폐지 줍는 분들과 다르게 월 만 원보다는 조금 더 높게 주는 것이 더 좋다고 생각이 듭니다 폐지 줍는 노인들에 대해서 어떻게 생각하나요 폐지 줍는 노인분들 제가 밖에서 많이 봤는데 정말 존경스럽고 대단하시다고 생각하 생각합니다 개인적으로 왜냐면 이런 여름이나 겨울 이제 날씨에 제약이 많은 날씨에도 할머니 할아버지 분들이 이제 리어카를 이제 힘겹게 끄시면서 많이 봤는데 솔직히 젊은 사람들도 이런 더위와 추위에 이제 버티면서 폐지를 줍는다고 하면은 정말 힘들거든요 이제 그렇지만 이제 나이 드신 분들 특히 이제 이번에 코로나 퍼지면서 이제 밖에도 많이 못 돌아다니는데 사람들이 이런 코로나를 이제 맞서면서 이제 더위랑 추위랑도 싸우면서 이제 폐지를 주우시는데 이 기사에서 이제 월 만 원도 못 버신다는 기사를 보고 저도 많이 충격을 받았어 그러면 이 기사를 보고 서울시에서 마련한 정부 대책을 내놓았는데 이 대책에 대해서 어떻게 생각하시나요 서울시에서 폐지 수집 어르신 지원 총하 종합 대책을 내놨다고 하는데 이제 전에는 노인들에게 이런 다른 어 법이 없었는데 지금이라도 이렇게라도 생긴 것에 대해 다행이라고 여기고 노인들이 더 이상 폐지를 줍는 것에 대해 힘이 들지 않았으면 하는 바람이 생기는 거 같습니다 폐지 줍는 노인들에게 월 만 원이 아니라 얼만큼의 돈을 줘야 적당하다고 생각 적당한지 알고 싶습니다 일단 저는 기본 월 에서 정도는 보장을 해줘야 정부에서 보장을 해줘야 맞다고 생각하는데요 아니면 이제 돈을 못 올리면은 생활용품이나 식료품 등을 지원하는 방법도 있는데 그리고 이제 많이 돌아 많이 일단 돌아다니잖아요 그 폐지 줍느라고 정부 저는 개인적으로 정부에서 이제 핸드폰 앱 같은 거를 개발을 해서 이제 폐지 줍는 위치를 이제 원격으로 이제 나타나고 그 할머니 할아버지 분들이 조금 더 이 날씨에 좀 쉽게 폐지를 주울 수 있도록 위치를 쉽게 찾으실 수 있도록 이제 정부에서 앱 같은 거를 새로 개발해서 이제 노인분들이 그나마 조금 편하게 이제 폐지를 줍고 이제 그나마 좀 덜 힘들게 돈을 버시면 하는 제 개인적인 바람도 있고요 또 이제 이 날씨에 조금 많이 돌아다니기 힘드시면은 이제 쉬시면서도 이제 일을 하셔야 되는데 휴게소 같은 거를 이제 에어컨이나 이제 난방 시설이 잘돼있는 휴게소를 이제 만들어서 그분 노인분들한테 제공을 하면은 조금 더 그 노인분들도 돈은 조금 적게 벌어도 복지가 잘돼있으면 그나마 괜찮을 수 있는 생활이 될 거라고 저는 믿고 있습니다 그러면 이 기사를 보시고 혹시 개인적인 이제 정부 정책에 대한 피드백 같은 거 생각해놓으신 거 있나요 우선 정부에서 폐지 줍는 노인들을 노인들에 대한 이런 대책 마련을 조금 늦 게 해서 쪼금 아쉬웠다고 생각이 듭니다 이전에도 많은 노인분들이 폐지를 주우면서 힘들게 하루 생계를 보내고 있었는데 정부는 조금 늦게 대처하지 않았나 생각이 듭 듭니다 폐지 수집 노인을 대상으로 사고 예방을 위한 안전 교육을 교통 안전 교육을 실시한다고 하는데 이에 대해서 어떻게 생각하는지 궁금하네요 교통 안전 교육이라고 하셨는데 저희보다 오래 사신 분들 이라고 저는 생각을 하는데 굳이 저는 교통 안전 교육이 필요 하 한가라고 조금 의문이 드는데요 저는 그 교육도 물론 받긴 받아야 되지만 솔직히 하루 먹고 사시는 분들이 되게 많으실 텐데 폐지 주우시는 분들이라면 그 교육을 받을 시간에 차라리 빨리 돌아다니며 폐지를 하나 줍는다고 돈을 더 벌어야겠다는 생각을 하시는 분들이 저는 더 많을 거라고 생각이 드는데요 물론 교육도 중요하지만 저의 생각은 이제 조금 더 돈을 많이 벌고 조금 더 쉽게 편하게 일하실 수 있는 환경을 정부에서 제공하는 것이 저는 더 필요하다고 생각을 합니다 이 기사를 보시면 이제 정부가 민간기업과 협력해서 야광 조끼 에 야광 밴드 방진 마스크 등 이제 안전 용품을 지원한다고 나와있는데 혹시 이 밖에도 개인적으로 생각하시는 용품들을 지원할 수 있는 방법이 있나요 저 개인적인 생각으로는 어 노인분들이 끌고 다니는 어 리어카 같은 그런 폐지를 놓는 그런 그런 것들을 정부에서 새롭게 다시 노인분들이 힘을 쓰지 않고 더 더 편하게 폐지를 줍고 밀고 걸어 다닐 수 있게 해줬으면 좋겠습니다 '],\n",
       "      dtype=object)"
      ]
     },
     "execution_count": 43,
     "metadata": {},
     "output_type": "execute_result"
    }
   ],
   "source": [
    "X_train"
   ]
  },
  {
   "cell_type": "code",
   "execution_count": 44,
   "id": "851b194636cefccf",
   "metadata": {
    "ExecuteTime": {
     "end_time": "2023-12-08T06:00:02.868221800Z",
     "start_time": "2023-12-08T06:00:02.660896400Z"
    },
    "collapsed": false,
    "jupyter": {
     "outputs_hidden": false
    }
   },
   "outputs": [
    {
     "data": {
      "image/png": "[encoded data removed]",
      "text/plain": [
       "<Figure size 640x480 with 1 Axes>"
      ]
     },
     "metadata": {},
     "output_type": "display_data"
    },
    {
     "data": {
      "image/png": "[encoded data removed]",
      "text/plain": [
       "<Figure size 640x480 with 1 Axes>"
      ]
     },
     "metadata": {},
     "output_type": "display_data"
    }
   ],
   "source": [
    "# plot the class distribution of train and validation set\n",
    "plot_class_distribution(pd.DataFrame(y_train, columns=['label']), 'Train Dataset Class Distribution')\n",
    "plot_class_distribution(pd.DataFrame(y_test, columns=['label']), 'Validation Dataset Class Distribution')"
   ]
  },
  {
   "cell_type": "markdown",
   "id": "97dff07481c71c0e",
   "metadata": {
    "collapsed": false,
    "jupyter": {
     "outputs_hidden": false
    }
   },
   "source": [
    "### Tokenization & Input Formatting Method 2\n"
   ]
  },
  {
   "cell_type": "code",
   "execution_count": 45,
   "id": "15fb4443b2c68286",
   "metadata": {
    "ExecuteTime": {
     "end_time": "2023-12-08T06:01:01.223470300Z",
     "start_time": "2023-12-08T06:01:01.186470500Z"
    },
    "collapsed": false,
    "jupyter": {
     "outputs_hidden": false
    }
   },
   "outputs": [],
   "source": [
    "# Define hyperparameters\n",
    "model_name = \"monologg/kobert\"\n",
    "batch_size = 16 # 32, 64, 128\n",
    "epochs = 1\n",
    "# Lower learning rates are often better for fine-tuning transformers\n",
    "learning_rate = 3e-5    #2e-5, 5e-5, 4e-5\n",
    "weight_decay_rate=0.01"
   ]
  },
  {
   "cell_type": "code",
   "execution_count": 52,
   "id": "8354a304b104dee",
   "metadata": {
    "ExecuteTime": {
     "end_time": "2023-12-08T06:01:01.707653100Z",
     "start_time": "2023-12-08T06:01:01.458406800Z"
    },
    "collapsed": false,
    "jupyter": {
     "outputs_hidden": false
    }
   },
   "outputs": [],
   "source": [
    "# Load KoBERT tokenizer\n",
    "tokenizer = AutoTokenizer.from_pretrained(model_name, trust_remote_code=True)"
   ]
  },
  {
   "cell_type": "markdown",
   "id": "f85cf4773380283f",
   "metadata": {
    "collapsed": false,
    "jupyter": {
     "outputs_hidden": false
    }
   },
   "source": [
    "#### Tokenize dataset NEW method (BARD)"
   ]
  },
  {
   "cell_type": "code",
   "execution_count": 53,
   "id": "cb0334e452a41ea",
   "metadata": {
    "ExecuteTime": {
     "end_time": "2023-12-08T06:01:03.453977700Z",
     "start_time": "2023-12-08T06:01:02.083474800Z"
    },
    "collapsed": false,
    "jupyter": {
     "outputs_hidden": false
    }
   },
   "outputs": [],
   "source": [
    "# Preprocess training data\n",
    "X_train_list = X_train.tolist()\n",
    "train_inputs = tokenizer(X_train_list, padding=\"max_length\", truncation=True, return_tensors=\"tf\")"
   ]
  },
  {
   "cell_type": "code",
   "execution_count": 54,
   "id": "84c1d5d52f6e3563",
   "metadata": {
    "ExecuteTime": {
     "end_time": "2023-12-08T06:01:03.464988300Z",
     "start_time": "2023-12-08T06:01:03.444465800Z"
    },
    "collapsed": false,
    "jupyter": {
     "outputs_hidden": false
    }
   },
   "outputs": [],
   "source": [
    "# Convert training labels to one-hot encoding\n",
    "train_labels = to_categorical(y_train)"
   ]
  },
  {
   "cell_type": "code",
   "execution_count": 55,
   "id": "9cfdab769a86e27d",
   "metadata": {
    "ExecuteTime": {
     "end_time": "2023-12-08T06:01:03.732284600Z",
     "start_time": "2023-12-08T06:01:03.453977700Z"
    },
    "collapsed": false,
    "jupyter": {
     "outputs_hidden": false
    }
   },
   "outputs": [],
   "source": [
    "# Create TF training dataset\n",
    "train_dataset = tf.data.Dataset.from_tensor_slices((train_inputs[\"input_ids\"], train_labels)).batch(batch_size)"
   ]
  },
  {
   "cell_type": "code",
   "execution_count": 56,
   "id": "db4d21cdd6e696cc",
   "metadata": {
    "ExecuteTime": {
     "end_time": "2023-12-08T06:01:05.014521900Z",
     "start_time": "2023-12-08T06:01:03.741069200Z"
    },
    "collapsed": false,
    "jupyter": {
     "outputs_hidden": false
    }
   },
   "outputs": [],
   "source": [
    "# Preprocess test data\n",
    "X_test_list = X_train.tolist()\n",
    "test_inputs = tokenizer(X_test_list, padding=\"max_length\", truncation=True, return_tensors=\"tf\")"
   ]
  },
  {
   "cell_type": "code",
   "execution_count": 57,
   "id": "f256318aa6826e5f",
   "metadata": {
    "ExecuteTime": {
     "end_time": "2023-12-08T06:01:05.024037500Z",
     "start_time": "2023-12-08T06:01:05.014521900Z"
    },
    "collapsed": false,
    "jupyter": {
     "outputs_hidden": false
    }
   },
   "outputs": [],
   "source": [
    "# Convert test labels to one-hot encoding\n",
    "test_labels = to_categorical(y_test)"
   ]
  },
  {
   "cell_type": "markdown",
   "id": "b30f6a4bc3a51479",
   "metadata": {
    "collapsed": false,
    "jupyter": {
     "outputs_hidden": false
    }
   },
   "source": [
    "#### Training the KoBERT model"
   ]
  },
  {
   "cell_type": "code",
   "execution_count": 65,
   "id": "250c0705-f5cc-4a85-b780-8f47cd3bdedf",
   "metadata": {},
   "outputs": [],
   "source": [
    "# 내가 추가한거\n",
    "from tensorflow.keras.optimizers import Adam\n",
    "from tensorflow.keras.losses import SparseCategoricalCrossentropy"
   ]
  },
  {
   "cell_type": "code",
   "execution_count": 66,
   "id": "925671ce80dd55a0",
   "metadata": {
    "ExecuteTime": {
     "end_time": "2023-12-08T06:01:05.046418600Z",
     "start_time": "2023-12-08T06:01:05.018036500Z"
    },
    "collapsed": false,
    "jupyter": {
     "outputs_hidden": false
    }
   },
   "outputs": [],
   "source": [
    "# Define optimizer, loss function, and metrics\n",
    "optimizer = AdamWeightDecay(learning_rate=learning_rate)      # No loss argument!\n",
    "# optimizer1 = AdamW(learning_rate=learning_rate)\n",
    "optimizer2 = Adam(learning_rate)  # No loss argument!\n",
    "\n",
    "loss_fn = SparseCategoricalCrossentropy(from_logits=True)\n",
    "\n",
    "metrics = tf.keras.metrics.SparseCategoricalAccuracy()"
   ]
  },
  {
   "cell_type": "code",
   "execution_count": 67,
   "id": "3faadf1b045a64c9",
   "metadata": {
    "ExecuteTime": {
     "end_time": "2023-12-08T06:01:05.446344100Z",
     "start_time": "2023-12-08T06:01:05.397346600Z"
    },
    "collapsed": false,
    "jupyter": {
     "outputs_hidden": false
    }
   },
   "outputs": [],
   "source": [
    "# from tensorflow.python.keras.callbacks import EarlyStopping, ModelCheckpoint\n",
    "\n",
    "# Define callbacks\n",
    "# early_stopping = EarlyStopping(monitor=\"val_loss\", patience=3)\n",
    "# model_checkpoint = ModelCheckpoint(\"best_model.hdf5\", monitor=\"val_accuracy\", save_best_only=True)"
   ]
  },
  {
   "cell_type": "code",
   "execution_count": 68,
   "id": "73fb1d913cab5f28",
   "metadata": {
    "ExecuteTime": {
     "end_time": "2023-12-08T06:01:11.250409200Z",
     "start_time": "2023-12-08T06:01:05.846502500Z"
    },
    "collapsed": false,
    "jupyter": {
     "outputs_hidden": false
    }
   },
   "outputs": [
    {
     "name": "stdout",
     "output_type": "stream",
     "text": [
      "WARNING:tensorflow:From C:\\Users\\hye42\\Korean_Voice_Phishing_Detection\\venv\\Lib\\site-packages\\tf_keras\\src\\backend.py:873: The name tf.get_default_graph is deprecated. Please use tf.compat.v1.get_default_graph instead.\n",
      "\n"
     ]
    },
    {
     "name": "stderr",
     "output_type": "stream",
     "text": [
      "All PyTorch model weights were used when initializing TFBertForSequenceClassification.\n",
      "\n",
      "Some weights or buffers of the TF 2.0 model TFBertForSequenceClassification were not initialized from the PyTorch model and are newly initialized: ['classifier.weight', 'classifier.bias']\n",
      "You should probably TRAIN this model on a down-stream task to be able to use it for predictions and inference.\n"
     ]
    }
   ],
   "source": [
    "# Load pretrained KoBERT model\n",
    "model = TFBertForSequenceClassification.from_pretrained(model_name, num_labels=2, from_pt=True)"
   ]
  },
  {
   "cell_type": "code",
   "execution_count": 69,
   "id": "63649fcb65267f2",
   "metadata": {
    "ExecuteTime": {
     "end_time": "2023-12-08T06:01:11.275931700Z",
     "start_time": "2023-12-08T06:01:11.250409200Z"
    },
    "collapsed": false,
    "jupyter": {
     "outputs_hidden": false
    }
   },
   "outputs": [],
   "source": [
    "# Fine-tune the model\n",
    "model.compile(optimizer=optimizer)"
   ]
  },
  {
   "cell_type": "code",
   "execution_count": 70,
   "id": "ca1cb7d53176fa30",
   "metadata": {
    "ExecuteTime": {
     "end_time": "2023-12-08T06:01:11.276925300Z",
     "start_time": "2023-12-08T06:01:11.262409100Z"
    },
    "collapsed": false,
    "jupyter": {
     "outputs_hidden": false
    }
   },
   "outputs": [],
   "source": [
    "# get the model details\n",
    "# get_model_details(model)"
   ]
  },
  {
   "cell_type": "code",
   "execution_count": 71,
   "id": "eb46dcaf9eb73e59",
   "metadata": {
    "ExecuteTime": {
     "end_time": "2023-12-08T06:01:11.276925300Z",
     "start_time": "2023-12-08T06:01:11.266927700Z"
    },
    "collapsed": false,
    "jupyter": {
     "outputs_hidden": false
    }
   },
   "outputs": [],
   "source": [
    "# get the model settings and parameters\n",
    "# get_model_settings(model)"
   ]
  },
  {
   "cell_type": "code",
   "execution_count": 78,
   "id": "c61d06d4-fc5f-4bd7-85a8-8a6f63510f03",
   "metadata": {},
   "outputs": [],
   "source": [
    "# [1] test 데이터 토크나이징 (return Tensors = False)\n",
    "test_encodings = tokenizer(\n",
    "    X_test.tolist(),\n",
    "    truncation=True,\n",
    "    padding=True,\n",
    "    max_length=128\n",
    ")\n",
    "\n",
    "# [2] tf.data.Dataset으로 만들기\n",
    "test_dataset = tf.data.Dataset.from_tensor_slices((\n",
    "    dict(test_encodings),\n",
    "    y_test  # 이미 정수 인코딩된 라벨이어야 함\n",
    "))\n",
    "\n",
    "# [3] 배치 처리\n",
    "test_dataset = test_dataset.batch(batch_size)"
   ]
  },
  {
   "cell_type": "code",
   "execution_count": 82,
   "id": "cb197f6d-2dbe-4f16-ad29-48b6151b4901",
   "metadata": {},
   "outputs": [],
   "source": [
    "train_dataset = tf.data.Dataset.from_tensor_slices((\n",
    "    {\n",
    "        'input_ids': train_inputs['input_ids'],\n",
    "        'attention_mask': train_inputs['attention_mask'],\n",
    "        'token_type_ids': train_inputs['token_type_ids']\n",
    "    },\n",
    "    train_labels\n",
    ")).batch(batch_size)\n",
    "\n",
    "test_dataset = tf.data.Dataset.from_tensor_slices((\n",
    "    {\n",
    "        'input_ids': test_inputs['input_ids'],\n",
    "        'attention_mask': test_inputs['attention_mask'],\n",
    "        'token_type_ids': test_inputs['token_type_ids']\n",
    "    },\n",
    "    test_labels\n",
    ")).batch(batch_size)"
   ]
  },
  {
   "cell_type": "code",
   "execution_count": 86,
   "id": "9b26031c-b00f-414c-960c-e33b92903f3d",
   "metadata": {},
   "outputs": [
    {
     "name": "stdout",
     "output_type": "stream",
     "text": [
      "Epoch 1/3\n",
      "147/147 [==============================] - 38283s 262s/step - loss: 0.0574 - val_loss: 0.0023\n",
      "Epoch 2/3\n",
      "147/147 [==============================] - 15853s 108s/step - loss: 0.0016 - val_loss: 8.2857e-04\n",
      "Epoch 3/3\n",
      "147/147 [==============================] - 16305s 111s/step - loss: 6.7707e-04 - val_loss: 4.5213e-04\n"
     ]
    }
   ],
   "source": [
    "from sklearn.model_selection import train_test_split\n",
    "\n",
    "# 1. 데이터 분할\n",
    "X_train, X_test, y_train, y_test = train_test_split(sentences, labels, test_size=0.2, random_state=42)\n",
    "\n",
    "# 2. 토크나이징\n",
    "train_inputs = tokenizer(\n",
    "    X_train.tolist(),\n",
    "    max_length=512,\n",
    "    padding='max_length',\n",
    "    truncation=True,\n",
    "    return_tensors='tf'\n",
    ")\n",
    "test_inputs = tokenizer(\n",
    "    X_test.tolist(),\n",
    "    max_length=512,\n",
    "    padding='max_length',\n",
    "    truncation=True,\n",
    "    return_tensors='tf'\n",
    ")\n",
    "\n",
    "# 3. Tensorflow Dataset 생성\n",
    "batch_size = 16  # 원하는 배치 사이즈로 조절 가능\n",
    "\n",
    "train_dataset = tf.data.Dataset.from_tensor_slices((\n",
    "    {\n",
    "        'input_ids': train_inputs['input_ids'],\n",
    "        'attention_mask': train_inputs['attention_mask'],\n",
    "        'token_type_ids': train_inputs['token_type_ids']\n",
    "    },\n",
    "    y_train\n",
    ")).batch(batch_size)\n",
    "\n",
    "test_dataset = tf.data.Dataset.from_tensor_slices((\n",
    "    {\n",
    "        'input_ids': test_inputs['input_ids'],\n",
    "        'attention_mask': test_inputs['attention_mask'],\n",
    "        'token_type_ids': test_inputs['token_type_ids']\n",
    "    },\n",
    "    y_test\n",
    ")).batch(batch_size)\n",
    "\n",
    "# 4. 모델 학습\n",
    "epochs = 3  # 원하는 만큼\n",
    "history = model.fit(\n",
    "    train_dataset,\n",
    "    epochs=epochs,\n",
    "    validation_data=test_dataset\n",
    ")"
   ]
  },
  {
   "cell_type": "code",
   "execution_count": 89,
   "id": "09fc2e23-2697-433b-88bd-2ecb7215d7d2",
   "metadata": {},
   "outputs": [],
   "source": [
    "model.save_pretrained(\"./saved_model\")"
   ]
  },
  {
   "cell_type": "code",
   "execution_count": 91,
   "id": "d76a6810-4492-4626-832f-f1924096cbde",
   "metadata": {},
   "outputs": [
    {
     "data": {
      "text/plain": [
       "('./saved_model\\\\tokenizer_78b3253a26.model', './saved_model\\\\vocab.txt')"
      ]
     },
     "execution_count": 91,
     "metadata": {},
     "output_type": "execute_result"
    }
   ],
   "source": [
    "import os\n",
    "\n",
    "save_path = \"./saved_model\"\n",
    "os.makedirs(save_path, exist_ok=True)\n",
    "\n",
    "# tokenizer 저장\n",
    "tokenizer.save_vocabulary(save_path)"
   ]
  },
  {
   "cell_type": "code",
   "execution_count": 100,
   "id": "e6e8b074-eee0-48fc-8f17-9a2d9f55917e",
   "metadata": {},
   "outputs": [
    {
     "name": "stdout",
     "output_type": "stream",
     "text": [
      "C:\\Users\\hye42\\Korean_Voice_Phishing_Detection\\KoBERT\n"
     ]
    }
   ],
   "source": [
    "import os\n",
    "print(os.getcwd())"
   ]
  },
  {
   "cell_type": "code",
   "execution_count": 101,
   "id": "8e8fbd9f-7e97-41b0-9c63-cf9f58844ed0",
   "metadata": {},
   "outputs": [],
   "source": [
    "import sys\n",
    "sys.path.append('..')  # 현재 디렉토리를 모듈 검색 경로에 추가\n",
    "\n",
    "from tokenization_kobert import KoBertTokenizer # ✅ 직접 불러오기"
   ]
  },
  {
   "cell_type": "code",
   "execution_count": 109,
   "id": "2c01451e-c47f-432f-9e6d-afe2359c77d4",
   "metadata": {
    "scrolled": true
   },
   "outputs": [
    {
     "name": "stderr",
     "output_type": "stream",
     "text": [
      "Some layers from the model checkpoint at ./saved_model were not used when initializing TFBertForSequenceClassification: ['dropout_37']\n",
      "- This IS expected if you are initializing TFBertForSequenceClassification from the checkpoint of a model trained on another task or with another architecture (e.g. initializing a BertForSequenceClassification model from a BertForPreTraining model).\n",
      "- This IS NOT expected if you are initializing TFBertForSequenceClassification from the checkpoint of a model that you expect to be exactly identical (initializing a BertForSequenceClassification model from a BertForSequenceClassification model).\n",
      "All the layers of TFBertForSequenceClassification were initialized from the model checkpoint at ./saved_model.\n",
      "If your task is similar to the task the model of the checkpoint was trained on, you can already use TFBertForSequenceClassification for predictions without further training.\n"
     ]
    }
   ],
   "source": [
    "from transformers import TFAutoModelForSequenceClassification\n",
    "import tensorflow as tf\n",
    "\n",
    "# 모델과 토크나이저 불러오기\n",
    "model = TFAutoModelForSequenceClassification.from_pretrained(\"./saved_model\")\n",
    "tokenizer = KoBertTokenizer(\n",
    "    vocab_file=\"./saved_model/tokenizer_78b3253a26.model\",\n",
    "    vocab_txt=\"C:/Users/hye42/Korean_Voice_Phishing_Detection/KoBERT/saved_model/vocab.txt\"\n",
    ")\n",
    "\n",
    "def predict(text):\n",
    "    inputs = tokenizer(text, return_tensors=\"tf\", truncation=True, padding=True, max_length=512)\n",
    "    outputs = model(inputs)\n",
    "    logits = outputs.logits\n",
    "    predicted_class = tf.argmax(logits, axis=1).numpy()[0]\n",
    "    confidence = tf.nn.softmax(logits, axis=1).numpy()[0][predicted_class]\n",
    "    return {\n",
    "        \"prediction\": int(predicted_class),\n",
    "        \"confidence\": float(confidence)\n",
    "    }"
   ]
  },
  {
   "cell_type": "code",
   "execution_count": 110,
   "id": "610f12a9-6461-464a-b965-8d22ba42070e",
   "metadata": {},
   "outputs": [
    {
     "name": "stdout",
     "output_type": "stream",
     "text": [
      "{'prediction': 1, 'confidence': 0.9993605017662048}\n"
     ]
    }
   ],
   "source": [
    "print(predict(\"이 계좌로 입금해주시면 됩니다\"))  # 예시 문장"
   ]
  },
  {
   "cell_type": "code",
   "execution_count": 113,
   "id": "630959a9-28f1-4552-a1e0-b0f7171e4819",
   "metadata": {},
   "outputs": [
    {
     "name": "stdout",
     "output_type": "stream",
     "text": [
      "{'prediction': 1, 'confidence': 0.9994959831237793}\n"
     ]
    }
   ],
   "source": [
    "print(predict(\"엄마 나 해민인데 나 카드 놓고와서 이계좌로 500만원만, 이거 지금 안 주면 나 신용불량자 됨 ㅠ\"))"
   ]
  },
  {
   "cell_type": "code",
   "execution_count": 114,
   "id": "47f5e857-88d8-4628-884f-61bfac9489a6",
   "metadata": {},
   "outputs": [
    {
     "name": "stdout",
     "output_type": "stream",
     "text": [
      "{'prediction': 1, 'confidence': 0.9991216063499451}\n"
     ]
    }
   ],
   "source": [
    "print(predict(\"안녕 혜원아 뭐하니\"))"
   ]
  },
  {
   "cell_type": "code",
   "execution_count": 115,
   "id": "2c22f39e-5ecd-4991-ba7c-1bca5806dddd",
   "metadata": {},
   "outputs": [
    {
     "name": "stdout",
     "output_type": "stream",
     "text": [
      "{'prediction': 1, 'confidence': 0.9688721895217896}\n"
     ]
    }
   ],
   "source": [
    "print(predict(\"내일 점심 라멘 먹을까 떡볶이 먹을까 ? 라멘은 3000원 떡볶이는 5000원\"))"
   ]
  },
  {
   "cell_type": "code",
   "execution_count": 133,
   "id": "0bb077df-508c-425b-8856-30178e8d2b0a",
   "metadata": {},
   "outputs": [
    {
     "name": "stdout",
     "output_type": "stream",
     "text": [
      "{'prediction': 1, 'confidence': 0.9300678968429565}\n"
     ]
    }
   ],
   "source": [
    "print(predict(\"드라마 추천좀\"))"
   ]
  },
  {
   "cell_type": "code",
   "execution_count": 87,
   "id": "1a3ad9c544a17f39",
   "metadata": {
    "ExecuteTime": {
     "end_time": "2023-12-08T06:01:32.500324700Z",
     "start_time": "2023-12-08T06:01:11.273925800Z"
    },
    "collapsed": false,
    "jupyter": {
     "outputs_hidden": false
    },
    "scrolled": true
   },
   "outputs": [],
   "source": [
    "# Train the model\n",
    "# history = model.fit(train_dataset, epochs=epochs, validation_data=(test_inputs[\"input_ids\"], test_labels))\n",
    "\n",
    "# history = model.fit(train_dataset, epochs=epochs, validation_data=(test_inputs[\"input_ids\"], test_labels))\n",
    "# history = model.fit(train_dataset)"
   ]
  },
  {
   "cell_type": "markdown",
   "id": "cc1a04c769c85fb2",
   "metadata": {
    "collapsed": false,
    "jupyter": {
     "outputs_hidden": false
    }
   },
   "source": [
    "#### Tokenize dataset OLD method"
   ]
  },
  {
   "cell_type": "code",
   "execution_count": null,
   "id": "bf7084b85b9b1554",
   "metadata": {
    "ExecuteTime": {
     "end_time": "2023-12-08T06:00:03.563051700Z",
     "start_time": "2023-12-08T06:00:03.523289400Z"
    },
    "collapsed": false,
    "jupyter": {
     "outputs_hidden": false
    }
   },
   "outputs": [],
   "source": [
    "# # Tokenize all of the sentences and map the tokens to thier word IDs.\n",
    "# # Map to the expected input to TFBertForSequenceClassification, see https://huggingface.co/transformers/model_doc/bert.html#tfbertforsequenceclassification\n",
    "# train_input_ids = []\n",
    "# train_attention_masks = []\n",
    "# \n",
    "# validation_input_ids = []\n",
    "# validation_attention_masks = []\n",
    "# \n",
    "# # For every sentence...\n",
    "# for train_sent, validation_sent in zip(train_inputs, validation_inputs):\n",
    "#     # `encode_plus` will:\n",
    "#     #   (1) Tokenize the sentence.\n",
    "#     #   (2) Prepend the `[CLS]` token to the start.\n",
    "#     #   (3) Append the `[SEP]` token to the end.\n",
    "#     #   (4) Map tokens to their IDs.\n",
    "#     #   (5) Pad or truncate the sentence to `max_length`\n",
    "#     #   (6) Create attention masks for [PAD] tokens.\n",
    "#     train_encoded_dict = tokenizer1.encode_plus(\n",
    "#                         train_sent,                      # Sentence to encode.\n",
    "#                         add_special_tokens = True, # Add '[CLS]' and '[SEP]'\n",
    "#                         max_length = 64,           # Pad & truncate all sentences.\n",
    "#                         padding='max_length',\n",
    "#                         return_attention_mask = True,   # Construct attn. masks.\n",
    "#                         truncation=True,\n",
    "#                         return_tensors = 'tf',     # Return tensorflow tensor.\n",
    "#                    )\n",
    "#     validation_encoded_dict = tokenizer1.encode_plus(\n",
    "#                         validation_sent,                      # Sentence to encode.\n",
    "#                         add_special_tokens = True, # Add '[CLS]' and '[SEP]'\n",
    "#                         max_length = 64,           # Pad & truncate all sentences.\n",
    "#                         padding='max_length',\n",
    "#                         return_attention_mask = True,   # Construct attn. masks.\n",
    "#                         truncation=True,\n",
    "#                         return_tensors = 'tf',     # Return tensorflow tensor.\n",
    "#                    )\n",
    "#     \n",
    "#     # Add the encoded sentence to the list.    \n",
    "#     train_input_ids.append(train_encoded_dict['input_ids'])\n",
    "#     train_attention_masks.append(train_encoded_dict['attention_mask'])\n",
    "#     validation_input_ids.append(validation_encoded_dict['input_ids'])\n",
    "#     validation_attention_masks.append(validation_encoded_dict['attention_mask'])"
   ]
  },
  {
   "cell_type": "code",
   "execution_count": null,
   "id": "2c3b2b750b1a8069",
   "metadata": {
    "ExecuteTime": {
     "start_time": "2023-12-08T06:00:03.524288500Z"
    },
    "collapsed": false,
    "jupyter": {
     "outputs_hidden": false
    }
   },
   "outputs": [],
   "source": [
    "# # Convert the lists into tensors.\n",
    "# train_input_ids = tf.convert_to_tensor(train_input_ids)\n",
    "# train_attention_masks = tf.convert_to_tensor(train_attention_masks)\n",
    "# train_labels = tf.convert_to_tensor(train_labels)\n",
    "# \n",
    "# validation_input_ids = tf.convert_to_tensor(validation_input_ids)\n",
    "# validation_attention_masks = tf.convert_to_tensor(validation_attention_masks)\n",
    "# validation_labels = tf.convert_to_tensor(validation_labels)\n",
    "# \n",
    "# # Print sentence 0, now as a list of IDs.\n",
    "# print('Original: ', train_inputs[0])\n",
    "# print('Token IDs:', train_input_ids[0])"
   ]
  },
  {
   "cell_type": "code",
   "execution_count": null,
   "id": "ce34a95a383f2f6e",
   "metadata": {
    "ExecuteTime": {
     "start_time": "2023-12-08T06:00:03.526288400Z"
    },
    "collapsed": false,
    "jupyter": {
     "outputs_hidden": false
    }
   },
   "outputs": [],
   "source": [
    "# # prepare the dataset for training\n",
    "# train_dataset = tf.data.Dataset.from_tensor_slices((train_input_ids, train_attention_masks, train_labels))\n",
    "# validation_dataset = tf.data.Dataset.from_tensor_slices((validation_input_ids, validation_attention_masks, validation_labels))"
   ]
  },
  {
   "cell_type": "code",
   "execution_count": null,
   "id": "61aeb14810de4a0f",
   "metadata": {
    "ExecuteTime": {
     "start_time": "2023-12-08T06:00:03.527288500Z"
    },
    "collapsed": false,
    "jupyter": {
     "outputs_hidden": false
    }
   },
   "outputs": [],
   "source": [
    "# # shuffle the dataset\n",
    "# train_dataset = train_dataset.shuffle(len(train_input_ids)).batch(32)\n",
    "# validation_dataset = validation_dataset.shuffle(len(validation_input_ids)).batch(32)"
   ]
  },
  {
   "cell_type": "code",
   "execution_count": null,
   "id": "605e3e439c579b30",
   "metadata": {
    "ExecuteTime": {
     "start_time": "2023-12-08T06:00:03.528287900Z"
    },
    "collapsed": false,
    "jupyter": {
     "outputs_hidden": false
    }
   },
   "outputs": [],
   "source": [
    "# # print the shape of the dataset\n",
    "# print(train_dataset)\n",
    "# print(validation_dataset)"
   ]
  },
  {
   "cell_type": "markdown",
   "id": "3b52be53d2a65b4a",
   "metadata": {
    "collapsed": false,
    "jupyter": {
     "outputs_hidden": false
    }
   },
   "source": []
  },
  {
   "cell_type": "markdown",
   "id": "6690a0c7437900db",
   "metadata": {
    "collapsed": false,
    "jupyter": {
     "outputs_hidden": false
    }
   },
   "source": [
    "#### Train the korean BERT model"
   ]
  },
  {
   "cell_type": "code",
   "execution_count": null,
   "id": "71937f4516e81c88",
   "metadata": {
    "ExecuteTime": {
     "start_time": "2023-12-08T06:00:03.529293600Z"
    },
    "collapsed": false,
    "jupyter": {
     "outputs_hidden": false
    }
   },
   "outputs": [],
   "source": [
    "# #Function to get all the model settings and parameters\n",
    "# def get_model_settings(model):\n",
    "#     print('Model Name: ', model.name_or_path)\n",
    "#     print('Model Type: ', model.__class__)\n",
    "#     print('Model Parameters: ', model.config)\n",
    "#     # print('Model Parameters: ', model.config.to_dict())\n",
    "#     # print('Model Parameters: ', model.config.to_json_string())\n",
    "#     # print('Model Parameters: ', model.config.to_yaml())\n",
    "#     # print('Model Parameters: ', model.config.to_dict())\n",
    "#     # print('Model Parameters: ', model.config.to_diff_dict())\n",
    "#     # print('Model Parameters: ', model.config.to_json_file())\n",
    "#     # print('Model Parameters: ', model.config.to_json_string())\n",
    "#     # print('Model Parameters: ', model.config.to_pretrained_dict())\n",
    "#     # print('Model Parameters: ', model.config.to_yaml())\n",
    "#     # print('Model Parameters: ', model.config.to_dict())\n",
    "#     # print('Model Parameters: ', model.config.to_diff_dict())\n",
    "#     # print('Model Parameters: ', model.config.to_json_file())\n",
    "#     # print('Model Parameters: ', model.config.to_json_string())\n",
    "#     # print('Model Parameters: ', model.config.to_pretrained_dict())\n",
    "#     # print('Model Parameters: ', model.config.to_yaml())\n",
    "#     # print('Model Parameters: ', model.config.to_dict())\n",
    "#     # print('Model Parameters: ', model.config.to_diff_dict())\n",
    "#     # print('Model Parameters: ', model.config.to_json_file())\n",
    "#     # print('Model Parameters: ', model.config.to_json_string())\n",
    "#     # print('Model Parameters: ', model.config.to_pretrained_dict())\n",
    "#     # print('Model Parameters: ', model.config.to_yaml())\n",
    "#     # print('Model Parameters: ', model.config.to_dict())\n",
    "#     # print('Model Parameters: ', model.config.to_diff_dict())\n",
    "#     # print('Model Parameters: ', model.config.to_json_file())\n",
    "#     # print('Model Parameters: ', model.config.to_json_string())\n",
    "#     # print('Model Parameters: ', model.config.to_pretrained_dict())\n",
    "#     # print('Model Parameters: ', model.config.to_yaml())\n",
    "#     # print('Model Parameters: ', model.config.to_dict())\n",
    "#     # print('Model Parameters: ', model.config.to_diff_dict())\n",
    "#     # print('Model Parameters: ', model.config.to_json_file())\n",
    "#     # print('Model Parameters: ', model.config.to_json_string())\n",
    "#     # print('Model Parameters: ', model.config.to_pretrained_dict())\n",
    "#     # print('Model Parameters: ', model.config.to_yaml())\n",
    "#     # print('Model Parameters: ', model.config.to_dict())\n",
    "#     # print('Model Parameters: ', model.config.to_diff_dict())\n",
    "#     # print('Model Parameters: ', model.config.to_json_file())\n"
   ]
  },
  {
   "cell_type": "code",
   "execution_count": null,
   "id": "8701d4f98c39ce94",
   "metadata": {
    "ExecuteTime": {
     "start_time": "2023-12-08T06:00:03.530796Z"
    },
    "collapsed": false,
    "jupyter": {
     "outputs_hidden": false
    }
   },
   "outputs": [],
   "source": [
    "# # function to get the model detail after compiling\n",
    "# def get_model_details(model):\n",
    "#     print('Model Name: ', model.name)\n",
    "#     print('Model Type: ', model.__class__)\n",
    "#     print('Model Parameters: ', model.count_params())\n",
    "#     print('Model Parameters: ', model.summary())\n",
    "#     # print('Model Parameters: ', model.weights)\n",
    "#     # print('Model Parameters: ', model.trainable_weights)\n",
    "#     # print('Model Parameters: ', model.non_trainable_weights)\n",
    "#     # print('Model Parameters: ', model.layers)\n",
    "#     # print('Model Parameters: ', model.layers[0].name)\n",
    "#     # print('Model Parameters: ', model.layers[0].trainable)\n",
    "#     # print('Model Parameters: ', model.layers[0].count_params())\n",
    "#     # print('Model Parameters: ', model.layers[0].input_shape)\n",
    "#     # print('Model Parameters: ', model.layers[0].output_shape)\n",
    "#     # print('Model Parameters: ', model.layers[0].get_weights())\n",
    "#     # print('Model Parameters: ', model.layers[0].get_weights()[0].shape)\n",
    "#     # print('Model Parameters: ', model.layers[0].get_weights()[1].shape)\n",
    "#     # print('Model Parameters: ', model.layers[0].get_weights()[0])\n",
    "#     # print('Model Parameters: ', model.layers[0].get_weights()[1])\n",
    "#     # print('Model Parameters: ', model.layers[0].get_weights()[0].size)\n",
    "#     # print('Model Parameters: ', model.layers[0].get_weights()[1].size)\n",
    "#     # print('Model Parameters: ', model.layers[0].get_weights()[0].nbytes)\n",
    "#     # print('Model Parameters: ', model.layers[0].get_weights()[1].nbytes)\n",
    "#     # print('Model Parameters: ', model.layers[0].get_weights()[0].itemsize)\n",
    "#     # print('Model Parameters: ', model.layers[0].get_weights()[1].itemsize)\n",
    "#     # print('Model Parameters: ', model.layers[0].get_weights()[0].dtype)\n",
    "#     # print('Model Parameters: ', model.layers[0].get_weights()[1].dtype)\n",
    "#     # print('Model Parameters: ', model.layers[0].get_weights()[0].ndim)\n",
    "#     # print('Model Parameters: ', model.layers[0].get_weights()[1].ndim)\n",
    "#     # print('Model Parameters: ', model.layers[0].get_weights()[0].shape)\n",
    "#     # print('Model Parameters: ', model.layers[0].get_weights()[1].shape)\n",
    "#     # print('Model Parameters: ', model.layers[0].get_weights()[0].flatten())\n",
    "#     # print('Model Parameters: ', model.layers[0].get_weights()[0].flatten().shape)\n",
    "#     # print('Model Parameters: ', model.layers[0].get_weights()[1].flatten())\n",
    "#     # print('Model Parameters: ', model.layers[0].get_weights()[1].flatten().shape)  \n",
    "#     # print('Model Parameters: ', model.layers[0].get_weights()[0].flatten().size)\n",
    "#     # print('Model Parameters: ', model.layers[0].get_weights()[1].flatten().size)\n",
    "#     # print('Model Parameters: ', model.layers[0].get_weights()[0].flatten().nbytes)\n",
    "#     # print('Model Parameters: ', model.layers[0].get_weights()[1].flatten().nbytes)\n",
    "#     # print('Model Parameters: ', model.layers[0].get_weights()[0].flatten().itemsize)\n",
    "#     # print('Model Parameters: ', model.layers[0].get_weights()[1].flatten().itemsize)   "
   ]
  },
  {
   "cell_type": "code",
   "execution_count": null,
   "id": "8dcfcc66dd93cc60",
   "metadata": {
    "ExecuteTime": {
     "start_time": "2023-12-08T06:00:03.531805200Z"
    },
    "collapsed": false,
    "jupyter": {
     "outputs_hidden": false
    }
   },
   "outputs": [],
   "source": [
    "# # Load the pre-trained KoBERT model\n",
    "# model = TFBertForSequenceClassification.from_pretrained(model_name, num_labels=2, from_pt=True)"
   ]
  },
  {
   "cell_type": "code",
   "execution_count": null,
   "id": "5928a9a0bc96d2d6",
   "metadata": {
    "ExecuteTime": {
     "start_time": "2023-12-08T06:00:03.534318100Z"
    },
    "collapsed": false,
    "jupyter": {
     "outputs_hidden": false
    }
   },
   "outputs": [],
   "source": [
    "\n",
    "# model1 = TFAutoModelForSequenceClassification.from_pretrained(model_name, num_labels=2, from_pt=True)"
   ]
  },
  {
   "cell_type": "code",
   "execution_count": null,
   "id": "ab760c02b518245c",
   "metadata": {
    "ExecuteTime": {
     "start_time": "2023-12-08T06:00:03.535333800Z"
    },
    "collapsed": false,
    "jupyter": {
     "outputs_hidden": false
    }
   },
   "outputs": [],
   "source": [
    "# model0 = TFBertModel.from_pretrained(model_name, from_pt=True,num_labels=2)"
   ]
  },
  {
   "cell_type": "code",
   "execution_count": null,
   "id": "561516085c1b1217",
   "metadata": {
    "ExecuteTime": {
     "start_time": "2023-12-08T06:00:03.536333100Z"
    },
    "collapsed": false,
    "jupyter": {
     "outputs_hidden": false
    }
   },
   "outputs": [],
   "source": [
    "# model2 = AutoModelForSequenceClassification.from_pretrained(model_name, num_labels=2)"
   ]
  },
  {
   "cell_type": "code",
   "execution_count": null,
   "id": "461c56653d47beee",
   "metadata": {
    "ExecuteTime": {
     "start_time": "2023-12-08T06:00:03.537330800Z"
    },
    "collapsed": false,
    "jupyter": {
     "outputs_hidden": false
    }
   },
   "outputs": [],
   "source": [
    "# # Get the model settings and parameters\n",
    "# get_model_settings(model)\n",
    "# print('#'*100)"
   ]
  },
  {
   "cell_type": "code",
   "execution_count": null,
   "id": "e3fc12712baaeac8",
   "metadata": {
    "ExecuteTime": {
     "start_time": "2023-12-08T06:00:03.539330Z"
    },
    "collapsed": false,
    "jupyter": {
     "outputs_hidden": false
    }
   },
   "outputs": [],
   "source": [
    "# # Get the model settings and parameters\n",
    "# get_model_settings(model1)\n",
    "# print('#'*100)"
   ]
  },
  {
   "cell_type": "code",
   "execution_count": null,
   "id": "7ff06e6ca19e3d09",
   "metadata": {
    "ExecuteTime": {
     "start_time": "2023-12-08T06:00:03.540331300Z"
    },
    "collapsed": false,
    "jupyter": {
     "outputs_hidden": false
    }
   },
   "outputs": [],
   "source": [
    "# # Get the model settings and parameters\n",
    "# get_model_settings(model0)\n",
    "# print('#'*100)"
   ]
  },
  {
   "cell_type": "code",
   "execution_count": null,
   "id": "afb1c5704dc40390",
   "metadata": {
    "ExecuteTime": {
     "start_time": "2023-12-08T06:00:03.540331300Z"
    },
    "collapsed": false,
    "jupyter": {
     "outputs_hidden": false
    }
   },
   "outputs": [],
   "source": [
    "# # Get the model settings and parameters\n",
    "# get_model_settings(model2)\n",
    "# print('#'*100)"
   ]
  },
  {
   "cell_type": "code",
   "execution_count": null,
   "id": "239145c7ca7ae441",
   "metadata": {
    "ExecuteTime": {
     "start_time": "2023-12-08T06:00:03.541329600Z"
    },
    "collapsed": false,
    "jupyter": {
     "outputs_hidden": false
    }
   },
   "outputs": [],
   "source": [
    "# compare all the models parameters\n",
    "# model.config == model1.config == model0.config == model2.config"
   ]
  },
  {
   "cell_type": "code",
   "execution_count": null,
   "id": "c09113ef2b13cd58",
   "metadata": {
    "ExecuteTime": {
     "start_time": "2023-12-08T06:00:03.542330Z"
    },
    "collapsed": false,
    "jupyter": {
     "outputs_hidden": false
    }
   },
   "outputs": [],
   "source": [
    "# # Define model hyperparameters\n",
    "# batch_size = 32\n",
    "# # epochs = 5\n",
    "# # Lower learning rates are often better for fine-tuning transformers\n",
    "# learning_rate = 3e-5    #2e-5, 5e-5, 4e-5 \n",
    "# weight_decay_rate=0.01\n",
    "# \n",
    "# # Define the optimizer\n",
    "# optimizer = AdamWeightDecay(learning_rate=learning_rate)      # No loss argument!"
   ]
  },
  {
   "cell_type": "code",
   "execution_count": null,
   "id": "319270a584b35760",
   "metadata": {
    "ExecuteTime": {
     "start_time": "2023-12-08T06:00:03.544009800Z"
    },
    "collapsed": false,
    "jupyter": {
     "outputs_hidden": false
    }
   },
   "outputs": [],
   "source": [
    "# Compile the model\n",
    "# model.compile(optimizer=optimizer)"
   ]
  },
  {
   "cell_type": "code",
   "execution_count": null,
   "id": "63198c6006495916",
   "metadata": {
    "ExecuteTime": {
     "start_time": "2023-12-08T06:00:03.545022400Z"
    },
    "collapsed": false,
    "jupyter": {
     "outputs_hidden": false
    }
   },
   "outputs": [],
   "source": [
    "# Get the model details\n",
    "# get_model_details(model)"
   ]
  },
  {
   "cell_type": "code",
   "execution_count": null,
   "id": "c673e991176a2f14",
   "metadata": {
    "ExecuteTime": {
     "start_time": "2023-12-08T06:00:03.546022700Z"
    },
    "collapsed": false,
    "jupyter": {
     "outputs_hidden": false
    }
   },
   "outputs": [],
   "source": [
    "# # train the model\n",
    "# history = model.fit(x={'input_ids': train_input_ids, 'attention_mask': train_attention_masks},\n",
    "#                     y=train_labels,\n",
    "#                     # batch_size=batch_size,\n",
    "#                     # epochs=epochs,\n",
    "#                     validation_data=({'input_ids': validation_input_ids, 'attention_mask': validation_attention_masks}, validation_labels))\n"
   ]
  },
  {
   "cell_type": "code",
   "execution_count": null,
   "id": "56bd90b26f8de9d6",
   "metadata": {
    "ExecuteTime": {
     "start_time": "2023-12-08T06:00:03.547021400Z"
    },
    "collapsed": false,
    "jupyter": {
     "outputs_hidden": false
    }
   },
   "outputs": [],
   "source": [
    "# model.fit(tokenized_data, labels)"
   ]
  },
  {
   "cell_type": "code",
   "execution_count": null,
   "id": "b182c8138793ea91",
   "metadata": {
    "ExecuteTime": {
     "start_time": "2023-12-08T06:00:03.548020200Z"
    },
    "collapsed": false,
    "jupyter": {
     "outputs_hidden": false
    }
   },
   "outputs": [],
   "source": [
    "# # Fucntion to get all the model parameters and their shape and size in MB \n",
    "# def get_model_memory_usage(batch_size, mymodel):\n",
    "#     shapes_mem_count = 0\n",
    "#     for p in mymodel.trainable_weights:\n",
    "#         shapes_mem_count += np.prod(p.shape)\n",
    "#     # shapes_mem_count *= batch_size\n",
    "#     # shapes_mem_count *= 4  # fp32 bits/element\n",
    "#     # shapes_mem_count /= 1024**2\n",
    "#     # print('Model size (MB):', shapes_mem_count)\n",
    "#     return shapes_mem_count"
   ]
  },
  {
   "cell_type": "code",
   "execution_count": null,
   "id": "87384c888b80d7cb",
   "metadata": {
    "ExecuteTime": {
     "end_time": "2023-12-08T06:00:03.710652500Z",
     "start_time": "2023-12-08T06:00:03.595094400Z"
    },
    "collapsed": false,
    "jupyter": {
     "outputs_hidden": false
    }
   },
   "outputs": [],
   "source": [
    "# #put the bellow in a function\n",
    "# def mode_info(model):\n",
    "#     model.config\n",
    "#     # Getthe model weights\n",
    "#     model.get_weights()\n",
    "#     # Getthe model summary\n",
    "#     model.summary()\n",
    "#     # Getthe model layers\n",
    "#     model.layers\n",
    "#     # Getthe model input\n",
    "#     model.input\n",
    "#     # Getthe model output\n",
    "#     model.output\n",
    "#     # Getthe model loss\n",
    "#     model.loss\n",
    "#     # Getthe model metrics\n",
    "#     model.metrics\n",
    "#     # Getthe model optimizer\n",
    "#     model.optimizer\n",
    "#     # Getthe model sample weight mode\n",
    "#     model.sample_weight_mode"
   ]
  }
 ],
 "metadata": {
  "kernelspec": {
   "display_name": "Python (venv)",
   "language": "python",
   "name": "venv"
  },
  "language_info": {
   "codemirror_mode": {
    "name": "ipython",
    "version": 3
   },
   "file_extension": ".py",
   "mimetype": "text/x-python",
   "name": "python",
   "nbconvert_exporter": "python",
   "pygments_lexer": "ipython3",
   "version": "3.11.7"
  }
 },
 "nbformat": 4,
 "nbformat_minor": 5
}
